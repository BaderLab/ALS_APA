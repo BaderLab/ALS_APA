{
 "cells": [
  {
   "cell_type": "code",
   "execution_count": 1,
   "id": "a0ba4b41-feae-4a83-9156-142386cebb7c",
   "metadata": {
    "vscode": {
     "languageId": "r"
    }
   },
   "outputs": [],
   "source": [
    "library(MAAPER)\n",
    "root <- '/data1/APA/Paul_ALS_Data/bams_in/subscelltype_bamfiles/'"
   ]
  },
  {
   "cell_type": "code",
   "execution_count": 2,
   "id": "2b79353b-28a0-472a-8586-afd4c072c98c",
   "metadata": {
    "vscode": {
     "languageId": "r"
    }
   },
   "outputs": [
    {
     "data": {
      "text/html": [
       "<style>\n",
       ".list-inline {list-style: none; margin:0; padding: 0}\n",
       ".list-inline>li {display: inline-block}\n",
       ".list-inline>li:not(:last-child)::after {content: \"\\00b7\"; padding: 0 .5ex}\n",
       "</style>\n",
       "<ol class=list-inline><li>'AST-FB'</li><li>'AST-PP'</li><li>'Astrocytes'</li><li>'Endothelial'</li><li>'Excitatory'</li><li>'human.PAS.hg38.rds'</li><li>'IN-PV'</li><li>'IN-SST'</li><li>'IN-SV2C'</li><li>'IN-VIP'</li><li>'Inhibitory'</li><li>'L2-3'</li><li>'L4'</li><li>'L5-6'</li><li>'L5-6-CC'</li><li>'Mapper_outs'</li><li>'Microglia'</li><li>'Neu-NRGN-II'</li><li>'Oligodendrocytes'</li><li>'OPC'</li><li>'tst_APALog_Res.tsv'</li></ol>\n"
      ],
      "text/latex": [
       "\\begin{enumerate*}\n",
       "\\item 'AST-FB'\n",
       "\\item 'AST-PP'\n",
       "\\item 'Astrocytes'\n",
       "\\item 'Endothelial'\n",
       "\\item 'Excitatory'\n",
       "\\item 'human.PAS.hg38.rds'\n",
       "\\item 'IN-PV'\n",
       "\\item 'IN-SST'\n",
       "\\item 'IN-SV2C'\n",
       "\\item 'IN-VIP'\n",
       "\\item 'Inhibitory'\n",
       "\\item 'L2-3'\n",
       "\\item 'L4'\n",
       "\\item 'L5-6'\n",
       "\\item 'L5-6-CC'\n",
       "\\item 'Mapper\\_outs'\n",
       "\\item 'Microglia'\n",
       "\\item 'Neu-NRGN-II'\n",
       "\\item 'Oligodendrocytes'\n",
       "\\item 'OPC'\n",
       "\\item 'tst\\_APALog\\_Res.tsv'\n",
       "\\end{enumerate*}\n"
      ],
      "text/markdown": [
       "1. 'AST-FB'\n",
       "2. 'AST-PP'\n",
       "3. 'Astrocytes'\n",
       "4. 'Endothelial'\n",
       "5. 'Excitatory'\n",
       "6. 'human.PAS.hg38.rds'\n",
       "7. 'IN-PV'\n",
       "8. 'IN-SST'\n",
       "9. 'IN-SV2C'\n",
       "10. 'IN-VIP'\n",
       "11. 'Inhibitory'\n",
       "12. 'L2-3'\n",
       "13. 'L4'\n",
       "14. 'L5-6'\n",
       "15. 'L5-6-CC'\n",
       "16. 'Mapper_outs'\n",
       "17. 'Microglia'\n",
       "18. 'Neu-NRGN-II'\n",
       "19. 'Oligodendrocytes'\n",
       "20. 'OPC'\n",
       "21. 'tst_APALog_Res.tsv'\n",
       "\n",
       "\n"
      ],
      "text/plain": [
       " [1] \"AST-FB\"             \"AST-PP\"             \"Astrocytes\"        \n",
       " [4] \"Endothelial\"        \"Excitatory\"         \"human.PAS.hg38.rds\"\n",
       " [7] \"IN-PV\"              \"IN-SST\"             \"IN-SV2C\"           \n",
       "[10] \"IN-VIP\"             \"Inhibitory\"         \"L2-3\"              \n",
       "[13] \"L4\"                 \"L5-6\"               \"L5-6-CC\"           \n",
       "[16] \"Mapper_outs\"        \"Microglia\"          \"Neu-NRGN-II\"       \n",
       "[19] \"Oligodendrocytes\"   \"OPC\"                \"tst_APALog_Res.tsv\""
      ]
     },
     "metadata": {},
     "output_type": "display_data"
    }
   ],
   "source": [
    "## lets run it for AST-FB and AST-PP\n",
    "setwd(root)\n",
    "list.files()"
   ]
  },
  {
   "cell_type": "code",
   "execution_count": 75,
   "id": "9f062d29-6885-4e2c-b5c0-af476bd409db",
   "metadata": {
    "vscode": {
     "languageId": "r"
    }
   },
   "outputs": [
    {
     "data": {
      "text/html": [
       "<style>\n",
       ".list-inline {list-style: none; margin:0; padding: 0}\n",
       ".list-inline>li {display: inline-block}\n",
       ".list-inline>li:not(:last-child)::after {content: \"\\00b7\"; padding: 0 .5ex}\n",
       "</style>\n",
       "<ol class=list-inline><li>'ast_FB_C9ALSFTLD_pseudoB.bam'</li><li>'ast_FB_C9ALSnoFTLD_pseudoB.bam'</li><li>'ast_FB_control_pseudoB.bam'</li><li>'ast_FB_sALSnoFTLD_pseudoB.bam'</li><li>'C9ALSFTLD1_CTfiltered.bam'</li><li>'C9ALSFTLD2_CTfiltered.bam'</li><li>'C9ALSFTLD3_CTfiltered.bam'</li><li>'C9ALSFTLD4_CTfiltered.bam'</li><li>'C9ALSnoFTLD1_CTfiltered.bam'</li><li>'C9ALSnoFTLD3_CTfiltered.bam'</li><li>'C9noALSnoFTLD_CTfiltered.bam'</li><li>'CTRL1_CTfiltered.bam'</li><li>'CTRL2_CTfiltered.bam'</li><li>'CTRL3_CTfiltered.bam'</li><li>'CTRL4_CTfiltered.bam'</li><li>'CTRL5_CTfiltered.bam'</li><li>'CTRL6_CTfiltered.bam'</li><li>'sALSnoFTLD4_CTfiltered.bam'</li><li>'sALSnoFTLD5_CTfiltered.bam'</li><li>'sALSnoFTLD8_CTfiltered.bam'</li></ol>\n"
      ],
      "text/latex": [
       "\\begin{enumerate*}\n",
       "\\item 'ast\\_FB\\_C9ALSFTLD\\_pseudoB.bam'\n",
       "\\item 'ast\\_FB\\_C9ALSnoFTLD\\_pseudoB.bam'\n",
       "\\item 'ast\\_FB\\_control\\_pseudoB.bam'\n",
       "\\item 'ast\\_FB\\_sALSnoFTLD\\_pseudoB.bam'\n",
       "\\item 'C9ALSFTLD1\\_CTfiltered.bam'\n",
       "\\item 'C9ALSFTLD2\\_CTfiltered.bam'\n",
       "\\item 'C9ALSFTLD3\\_CTfiltered.bam'\n",
       "\\item 'C9ALSFTLD4\\_CTfiltered.bam'\n",
       "\\item 'C9ALSnoFTLD1\\_CTfiltered.bam'\n",
       "\\item 'C9ALSnoFTLD3\\_CTfiltered.bam'\n",
       "\\item 'C9noALSnoFTLD\\_CTfiltered.bam'\n",
       "\\item 'CTRL1\\_CTfiltered.bam'\n",
       "\\item 'CTRL2\\_CTfiltered.bam'\n",
       "\\item 'CTRL3\\_CTfiltered.bam'\n",
       "\\item 'CTRL4\\_CTfiltered.bam'\n",
       "\\item 'CTRL5\\_CTfiltered.bam'\n",
       "\\item 'CTRL6\\_CTfiltered.bam'\n",
       "\\item 'sALSnoFTLD4\\_CTfiltered.bam'\n",
       "\\item 'sALSnoFTLD5\\_CTfiltered.bam'\n",
       "\\item 'sALSnoFTLD8\\_CTfiltered.bam'\n",
       "\\end{enumerate*}\n"
      ],
      "text/markdown": [
       "1. 'ast_FB_C9ALSFTLD_pseudoB.bam'\n",
       "2. 'ast_FB_C9ALSnoFTLD_pseudoB.bam'\n",
       "3. 'ast_FB_control_pseudoB.bam'\n",
       "4. 'ast_FB_sALSnoFTLD_pseudoB.bam'\n",
       "5. 'C9ALSFTLD1_CTfiltered.bam'\n",
       "6. 'C9ALSFTLD2_CTfiltered.bam'\n",
       "7. 'C9ALSFTLD3_CTfiltered.bam'\n",
       "8. 'C9ALSFTLD4_CTfiltered.bam'\n",
       "9. 'C9ALSnoFTLD1_CTfiltered.bam'\n",
       "10. 'C9ALSnoFTLD3_CTfiltered.bam'\n",
       "11. 'C9noALSnoFTLD_CTfiltered.bam'\n",
       "12. 'CTRL1_CTfiltered.bam'\n",
       "13. 'CTRL2_CTfiltered.bam'\n",
       "14. 'CTRL3_CTfiltered.bam'\n",
       "15. 'CTRL4_CTfiltered.bam'\n",
       "16. 'CTRL5_CTfiltered.bam'\n",
       "17. 'CTRL6_CTfiltered.bam'\n",
       "18. 'sALSnoFTLD4_CTfiltered.bam'\n",
       "19. 'sALSnoFTLD5_CTfiltered.bam'\n",
       "20. 'sALSnoFTLD8_CTfiltered.bam'\n",
       "\n",
       "\n"
      ],
      "text/plain": [
       " [1] \"ast_FB_C9ALSFTLD_pseudoB.bam\"   \"ast_FB_C9ALSnoFTLD_pseudoB.bam\"\n",
       " [3] \"ast_FB_control_pseudoB.bam\"     \"ast_FB_sALSnoFTLD_pseudoB.bam\" \n",
       " [5] \"C9ALSFTLD1_CTfiltered.bam\"      \"C9ALSFTLD2_CTfiltered.bam\"     \n",
       " [7] \"C9ALSFTLD3_CTfiltered.bam\"      \"C9ALSFTLD4_CTfiltered.bam\"     \n",
       " [9] \"C9ALSnoFTLD1_CTfiltered.bam\"    \"C9ALSnoFTLD3_CTfiltered.bam\"   \n",
       "[11] \"C9noALSnoFTLD_CTfiltered.bam\"   \"CTRL1_CTfiltered.bam\"          \n",
       "[13] \"CTRL2_CTfiltered.bam\"           \"CTRL3_CTfiltered.bam\"          \n",
       "[15] \"CTRL4_CTfiltered.bam\"           \"CTRL5_CTfiltered.bam\"          \n",
       "[17] \"CTRL6_CTfiltered.bam\"           \"sALSnoFTLD4_CTfiltered.bam\"    \n",
       "[19] \"sALSnoFTLD5_CTfiltered.bam\"     \"sALSnoFTLD8_CTfiltered.bam\"    "
      ]
     },
     "metadata": {},
     "output_type": "display_data"
    }
   ],
   "source": [
    "setwd('AST-FB/')\n",
    "bamfiles = list.files(pattern = \"*.bam$\")\n",
    "bamfiles"
   ]
  },
  {
   "cell_type": "code",
   "execution_count": 76,
   "id": "e0c12166-b52d-413f-9eec-7ecd6f073071",
   "metadata": {
    "vscode": {
     "languageId": "r"
    }
   },
   "outputs": [],
   "source": [
    "ast_fb_control_bams <- as.vector(paste0(root,\"AST-FB/\",bamfiles[which(startsWith(bamfiles, \"CTRL\"))]))\n",
    "ast_fb_ALSFTLD_bams <- as.vector(paste0(root,\"AST-FB/\",bamfiles[which(startsWith(bamfiles, \"C9ALSFTLD\"))]))\n",
    "ast_fb_ALSnoFTLD_bams <- as.vector(paste0(root,\"AST-FB/\",bamfiles[which(startsWith(bamfiles, \"C9ALSnoFTLD\"))]))\n",
    "ast_fb_sALSnoFTLD_bams <- as.vector(paste0(root,\"AST-FB/\",bamfiles[which(startsWith(bamfiles, \"sALSnoFTLD\"))]))\n",
    "ast_fb_noALSnoFTLD_bams <- as.vector(paste0(root,\"AST-FB/\",bamfiles[which(startsWith(bamfiles, \"C9noALSnoFTLD\"))]))"
   ]
  },
  {
   "cell_type": "code",
   "execution_count": 3,
   "id": "78a8489a-4772-45e9-92f8-a961e425b828",
   "metadata": {
    "vscode": {
     "languageId": "r"
    }
   },
   "outputs": [],
   "source": [
    "reference.gtf <- '/home/aiden/data/refgenome/refdata-gex-GRCh38-2020-A/genes//genes.gtf'"
   ]
  },
  {
   "cell_type": "code",
   "execution_count": 4,
   "id": "4de9f03d-9432-44bc-b78e-e8849f0289d8",
   "metadata": {
    "vscode": {
     "languageId": "r"
    }
   },
   "outputs": [],
   "source": [
    "apa_atlas <- readRDS('/data1/APA/Paul_ALS_Data/bams_in/subscelltype_bamfiles/human.PAS.hg38.rds')"
   ]
  },
  {
   "cell_type": "code",
   "execution_count": 10,
   "id": "76b0128d-97fd-40f0-986e-342dc5af46cb",
   "metadata": {
    "collapsed": true,
    "jupyter": {
     "outputs_hidden": true
    },
    "tags": [],
    "vscode": {
     "languageId": "r"
    }
   },
   "outputs": [
    {
     "name": "stderr",
     "output_type": "stream",
     "text": [
      "Warning message in dir.create(output_dir, recursive = T):\n",
      "“'/data1/APA/Paul_ALS_Data/bams_in/subscelltype_bamfiles/Mapper_outs/AST-PP' already exists”\n",
      "Prepare reference genome ...\n",
      "\n",
      "Import genomic features from the file as a GRanges object ... \n",
      "OK\n",
      "\n",
      "Prepare the 'metadata' data frame ... \n",
      "OK\n",
      "\n",
      "Make the TxDb object ... \n",
      "Warning message in .get_cds_IDX(mcols0$type, mcols0$phase):\n",
      "“The \"phase\" metadata column contains non-NA values for features of type\n",
      "  stop_codon. This information was ignored.”\n",
      "OK\n",
      "\n",
      "Sequence levels in GTF:\n",
      "\n"
     ]
    },
    {
     "name": "stdout",
     "output_type": "stream",
     "text": [
      " [1] \"chr1\"  \"chr2\"  \"chr3\"  \"chr4\"  \"chr5\"  \"chr6\"  \"chr7\"  \"chr8\"  \"chr9\" \n",
      "[10] \"chr10\" \"chr11\" \"chr12\" \"chr13\" \"chr14\" \"chr15\" \"chr16\" \"chr17\" \"chr18\"\n",
      "[19] \"chr19\" \"chr20\" \"chr21\" \"chr22\" \"chrX\"  \"chrY\"  \"chrM\" \n"
     ]
    },
    {
     "name": "stderr",
     "output_type": "stream",
     "text": [
      "Prepare PAS annotation ...\n",
      "\n",
      "16707 genes!\n",
      "\n",
      "Start training for condition c1 - sample 1 ...\n",
      "\n",
      "Warning message in mclapply(1:length(pas_by_gene_single), function(i) {:\n",
      "“all scheduled cores encountered errors in user code”\n",
      "1750 genes used for training ...\n",
      "\n",
      "1 fragments longer than 600 ...\n",
      "\n"
     ]
    },
    {
     "ename": "ERROR",
     "evalue": "Error in density.default(dist_all, from = 0, to = dist_thre, n = dist_thre + : argument 'x' must be numeric\n",
     "output_type": "error",
     "traceback": [
      "Error in density.default(dist_all, from = 0, to = dist_thre, n = dist_thre + : argument 'x' must be numeric\nTraceback:\n",
      "1. maaper(reference.gtf, apa_atlas, bam_c1 = ast_fb_ALSFTLD_bams, \n .     bam_c2 = ast_fb_control_bams, output_dir = ast_map_out, read_len = 76, \n .     ncores = 16)",
      "2. wrap(pas_by_gene_single, pas_by_gene = pas_annotation, exons_gr, \n .     bam_c1, bam_c2, density_train_path, dist_thre, num_thre, \n .     read_len, num_pas_thre, frac_pas_thre, ncores, save_path, \n .     run, subset, region, verbose, output_dir, paired = paired)",
      "3. lapply(conds, function(con) {\n .     if (con == \"c1\") {\n .         bam_paths = bam_c1\n .     }\n .     if (con == \"c2\") {\n .         bam_paths = bam_c2\n .     }\n .     ss = length(bam_paths)\n .     density_con = lapply(1:ss, function(k) {\n .         message(paste(\"Start training for condition\", con, \"-\", \n .             \"sample\", k, \"...\"))\n .         bam_path = bam_paths[k]\n .         pdist = get_pdist_singlePAS(bam_path, exons_gr, pas_by_gene_single, \n .             num_thre, dist_thre, ncores)\n .         gc()\n .         return(pdist)\n .     })\n . })",
      "4. FUN(X[[i]], ...)",
      "5. lapply(1:ss, function(k) {\n .     message(paste(\"Start training for condition\", con, \"-\", \"sample\", \n .         k, \"...\"))\n .     bam_path = bam_paths[k]\n .     pdist = get_pdist_singlePAS(bam_path, exons_gr, pas_by_gene_single, \n .         num_thre, dist_thre, ncores)\n .     gc()\n .     return(pdist)\n . })",
      "6. FUN(X[[i]], ...)",
      "7. get_pdist_singlePAS(bam_path, exons_gr, pas_by_gene_single, num_thre, \n .     dist_thre, ncores)",
      "8. density(dist_all, from = 0, to = dist_thre, n = dist_thre + 1)",
      "9. density.default(dist_all, from = 0, to = dist_thre, n = dist_thre + \n .     1)",
      "10. stop(\"argument 'x' must be numeric\")"
     ]
    }
   ],
   "source": [
    "### Okk lets see what MAAPER does \"fingers crossed\"\n",
    "outdir <- \"/data1/APA/Paul_ALS_Data/bams_in/subscelltype_bamfiles/Mapper_outs\"\n",
    "ast_map_out <- paste0(outdir,\"/AST-PP\")\n",
    "maaper(reference.gtf, apa_atlas, bam_c1=ast_fb_ALSFTLD_bams, bam_c2=ast_fb_control_bams, \n",
    "      output_dir=ast_map_out, read_len=76, ncores=16)"
   ]
  },
  {
   "cell_type": "code",
   "execution_count": 30,
   "id": "2194f118-d77b-411b-adba-b0a7ff66fd41",
   "metadata": {
    "collapsed": true,
    "jupyter": {
     "outputs_hidden": true
    },
    "tags": [],
    "vscode": {
     "languageId": "r"
    }
   },
   "outputs": [
    {
     "name": "stderr",
     "output_type": "stream",
     "text": [
      "Prepare reference genome ...\n",
      "\n",
      "Import genomic features from the file as a GRanges object ... \n",
      "OK\n",
      "\n",
      "Prepare the 'metadata' data frame ... \n",
      "OK\n",
      "\n",
      "Make the TxDb object ... \n",
      "Warning message in .get_cds_IDX(mcols0$type, mcols0$phase):\n",
      "“The \"phase\" metadata column contains non-NA values for features of type\n",
      "  stop_codon. This information was ignored.”\n",
      "OK\n",
      "\n",
      "Sequence levels in GTF:\n",
      "\n"
     ]
    },
    {
     "name": "stdout",
     "output_type": "stream",
     "text": [
      " [1] \"chr1\"  \"chr2\"  \"chr3\"  \"chr4\"  \"chr5\"  \"chr6\"  \"chr7\"  \"chr8\"  \"chr9\" \n",
      "[10] \"chr10\" \"chr11\" \"chr12\" \"chr13\" \"chr14\" \"chr15\" \"chr16\" \"chr17\" \"chr18\"\n",
      "[19] \"chr19\" \"chr20\" \"chr21\" \"chr22\" \"chrX\"  \"chrY\"  \"chrM\" \n"
     ]
    },
    {
     "name": "stderr",
     "output_type": "stream",
     "text": [
      "Prepare PAS annotation ...\n",
      "\n",
      "16707 genes!\n",
      "\n",
      "Start training for condition c1 - sample 1 ...\n",
      "\n",
      "87 genes used for training ...\n",
      "\n",
      "0.2315 fragments longer than 600 ...\n",
      "\n",
      "Start training for condition c2 - sample 1 ...\n",
      "\n",
      "301 genes used for training ...\n",
      "\n",
      "0.216 fragments longer than 600 ...\n",
      "\n",
      "Calculate APA events ...\n",
      "\n"
     ]
    },
    {
     "name": "stdout",
     "output_type": "stream",
     "text": [
      "[1] FALSE\n"
     ]
    },
    {
     "name": "stderr",
     "output_type": "stream",
     "text": [
      "Writing results for 5700 genes ...\n",
      "\n"
     ]
    }
   ],
   "source": [
    "outdir <- \"/data1/APA/Paul_ALS_Data/bams_in/subscelltype_bamfiles/Mapper_outs\"\n",
    "ast_map_out <- paste0(outdir,\"/tst\")\n",
    "maaper(reference.gtf, apa_atlas, bam_c1=\"C9ALSFTLD2_CTfiltered.bam\", bam_c2=\"CTRL5_CTfiltered.bam\", \n",
    "      output_dir=ast_map_out, read_len=76, ncores=32)"
   ]
  },
  {
   "cell_type": "code",
   "execution_count": 6,
   "id": "8aeb5394-9f12-44a2-90fd-492fff79171e",
   "metadata": {
    "vscode": {
     "languageId": "r"
    }
   },
   "outputs": [],
   "source": []
  },
  {
   "cell_type": "markdown",
   "id": "9a0de60b-98a8-4eaa-a4c5-3271c5d1771d",
   "metadata": {
    "tags": []
   },
   "source": []
  },
  {
   "cell_type": "code",
   "execution_count": null,
   "id": "7733620c-bb78-40b2-9829-2e5bf8387572",
   "metadata": {
    "collapsed": true,
    "jupyter": {
     "outputs_hidden": true
    },
    "tags": [],
    "vscode": {
     "languageId": "r"
    }
   },
   "outputs": [
    {
     "name": "stderr",
     "output_type": "stream",
     "text": [
      "Prepare reference genome ...\n",
      "\n",
      "Import genomic features from the file as a GRanges object ... \n",
      "OK\n",
      "\n",
      "Prepare the 'metadata' data frame ... \n",
      "OK\n",
      "\n",
      "Make the TxDb object ... \n",
      "Warning message in .get_cds_IDX(mcols0$type, mcols0$phase):\n",
      "“The \"phase\" metadata column contains non-NA values for features of type\n",
      "  stop_codon. This information was ignored.”\n",
      "OK\n",
      "\n",
      "Sequence levels in GTF:\n",
      "\n"
     ]
    },
    {
     "name": "stdout",
     "output_type": "stream",
     "text": [
      " [1] \"chr1\"  \"chr2\"  \"chr3\"  \"chr4\"  \"chr5\"  \"chr6\"  \"chr7\"  \"chr8\"  \"chr9\" \n",
      "[10] \"chr10\" \"chr11\" \"chr12\" \"chr13\" \"chr14\" \"chr15\" \"chr16\" \"chr17\" \"chr18\"\n",
      "[19] \"chr19\" \"chr20\" \"chr21\" \"chr22\" \"chrX\"  \"chrY\"  \"chrM\" \n"
     ]
    },
    {
     "name": "stderr",
     "output_type": "stream",
     "text": [
      "Prepare PAS annotation ...\n",
      "\n",
      "16707 genes!\n",
      "\n",
      "Start training for condition c1 - sample 1 ...\n",
      "\n",
      "119 genes used for training ...\n",
      "\n",
      "0.1608 fragments longer than 600 ...\n",
      "\n",
      "Start training for condition c2 - sample 1 ...\n",
      "\n",
      "40 genes used for training ...\n",
      "\n",
      "0.3309 fragments longer than 600 ...\n",
      "\n",
      "Calculate APA events ...\n",
      "\n"
     ]
    }
   ],
   "source": [
    "## run for AST-FB pseudo-bulks\n",
    "### Okk lets see what MAAPER does \"fingers crossed\"\n",
    "outdir <- \"/data1/APA/Paul_ALS_Data/bams_in/subscelltype_bamfiles/Mapper_outs\"\n",
    "ast_map_out <- paste0(outdir,\"/AST-FB_pseudoB_paired\")\n",
    "maaper(reference.gtf, apa_atlas, bam_c1=\"ast_FB_C9ALSFTLD_pseudoB.bam\", bam_c2=\"ast_FB_control_pseudoB.bam\", \n",
    "      output_dir=ast_map_out, read_len=91, ncores=32, paired=TRUE)"
   ]
  },
  {
   "cell_type": "code",
   "execution_count": 65,
   "id": "30dec4f0-0ac8-4ed2-b010-0361565330d4",
   "metadata": {
    "collapsed": true,
    "jupyter": {
     "outputs_hidden": true
    },
    "tags": [],
    "vscode": {
     "languageId": "r"
    }
   },
   "outputs": [
    {
     "name": "stderr",
     "output_type": "stream",
     "text": [
      "Prepare reference genome ...\n",
      "\n",
      "Import genomic features from the file as a GRanges object ... \n",
      "OK\n",
      "\n",
      "Prepare the 'metadata' data frame ... \n",
      "OK\n",
      "\n",
      "Make the TxDb object ... \n",
      "Warning message in .get_cds_IDX(mcols0$type, mcols0$phase):\n",
      "“The \"phase\" metadata column contains non-NA values for features of type\n",
      "  stop_codon. This information was ignored.”\n",
      "OK\n",
      "\n",
      "Sequence levels in GTF:\n",
      "\n"
     ]
    },
    {
     "name": "stdout",
     "output_type": "stream",
     "text": [
      " [1] \"chr1\"  \"chr2\"  \"chr3\"  \"chr4\"  \"chr5\"  \"chr6\"  \"chr7\"  \"chr8\"  \"chr9\" \n",
      "[10] \"chr10\" \"chr11\" \"chr12\" \"chr13\" \"chr14\" \"chr15\" \"chr16\" \"chr17\" \"chr18\"\n",
      "[19] \"chr19\" \"chr20\" \"chr21\" \"chr22\" \"chrX\"  \"chrY\"  \"chrM\" \n"
     ]
    },
    {
     "name": "stderr",
     "output_type": "stream",
     "text": [
      "Prepare PAS annotation ...\n",
      "\n",
      "16707 genes!\n",
      "\n",
      "Start training for condition c1 - sample 1 ...\n",
      "\n",
      "Warning message in mclapply(1:length(pas_by_gene_single), function(i) {:\n",
      "“all scheduled cores encountered errors in user code”\n",
      "1750 genes used for training ...\n",
      "\n",
      "1 fragments longer than 600 ...\n",
      "\n"
     ]
    },
    {
     "ename": "ERROR",
     "evalue": "Error in density.default(dist_all, from = 0, to = dist_thre, n = dist_thre + : argument 'x' must be numeric\n",
     "output_type": "error",
     "traceback": [
      "Error in density.default(dist_all, from = 0, to = dist_thre, n = dist_thre + : argument 'x' must be numeric\nTraceback:\n",
      "1. maaper(reference.gtf, apa_atlas, bam_c1 = \"C9ALSnoFTLD3_CTfiltered\", \n .     bam_c2 = \"ast_FB_control_pseudoB.bam\", output_dir = ast_map_out, \n .     read_len = 91, ncores = 60)",
      "2. wrap(pas_by_gene_single, pas_by_gene = pas_annotation, exons_gr, \n .     bam_c1, bam_c2, density_train_path, dist_thre, num_thre, \n .     read_len, num_pas_thre, frac_pas_thre, ncores, save_path, \n .     run, subset, region, verbose, output_dir, paired = paired)",
      "3. lapply(conds, function(con) {\n .     if (con == \"c1\") {\n .         bam_paths = bam_c1\n .     }\n .     if (con == \"c2\") {\n .         bam_paths = bam_c2\n .     }\n .     ss = length(bam_paths)\n .     density_con = lapply(1:ss, function(k) {\n .         message(paste(\"Start training for condition\", con, \"-\", \n .             \"sample\", k, \"...\"))\n .         bam_path = bam_paths[k]\n .         pdist = get_pdist_singlePAS(bam_path, exons_gr, pas_by_gene_single, \n .             num_thre, dist_thre, ncores)\n .         gc()\n .         return(pdist)\n .     })\n . })",
      "4. FUN(X[[i]], ...)",
      "5. lapply(1:ss, function(k) {\n .     message(paste(\"Start training for condition\", con, \"-\", \"sample\", \n .         k, \"...\"))\n .     bam_path = bam_paths[k]\n .     pdist = get_pdist_singlePAS(bam_path, exons_gr, pas_by_gene_single, \n .         num_thre, dist_thre, ncores)\n .     gc()\n .     return(pdist)\n . })",
      "6. FUN(X[[i]], ...)",
      "7. get_pdist_singlePAS(bam_path, exons_gr, pas_by_gene_single, num_thre, \n .     dist_thre, ncores)",
      "8. density(dist_all, from = 0, to = dist_thre, n = dist_thre + 1)",
      "9. density.default(dist_all, from = 0, to = dist_thre, n = dist_thre + \n .     1)",
      "10. stop(\"argument 'x' must be numeric\")"
     ]
    }
   ],
   "source": [
    "## run for AST-FB pseudo-bulks\n",
    "### Okk lets see what MAAPER does \"fingers crossed\"\n",
    "outdir <- \"/data1/APA/Paul_ALS_Data/bams_in/subscelltype_bamfiles/Mapper_outs\"\n",
    "ast_map_out <- paste0(outdir,\"/AST-FB_c9alsnoftld\")\n",
    "maaper(reference.gtf, apa_atlas, bam_c1='C9ALSnoFTLD3_CTfiltered', bam_c2=\"ast_FB_control_pseudoB.bam\", \n",
    "      output_dir=ast_map_out, read_len=91, ncores=60)"
   ]
  },
  {
   "cell_type": "markdown",
   "id": "a137d47b-d090-475f-81fd-d5830b8fbb38",
   "metadata": {
    "tags": []
   },
   "source": [
    "## Ok the problem is when the bam file is too small we can have issue, so for these cases I will make a pseudo bulk and then run the maaper a bit pain in the butt but whatever!!\n",
    "## for AST-FB:\n",
    "### one pseudo bulk for control\n",
    "### and merge sALS 3 and 4"
   ]
  },
  {
   "cell_type": "code",
   "execution_count": 57,
   "id": "63698d83-c9b5-4984-a080-e89e4d4ac408",
   "metadata": {
    "collapsed": true,
    "jupyter": {
     "outputs_hidden": true
    },
    "tags": [],
    "vscode": {
     "languageId": "r"
    }
   },
   "outputs": [
    {
     "name": "stderr",
     "output_type": "stream",
     "text": [
      "Warning message in dir.create(output_dir, recursive = T):\n",
      "“'/data1/APA/Paul_ALS_Data/bams_in/subscelltype_bamfiles/Mapper_outs/AST-FB_C9ALSFTLDvsCTRL' already exists”\n",
      "Prepare reference genome ...\n",
      "\n",
      "Import genomic features from the file as a GRanges object ... \n",
      "OK\n",
      "\n",
      "Prepare the 'metadata' data frame ... \n",
      "OK\n",
      "\n",
      "Make the TxDb object ... \n",
      "Warning message in .get_cds_IDX(mcols0$type, mcols0$phase):\n",
      "“The \"phase\" metadata column contains non-NA values for features of type\n",
      "  stop_codon. This information was ignored.”\n",
      "OK\n",
      "\n",
      "Sequence levels in GTF:\n",
      "\n"
     ]
    },
    {
     "name": "stdout",
     "output_type": "stream",
     "text": [
      " [1] \"chr1\"  \"chr2\"  \"chr3\"  \"chr4\"  \"chr5\"  \"chr6\"  \"chr7\"  \"chr8\"  \"chr9\" \n",
      "[10] \"chr10\" \"chr11\" \"chr12\" \"chr13\" \"chr14\" \"chr15\" \"chr16\" \"chr17\" \"chr18\"\n",
      "[19] \"chr19\" \"chr20\" \"chr21\" \"chr22\" \"chrX\"  \"chrY\"  \"chrM\" \n"
     ]
    },
    {
     "name": "stderr",
     "output_type": "stream",
     "text": [
      "Prepare PAS annotation ...\n",
      "\n",
      "16707 genes!\n",
      "\n",
      "Start training for condition c1 - sample 1 ...\n",
      "\n",
      "4 genes used for training ...\n",
      "\n",
      "0.1746 fragments longer than 600 ...\n",
      "\n",
      "Start training for condition c1 - sample 2 ...\n",
      "\n",
      "34 genes used for training ...\n",
      "\n",
      "0.2187 fragments longer than 600 ...\n",
      "\n",
      "Start training for condition c1 - sample 3 ...\n",
      "\n",
      "2 genes used for training ...\n",
      "\n",
      "0.2965 fragments longer than 600 ...\n",
      "\n",
      "Start training for condition c1 - sample 4 ...\n",
      "\n",
      "64 genes used for training ...\n",
      "\n",
      "0.118 fragments longer than 600 ...\n",
      "\n",
      "Start training for condition c2 - sample 1 ...\n",
      "\n",
      "40 genes used for training ...\n",
      "\n",
      "0.3309 fragments longer than 600 ...\n",
      "\n",
      "Calculate APA events ...\n",
      "\n"
     ]
    },
    {
     "name": "stdout",
     "output_type": "stream",
     "text": [
      "[1] FALSE\n"
     ]
    },
    {
     "name": "stderr",
     "output_type": "stream",
     "text": [
      "Writing results for 1583 genes ...\n",
      "\n"
     ]
    }
   ],
   "source": [
    "## ok c9ALS bam files vector vs pseudo CTRL\n",
    "outdir <- \"/data1/APA/Paul_ALS_Data/bams_in/subscelltype_bamfiles/Mapper_outs\"\n",
    "ast_map_out <- paste0(outdir,\"/AST-FB_C9ALSFTLDvsCTRL\")\n",
    "maaper(reference.gtf, apa_atlas, bam_c1=ast_fb_ALSFTLD_bams, bam_c2=\"ast_FB_control_pseudoB.bam\", \n",
    "      output_dir=ast_map_out, read_len=91, ncores=60,)"
   ]
  },
  {
   "cell_type": "code",
   "execution_count": 67,
   "id": "095086ff-88f1-4759-b415-7ac9ecd7e71f",
   "metadata": {
    "vscode": {
     "languageId": "r"
    }
   },
   "outputs": [
    {
     "data": {
      "text/html": [
       "<style>\n",
       ".list-inline {list-style: none; margin:0; padding: 0}\n",
       ".list-inline>li {display: inline-block}\n",
       ".list-inline>li:not(:last-child)::after {content: \"\\00b7\"; padding: 0 .5ex}\n",
       "</style>\n",
       "<ol class=list-inline><li>'/data1/APA/Paul_ALS_Data/bams_in/subscelltype_bamfiles/AST-FB/C9ALSFTLD1_CTfiltered.bam'</li><li>'/data1/APA/Paul_ALS_Data/bams_in/subscelltype_bamfiles/AST-FB/C9ALSFTLD2_CTfiltered.bam'</li><li>'/data1/APA/Paul_ALS_Data/bams_in/subscelltype_bamfiles/AST-FB/C9ALSFTLD3_CTfiltered.bam'</li><li>'/data1/APA/Paul_ALS_Data/bams_in/subscelltype_bamfiles/AST-FB/C9ALSFTLD4_CTfiltered.bam'</li></ol>\n"
      ],
      "text/latex": [
       "\\begin{enumerate*}\n",
       "\\item '/data1/APA/Paul\\_ALS\\_Data/bams\\_in/subscelltype\\_bamfiles/AST-FB/C9ALSFTLD1\\_CTfiltered.bam'\n",
       "\\item '/data1/APA/Paul\\_ALS\\_Data/bams\\_in/subscelltype\\_bamfiles/AST-FB/C9ALSFTLD2\\_CTfiltered.bam'\n",
       "\\item '/data1/APA/Paul\\_ALS\\_Data/bams\\_in/subscelltype\\_bamfiles/AST-FB/C9ALSFTLD3\\_CTfiltered.bam'\n",
       "\\item '/data1/APA/Paul\\_ALS\\_Data/bams\\_in/subscelltype\\_bamfiles/AST-FB/C9ALSFTLD4\\_CTfiltered.bam'\n",
       "\\end{enumerate*}\n"
      ],
      "text/markdown": [
       "1. '/data1/APA/Paul_ALS_Data/bams_in/subscelltype_bamfiles/AST-FB/C9ALSFTLD1_CTfiltered.bam'\n",
       "2. '/data1/APA/Paul_ALS_Data/bams_in/subscelltype_bamfiles/AST-FB/C9ALSFTLD2_CTfiltered.bam'\n",
       "3. '/data1/APA/Paul_ALS_Data/bams_in/subscelltype_bamfiles/AST-FB/C9ALSFTLD3_CTfiltered.bam'\n",
       "4. '/data1/APA/Paul_ALS_Data/bams_in/subscelltype_bamfiles/AST-FB/C9ALSFTLD4_CTfiltered.bam'\n",
       "\n",
       "\n"
      ],
      "text/plain": [
       "[1] \"/data1/APA/Paul_ALS_Data/bams_in/subscelltype_bamfiles/AST-FB/C9ALSFTLD1_CTfiltered.bam\"\n",
       "[2] \"/data1/APA/Paul_ALS_Data/bams_in/subscelltype_bamfiles/AST-FB/C9ALSFTLD2_CTfiltered.bam\"\n",
       "[3] \"/data1/APA/Paul_ALS_Data/bams_in/subscelltype_bamfiles/AST-FB/C9ALSFTLD3_CTfiltered.bam\"\n",
       "[4] \"/data1/APA/Paul_ALS_Data/bams_in/subscelltype_bamfiles/AST-FB/C9ALSFTLD4_CTfiltered.bam\""
      ]
     },
     "metadata": {},
     "output_type": "display_data"
    }
   ],
   "source": [
    "##lets run one for all C9ALS vs ctrl and then one for sALS vs ctrl\n",
    "ast_fb_C9ALS_bams <- as.vector(paste0(root,\"AST-FB/\",bamfiles[which(startsWith(bamfiles, \"C9ALSFTLD\"))]))\n",
    "ast_fb_C9ALS_bams"
   ]
  },
  {
   "cell_type": "code",
   "execution_count": 68,
   "id": "7fcb436e-8615-477d-a81c-7b3e7b5d13ac",
   "metadata": {
    "collapsed": true,
    "jupyter": {
     "outputs_hidden": true
    },
    "tags": [],
    "vscode": {
     "languageId": "r"
    }
   },
   "outputs": [
    {
     "name": "stderr",
     "output_type": "stream",
     "text": [
      "Warning message in dir.create(output_dir, recursive = T):\n",
      "“'/data1/APA/Paul_ALS_Data/bams_in/subscelltype_bamfiles/Mapper_outs/AST-FB_C9ALSvsCTRL' already exists”\n",
      "Prepare reference genome ...\n",
      "\n",
      "Import genomic features from the file as a GRanges object ... \n",
      "OK\n",
      "\n",
      "Prepare the 'metadata' data frame ... \n",
      "OK\n",
      "\n",
      "Make the TxDb object ... \n",
      "Warning message in .get_cds_IDX(mcols0$type, mcols0$phase):\n",
      "“The \"phase\" metadata column contains non-NA values for features of type\n",
      "  stop_codon. This information was ignored.”\n",
      "OK\n",
      "\n",
      "Sequence levels in GTF:\n",
      "\n"
     ]
    },
    {
     "name": "stdout",
     "output_type": "stream",
     "text": [
      " [1] \"chr1\"  \"chr2\"  \"chr3\"  \"chr4\"  \"chr5\"  \"chr6\"  \"chr7\"  \"chr8\"  \"chr9\" \n",
      "[10] \"chr10\" \"chr11\" \"chr12\" \"chr13\" \"chr14\" \"chr15\" \"chr16\" \"chr17\" \"chr18\"\n",
      "[19] \"chr19\" \"chr20\" \"chr21\" \"chr22\" \"chrX\"  \"chrY\"  \"chrM\" \n"
     ]
    },
    {
     "name": "stderr",
     "output_type": "stream",
     "text": [
      "Prepare PAS annotation ...\n",
      "\n",
      "16707 genes!\n",
      "\n",
      "Start training for condition c1 - sample 1 ...\n",
      "\n",
      "4 genes used for training ...\n",
      "\n",
      "0.1746 fragments longer than 600 ...\n",
      "\n",
      "Start training for condition c1 - sample 2 ...\n",
      "\n",
      "34 genes used for training ...\n",
      "\n",
      "0.2187 fragments longer than 600 ...\n",
      "\n",
      "Start training for condition c1 - sample 3 ...\n",
      "\n",
      "2 genes used for training ...\n",
      "\n",
      "0.2965 fragments longer than 600 ...\n",
      "\n",
      "Start training for condition c1 - sample 4 ...\n",
      "\n",
      "64 genes used for training ...\n",
      "\n",
      "0.118 fragments longer than 600 ...\n",
      "\n",
      "Start training for condition c2 - sample 1 ...\n",
      "\n",
      "40 genes used for training ...\n",
      "\n",
      "0.3309 fragments longer than 600 ...\n",
      "\n",
      "Calculate APA events ...\n",
      "\n"
     ]
    },
    {
     "name": "stdout",
     "output_type": "stream",
     "text": [
      "[1] FALSE\n"
     ]
    },
    {
     "name": "stderr",
     "output_type": "stream",
     "text": [
      "Writing results for 1583 genes ...\n",
      "\n"
     ]
    }
   ],
   "source": [
    "outdir <- \"/data1/APA/Paul_ALS_Data/bams_in/subscelltype_bamfiles/Mapper_outs\"\n",
    "ast_map_out <- paste0(outdir,\"/AST-FB_C9ALSvsCTRL\")\n",
    "maaper(reference.gtf, apa_atlas, bam_c1=ast_fb_C9ALS_bams, bam_c2=\"ast_FB_control_pseudoB.bam\", \n",
    "      output_dir=ast_map_out, read_len=91, ncores=60)"
   ]
  },
  {
   "cell_type": "code",
   "execution_count": 77,
   "id": "b442474e-cbaa-4889-b9f9-ce6c5de01e7a",
   "metadata": {
    "vscode": {
     "languageId": "r"
    }
   },
   "outputs": [
    {
     "data": {
      "text/html": [
       "<style>\n",
       ".list-inline {list-style: none; margin:0; padding: 0}\n",
       ".list-inline>li {display: inline-block}\n",
       ".list-inline>li:not(:last-child)::after {content: \"\\00b7\"; padding: 0 .5ex}\n",
       "</style>\n",
       "<ol class=list-inline><li>'/data1/APA/Paul_ALS_Data/bams_in/subscelltype_bamfiles/AST-FB/sALSnoFTLD4_CTfiltered.bam'</li><li>'/data1/APA/Paul_ALS_Data/bams_in/subscelltype_bamfiles/AST-FB/sALSnoFTLD5_CTfiltered.bam'</li><li>'/data1/APA/Paul_ALS_Data/bams_in/subscelltype_bamfiles/AST-FB/sALSnoFTLD8_CTfiltered.bam'</li></ol>\n"
      ],
      "text/latex": [
       "\\begin{enumerate*}\n",
       "\\item '/data1/APA/Paul\\_ALS\\_Data/bams\\_in/subscelltype\\_bamfiles/AST-FB/sALSnoFTLD4\\_CTfiltered.bam'\n",
       "\\item '/data1/APA/Paul\\_ALS\\_Data/bams\\_in/subscelltype\\_bamfiles/AST-FB/sALSnoFTLD5\\_CTfiltered.bam'\n",
       "\\item '/data1/APA/Paul\\_ALS\\_Data/bams\\_in/subscelltype\\_bamfiles/AST-FB/sALSnoFTLD8\\_CTfiltered.bam'\n",
       "\\end{enumerate*}\n"
      ],
      "text/markdown": [
       "1. '/data1/APA/Paul_ALS_Data/bams_in/subscelltype_bamfiles/AST-FB/sALSnoFTLD4_CTfiltered.bam'\n",
       "2. '/data1/APA/Paul_ALS_Data/bams_in/subscelltype_bamfiles/AST-FB/sALSnoFTLD5_CTfiltered.bam'\n",
       "3. '/data1/APA/Paul_ALS_Data/bams_in/subscelltype_bamfiles/AST-FB/sALSnoFTLD8_CTfiltered.bam'\n",
       "\n",
       "\n"
      ],
      "text/plain": [
       "[1] \"/data1/APA/Paul_ALS_Data/bams_in/subscelltype_bamfiles/AST-FB/sALSnoFTLD4_CTfiltered.bam\"\n",
       "[2] \"/data1/APA/Paul_ALS_Data/bams_in/subscelltype_bamfiles/AST-FB/sALSnoFTLD5_CTfiltered.bam\"\n",
       "[3] \"/data1/APA/Paul_ALS_Data/bams_in/subscelltype_bamfiles/AST-FB/sALSnoFTLD8_CTfiltered.bam\""
      ]
     },
     "metadata": {},
     "output_type": "display_data"
    }
   ],
   "source": [
    "ast_fb_sALSnoFTLD_bams"
   ]
  },
  {
   "cell_type": "code",
   "execution_count": 81,
   "id": "f83b003f-915e-4577-b8c8-c253d9e316c6",
   "metadata": {
    "collapsed": true,
    "jupyter": {
     "outputs_hidden": true
    },
    "tags": [],
    "vscode": {
     "languageId": "r"
    }
   },
   "outputs": [
    {
     "name": "stderr",
     "output_type": "stream",
     "text": [
      "Warning message in dir.create(output_dir, recursive = T):\n",
      "“'/data1/APA/Paul_ALS_Data/bams_in/subscelltype_bamfiles/Mapper_outs/AST-FB_sALSvsCTRL' already exists”\n",
      "Prepare reference genome ...\n",
      "\n",
      "Import genomic features from the file as a GRanges object ... \n",
      "OK\n",
      "\n",
      "Prepare the 'metadata' data frame ... \n",
      "OK\n",
      "\n",
      "Make the TxDb object ... \n",
      "Warning message in .get_cds_IDX(mcols0$type, mcols0$phase):\n",
      "“The \"phase\" metadata column contains non-NA values for features of type\n",
      "  stop_codon. This information was ignored.”\n",
      "OK\n",
      "\n",
      "Sequence levels in GTF:\n",
      "\n"
     ]
    },
    {
     "name": "stdout",
     "output_type": "stream",
     "text": [
      " [1] \"chr1\"  \"chr2\"  \"chr3\"  \"chr4\"  \"chr5\"  \"chr6\"  \"chr7\"  \"chr8\"  \"chr9\" \n",
      "[10] \"chr10\" \"chr11\" \"chr12\" \"chr13\" \"chr14\" \"chr15\" \"chr16\" \"chr17\" \"chr18\"\n",
      "[19] \"chr19\" \"chr20\" \"chr21\" \"chr22\" \"chrX\"  \"chrY\"  \"chrM\" \n"
     ]
    },
    {
     "name": "stderr",
     "output_type": "stream",
     "text": [
      "Prepare PAS annotation ...\n",
      "\n",
      "16707 genes!\n",
      "\n",
      "Start training for condition c1 - sample 1 ...\n",
      "\n",
      "24 genes used for training ...\n",
      "\n",
      "0.1933 fragments longer than 600 ...\n",
      "\n",
      "Start training for condition c2 - sample 1 ...\n",
      "\n",
      "40 genes used for training ...\n",
      "\n",
      "0.3309 fragments longer than 600 ...\n",
      "\n",
      "Calculate APA events ...\n",
      "\n"
     ]
    },
    {
     "name": "stdout",
     "output_type": "stream",
     "text": [
      "[1] FALSE\n"
     ]
    },
    {
     "name": "stderr",
     "output_type": "stream",
     "text": [
      "Writing results for 983 genes ...\n",
      "\n"
     ]
    }
   ],
   "source": [
    "outdir <- \"/data1/APA/Paul_ALS_Data/bams_in/subscelltype_bamfiles/Mapper_outs\"\n",
    "ast_map_out <- paste0(outdir,\"/AST-FB_sALSvsCTRL\")\n",
    "maaper(reference.gtf, apa_atlas, bam_c1=\"ast_FB_sALSnoFTLD_pseudoB.bam\", bam_c2=\"ast_FB_control_pseudoB.bam\", \n",
    "      output_dir=ast_map_out, read_len=91, ncores=60)"
   ]
  },
  {
   "cell_type": "code",
   "execution_count": 5,
   "id": "a7bfa7a3-d890-4238-be73-27bcf1743fa4",
   "metadata": {
    "vscode": {
     "languageId": "r"
    }
   },
   "outputs": [],
   "source": [
    "call_mapper <- function(path, c1, c2){\n",
    "    outdir <- \"/data1/APA/Paul_ALS_Data/bams_in/subscelltype_bamfiles/Mapper_outs\"\n",
    "    ast_map_out <- paste0(outdir,\"/\", path)\n",
    "    maaper(reference.gtf, apa_atlas, bam_c1=c1, bam_c2=c2, \n",
    "          output_dir=ast_map_out, read_len=91, ncores=62, bed=TRUE)\n",
    "\n",
    "}"
   ]
  },
  {
   "cell_type": "code",
   "execution_count": 82,
   "id": "9a4df4e5-6406-4ac7-8584-7782b29241a4",
   "metadata": {
    "vscode": {
     "languageId": "r"
    }
   },
   "outputs": [],
   "source": [
    "## lets do it with AST-PP\n",
    "setwd('../AST-PP/')\n",
    "bamfiles = list.files(pattern = \"*.bam$\")\n",
    "ast_fb_control_bams <- as.vector(paste0(root,\"AST-PP/\",bamfiles[which(startsWith(bamfiles, \"CTRL\"))]))\n",
    "ast_fb_C9ALS_bams <- as.vector(paste0(root,\"AST-PP/\",bamfiles[which(startsWith(bamfiles, \"C9ALS\"))]))\n",
    "ast_fb_sALSnoFTLD_bams <- as.vector(paste0(root,\"AST-PP/\",bamfiles[which(startsWith(bamfiles, \"sALSnoFTLD\"))]))"
   ]
  },
  {
   "cell_type": "code",
   "execution_count": 83,
   "id": "675554b0-b05b-4c99-8054-ce8a4eabebaa",
   "metadata": {
    "vscode": {
     "languageId": "r"
    }
   },
   "outputs": [
    {
     "data": {
      "text/html": [
       "<style>\n",
       ".list-inline {list-style: none; margin:0; padding: 0}\n",
       ".list-inline>li {display: inline-block}\n",
       ".list-inline>li:not(:last-child)::after {content: \"\\00b7\"; padding: 0 .5ex}\n",
       "</style>\n",
       "<ol class=list-inline><li>'/data1/APA/Paul_ALS_Data/bams_in/subscelltype_bamfiles/AST-PP/C9ALSFTLD1_CTfiltered.bam'</li><li>'/data1/APA/Paul_ALS_Data/bams_in/subscelltype_bamfiles/AST-PP/C9ALSFTLD2_CTfiltered.bam'</li><li>'/data1/APA/Paul_ALS_Data/bams_in/subscelltype_bamfiles/AST-PP/C9ALSFTLD3_CTfiltered.bam'</li><li>'/data1/APA/Paul_ALS_Data/bams_in/subscelltype_bamfiles/AST-PP/C9ALSFTLD4_CTfiltered.bam'</li><li>'/data1/APA/Paul_ALS_Data/bams_in/subscelltype_bamfiles/AST-PP/C9ALSnoFTLD1_CTfiltered.bam'</li><li>'/data1/APA/Paul_ALS_Data/bams_in/subscelltype_bamfiles/AST-PP/C9ALSnoFTLD3_CTfiltered.bam'</li></ol>\n"
      ],
      "text/latex": [
       "\\begin{enumerate*}\n",
       "\\item '/data1/APA/Paul\\_ALS\\_Data/bams\\_in/subscelltype\\_bamfiles/AST-PP/C9ALSFTLD1\\_CTfiltered.bam'\n",
       "\\item '/data1/APA/Paul\\_ALS\\_Data/bams\\_in/subscelltype\\_bamfiles/AST-PP/C9ALSFTLD2\\_CTfiltered.bam'\n",
       "\\item '/data1/APA/Paul\\_ALS\\_Data/bams\\_in/subscelltype\\_bamfiles/AST-PP/C9ALSFTLD3\\_CTfiltered.bam'\n",
       "\\item '/data1/APA/Paul\\_ALS\\_Data/bams\\_in/subscelltype\\_bamfiles/AST-PP/C9ALSFTLD4\\_CTfiltered.bam'\n",
       "\\item '/data1/APA/Paul\\_ALS\\_Data/bams\\_in/subscelltype\\_bamfiles/AST-PP/C9ALSnoFTLD1\\_CTfiltered.bam'\n",
       "\\item '/data1/APA/Paul\\_ALS\\_Data/bams\\_in/subscelltype\\_bamfiles/AST-PP/C9ALSnoFTLD3\\_CTfiltered.bam'\n",
       "\\end{enumerate*}\n"
      ],
      "text/markdown": [
       "1. '/data1/APA/Paul_ALS_Data/bams_in/subscelltype_bamfiles/AST-PP/C9ALSFTLD1_CTfiltered.bam'\n",
       "2. '/data1/APA/Paul_ALS_Data/bams_in/subscelltype_bamfiles/AST-PP/C9ALSFTLD2_CTfiltered.bam'\n",
       "3. '/data1/APA/Paul_ALS_Data/bams_in/subscelltype_bamfiles/AST-PP/C9ALSFTLD3_CTfiltered.bam'\n",
       "4. '/data1/APA/Paul_ALS_Data/bams_in/subscelltype_bamfiles/AST-PP/C9ALSFTLD4_CTfiltered.bam'\n",
       "5. '/data1/APA/Paul_ALS_Data/bams_in/subscelltype_bamfiles/AST-PP/C9ALSnoFTLD1_CTfiltered.bam'\n",
       "6. '/data1/APA/Paul_ALS_Data/bams_in/subscelltype_bamfiles/AST-PP/C9ALSnoFTLD3_CTfiltered.bam'\n",
       "\n",
       "\n"
      ],
      "text/plain": [
       "[1] \"/data1/APA/Paul_ALS_Data/bams_in/subscelltype_bamfiles/AST-PP/C9ALSFTLD1_CTfiltered.bam\"  \n",
       "[2] \"/data1/APA/Paul_ALS_Data/bams_in/subscelltype_bamfiles/AST-PP/C9ALSFTLD2_CTfiltered.bam\"  \n",
       "[3] \"/data1/APA/Paul_ALS_Data/bams_in/subscelltype_bamfiles/AST-PP/C9ALSFTLD3_CTfiltered.bam\"  \n",
       "[4] \"/data1/APA/Paul_ALS_Data/bams_in/subscelltype_bamfiles/AST-PP/C9ALSFTLD4_CTfiltered.bam\"  \n",
       "[5] \"/data1/APA/Paul_ALS_Data/bams_in/subscelltype_bamfiles/AST-PP/C9ALSnoFTLD1_CTfiltered.bam\"\n",
       "[6] \"/data1/APA/Paul_ALS_Data/bams_in/subscelltype_bamfiles/AST-PP/C9ALSnoFTLD3_CTfiltered.bam\""
      ]
     },
     "metadata": {},
     "output_type": "display_data"
    }
   ],
   "source": [
    "ast_fb_C9ALS_bams"
   ]
  },
  {
   "cell_type": "code",
   "execution_count": 89,
   "id": "f96faacf-c599-4d79-86a1-694880949630",
   "metadata": {
    "vscode": {
     "languageId": "r"
    }
   },
   "outputs": [
    {
     "data": {
      "text/html": [
       "<style>\n",
       ".list-inline {list-style: none; margin:0; padding: 0}\n",
       ".list-inline>li {display: inline-block}\n",
       ".list-inline>li:not(:last-child)::after {content: \"\\00b7\"; padding: 0 .5ex}\n",
       "</style>\n",
       "<ol class=list-inline><li>'/data1/APA/Paul_ALS_Data/bams_in/subscelltype_bamfiles/AST-PP/sALSnoFTLD3_CTfiltered.bam'</li><li>'/data1/APA/Paul_ALS_Data/bams_in/subscelltype_bamfiles/AST-PP/sALSnoFTLD4_CTfiltered.bam'</li><li>'/data1/APA/Paul_ALS_Data/bams_in/subscelltype_bamfiles/AST-PP/sALSnoFTLD5_CTfiltered.bam'</li><li>'/data1/APA/Paul_ALS_Data/bams_in/subscelltype_bamfiles/AST-PP/sALSnoFTLD8_CTfiltered.bam'</li></ol>\n"
      ],
      "text/latex": [
       "\\begin{enumerate*}\n",
       "\\item '/data1/APA/Paul\\_ALS\\_Data/bams\\_in/subscelltype\\_bamfiles/AST-PP/sALSnoFTLD3\\_CTfiltered.bam'\n",
       "\\item '/data1/APA/Paul\\_ALS\\_Data/bams\\_in/subscelltype\\_bamfiles/AST-PP/sALSnoFTLD4\\_CTfiltered.bam'\n",
       "\\item '/data1/APA/Paul\\_ALS\\_Data/bams\\_in/subscelltype\\_bamfiles/AST-PP/sALSnoFTLD5\\_CTfiltered.bam'\n",
       "\\item '/data1/APA/Paul\\_ALS\\_Data/bams\\_in/subscelltype\\_bamfiles/AST-PP/sALSnoFTLD8\\_CTfiltered.bam'\n",
       "\\end{enumerate*}\n"
      ],
      "text/markdown": [
       "1. '/data1/APA/Paul_ALS_Data/bams_in/subscelltype_bamfiles/AST-PP/sALSnoFTLD3_CTfiltered.bam'\n",
       "2. '/data1/APA/Paul_ALS_Data/bams_in/subscelltype_bamfiles/AST-PP/sALSnoFTLD4_CTfiltered.bam'\n",
       "3. '/data1/APA/Paul_ALS_Data/bams_in/subscelltype_bamfiles/AST-PP/sALSnoFTLD5_CTfiltered.bam'\n",
       "4. '/data1/APA/Paul_ALS_Data/bams_in/subscelltype_bamfiles/AST-PP/sALSnoFTLD8_CTfiltered.bam'\n",
       "\n",
       "\n"
      ],
      "text/plain": [
       "[1] \"/data1/APA/Paul_ALS_Data/bams_in/subscelltype_bamfiles/AST-PP/sALSnoFTLD3_CTfiltered.bam\"\n",
       "[2] \"/data1/APA/Paul_ALS_Data/bams_in/subscelltype_bamfiles/AST-PP/sALSnoFTLD4_CTfiltered.bam\"\n",
       "[3] \"/data1/APA/Paul_ALS_Data/bams_in/subscelltype_bamfiles/AST-PP/sALSnoFTLD5_CTfiltered.bam\"\n",
       "[4] \"/data1/APA/Paul_ALS_Data/bams_in/subscelltype_bamfiles/AST-PP/sALSnoFTLD8_CTfiltered.bam\""
      ]
     },
     "metadata": {},
     "output_type": "display_data"
    }
   ],
   "source": [
    "ast_fb_sALSnoFTLD_bams"
   ]
  },
  {
   "cell_type": "code",
   "execution_count": 90,
   "id": "1aa0ce96-f85a-4ac9-8583-aea9b78f1e1b",
   "metadata": {
    "collapsed": true,
    "jupyter": {
     "outputs_hidden": true
    },
    "tags": [],
    "vscode": {
     "languageId": "r"
    }
   },
   "outputs": [
    {
     "name": "stderr",
     "output_type": "stream",
     "text": [
      "Prepare reference genome ...\n",
      "\n",
      "Import genomic features from the file as a GRanges object ... \n",
      "OK\n",
      "\n",
      "Prepare the 'metadata' data frame ... \n",
      "OK\n",
      "\n",
      "Make the TxDb object ... \n",
      "Warning message in .get_cds_IDX(mcols0$type, mcols0$phase):\n",
      "“The \"phase\" metadata column contains non-NA values for features of type\n",
      "  stop_codon. This information was ignored.”\n",
      "OK\n",
      "\n",
      "Sequence levels in GTF:\n",
      "\n"
     ]
    },
    {
     "name": "stdout",
     "output_type": "stream",
     "text": [
      " [1] \"chr1\"  \"chr2\"  \"chr3\"  \"chr4\"  \"chr5\"  \"chr6\"  \"chr7\"  \"chr8\"  \"chr9\" \n",
      "[10] \"chr10\" \"chr11\" \"chr12\" \"chr13\" \"chr14\" \"chr15\" \"chr16\" \"chr17\" \"chr18\"\n",
      "[19] \"chr19\" \"chr20\" \"chr21\" \"chr22\" \"chrX\"  \"chrY\"  \"chrM\" \n"
     ]
    },
    {
     "name": "stderr",
     "output_type": "stream",
     "text": [
      "Prepare PAS annotation ...\n",
      "\n",
      "16707 genes!\n",
      "\n",
      "Start training for condition c1 - sample 1 ...\n",
      "\n",
      "90 genes used for training ...\n",
      "\n",
      "0.2553 fragments longer than 600 ...\n",
      "\n",
      "Start training for condition c1 - sample 2 ...\n",
      "\n",
      "87 genes used for training ...\n",
      "\n",
      "0.2315 fragments longer than 600 ...\n",
      "\n",
      "Start training for condition c1 - sample 3 ...\n",
      "\n",
      "209 genes used for training ...\n",
      "\n",
      "0.3375 fragments longer than 600 ...\n",
      "\n",
      "Start training for condition c1 - sample 4 ...\n",
      "\n",
      "127 genes used for training ...\n",
      "\n",
      "0.1043 fragments longer than 600 ...\n",
      "\n",
      "Start training for condition c1 - sample 5 ...\n",
      "\n",
      "192 genes used for training ...\n",
      "\n",
      "0.3792 fragments longer than 600 ...\n",
      "\n",
      "Start training for condition c1 - sample 6 ...\n",
      "\n",
      "156 genes used for training ...\n",
      "\n",
      "0.3735 fragments longer than 600 ...\n",
      "\n",
      "Start training for condition c2 - sample 1 ...\n",
      "\n",
      "230 genes used for training ...\n",
      "\n",
      "0.3042 fragments longer than 600 ...\n",
      "\n",
      "Start training for condition c2 - sample 2 ...\n",
      "\n",
      "258 genes used for training ...\n",
      "\n",
      "0.3104 fragments longer than 600 ...\n",
      "\n",
      "Start training for condition c2 - sample 3 ...\n",
      "\n",
      "216 genes used for training ...\n",
      "\n",
      "0.2765 fragments longer than 600 ...\n",
      "\n",
      "Start training for condition c2 - sample 4 ...\n",
      "\n",
      "178 genes used for training ...\n",
      "\n",
      "0.3673 fragments longer than 600 ...\n",
      "\n",
      "Start training for condition c2 - sample 5 ...\n",
      "\n",
      "301 genes used for training ...\n",
      "\n",
      "0.216 fragments longer than 600 ...\n",
      "\n",
      "Start training for condition c2 - sample 6 ...\n",
      "\n",
      "64 genes used for training ...\n",
      "\n",
      "0.2218 fragments longer than 600 ...\n",
      "\n",
      "Calculate APA events ...\n",
      "\n"
     ]
    },
    {
     "name": "stdout",
     "output_type": "stream",
     "text": [
      "[1] FALSE\n"
     ]
    },
    {
     "name": "stderr",
     "output_type": "stream",
     "text": [
      "Writing results for 11007 genes ...\n",
      "\n"
     ]
    }
   ],
   "source": [
    "call_mapper(\"AST-PP_C9ALSvsCTRL\",ast_fb_C9ALS_bams,ast_fb_control_bams)"
   ]
  },
  {
   "cell_type": "code",
   "execution_count": 25,
   "id": "a962b08f",
   "metadata": {
    "vscode": {
     "languageId": "r"
    }
   },
   "outputs": [],
   "source": [
    "## lets do it with Astrocytes\n",
    "setwd('/data1/APA/Paul_ALS_Data/bams_in/subscelltype_bamfiles/Astrocytes/')\n",
    "bamfiles = list.files(pattern = \"*.bam$\")\n",
    "ast_fb_control_bams <- as.vector(paste0(root,\"Astrocytes/\",bamfiles[which(startsWith(bamfiles, \"CTRL\"))]))\n",
    "ast_fb_C9ALS_bams <- as.vector(paste0(root,\"Astrocytes/\",bamfiles[which(startsWith(bamfiles, \"C9ALS\"))]))\n",
    "ast_fb_sALSnoFTLD_bams <- as.vector(paste0(root,\"Astrocytes/\",bamfiles[which(startsWith(bamfiles, \"sALS\"))]))"
   ]
  },
  {
   "cell_type": "code",
   "execution_count": 26,
   "id": "a2ac1684",
   "metadata": {
    "vscode": {
     "languageId": "r"
    }
   },
   "outputs": [
    {
     "data": {
      "text/html": [
       "<style>\n",
       ".list-inline {list-style: none; margin:0; padding: 0}\n",
       ".list-inline>li {display: inline-block}\n",
       ".list-inline>li:not(:last-child)::after {content: \"\\00b7\"; padding: 0 .5ex}\n",
       "</style>\n",
       "<ol class=list-inline><li>'/data1/APA/Paul_ALS_Data/bams_in/subscelltype_bamfiles/Astrocytes/C9ALS_2_3_4.bam'</li><li>'/data1/APA/Paul_ALS_Data/bams_in/subscelltype_bamfiles/Astrocytes/C9ALSFTLD1_CTfiltered.bam'</li><li>'/data1/APA/Paul_ALS_Data/bams_in/subscelltype_bamfiles/Astrocytes/C9ALSFTLD2_CTfiltered.bam'</li><li>'/data1/APA/Paul_ALS_Data/bams_in/subscelltype_bamfiles/Astrocytes/C9ALSnoFTLD1_CTfiltered.bam'</li><li>'/data1/APA/Paul_ALS_Data/bams_in/subscelltype_bamfiles/Astrocytes/C9ALSnoFTLD3_CTfiltered.bam'</li></ol>\n"
      ],
      "text/latex": [
       "\\begin{enumerate*}\n",
       "\\item '/data1/APA/Paul\\_ALS\\_Data/bams\\_in/subscelltype\\_bamfiles/Astrocytes/C9ALS\\_2\\_3\\_4.bam'\n",
       "\\item '/data1/APA/Paul\\_ALS\\_Data/bams\\_in/subscelltype\\_bamfiles/Astrocytes/C9ALSFTLD1\\_CTfiltered.bam'\n",
       "\\item '/data1/APA/Paul\\_ALS\\_Data/bams\\_in/subscelltype\\_bamfiles/Astrocytes/C9ALSFTLD2\\_CTfiltered.bam'\n",
       "\\item '/data1/APA/Paul\\_ALS\\_Data/bams\\_in/subscelltype\\_bamfiles/Astrocytes/C9ALSnoFTLD1\\_CTfiltered.bam'\n",
       "\\item '/data1/APA/Paul\\_ALS\\_Data/bams\\_in/subscelltype\\_bamfiles/Astrocytes/C9ALSnoFTLD3\\_CTfiltered.bam'\n",
       "\\end{enumerate*}\n"
      ],
      "text/markdown": [
       "1. '/data1/APA/Paul_ALS_Data/bams_in/subscelltype_bamfiles/Astrocytes/C9ALS_2_3_4.bam'\n",
       "2. '/data1/APA/Paul_ALS_Data/bams_in/subscelltype_bamfiles/Astrocytes/C9ALSFTLD1_CTfiltered.bam'\n",
       "3. '/data1/APA/Paul_ALS_Data/bams_in/subscelltype_bamfiles/Astrocytes/C9ALSFTLD2_CTfiltered.bam'\n",
       "4. '/data1/APA/Paul_ALS_Data/bams_in/subscelltype_bamfiles/Astrocytes/C9ALSnoFTLD1_CTfiltered.bam'\n",
       "5. '/data1/APA/Paul_ALS_Data/bams_in/subscelltype_bamfiles/Astrocytes/C9ALSnoFTLD3_CTfiltered.bam'\n",
       "\n",
       "\n"
      ],
      "text/plain": [
       "[1] \"/data1/APA/Paul_ALS_Data/bams_in/subscelltype_bamfiles/Astrocytes/C9ALS_2_3_4.bam\"            \n",
       "[2] \"/data1/APA/Paul_ALS_Data/bams_in/subscelltype_bamfiles/Astrocytes/C9ALSFTLD1_CTfiltered.bam\"  \n",
       "[3] \"/data1/APA/Paul_ALS_Data/bams_in/subscelltype_bamfiles/Astrocytes/C9ALSFTLD2_CTfiltered.bam\"  \n",
       "[4] \"/data1/APA/Paul_ALS_Data/bams_in/subscelltype_bamfiles/Astrocytes/C9ALSnoFTLD1_CTfiltered.bam\"\n",
       "[5] \"/data1/APA/Paul_ALS_Data/bams_in/subscelltype_bamfiles/Astrocytes/C9ALSnoFTLD3_CTfiltered.bam\""
      ]
     },
     "metadata": {},
     "output_type": "display_data"
    }
   ],
   "source": [
    "ast_fb_C9ALS_bams"
   ]
  },
  {
   "cell_type": "code",
   "execution_count": 16,
   "id": "80b723a8",
   "metadata": {
    "vscode": {
     "languageId": "r"
    }
   },
   "outputs": [
    {
     "data": {
      "text/html": [
       "<style>\n",
       ".list-inline {list-style: none; margin:0; padding: 0}\n",
       ".list-inline>li {display: inline-block}\n",
       ".list-inline>li:not(:last-child)::after {content: \"\\00b7\"; padding: 0 .5ex}\n",
       "</style>\n",
       "<ol class=list-inline><li>'/data1/APA/Paul_ALS_Data/bams_in/subscelltype_bamfiles/Astrocytes/CTRL1_CTfiltered.bam'</li><li>'/data1/APA/Paul_ALS_Data/bams_in/subscelltype_bamfiles/Astrocytes/CTRL2_CTfiltered.bam'</li><li>'/data1/APA/Paul_ALS_Data/bams_in/subscelltype_bamfiles/Astrocytes/CTRL3_CTfiltered.bam'</li><li>'/data1/APA/Paul_ALS_Data/bams_in/subscelltype_bamfiles/Astrocytes/CTRL4_CTfiltered.bam'</li><li>'/data1/APA/Paul_ALS_Data/bams_in/subscelltype_bamfiles/Astrocytes/CTRL5_CTfiltered.bam'</li><li>'/data1/APA/Paul_ALS_Data/bams_in/subscelltype_bamfiles/Astrocytes/CTRL6_CTfiltered.bam'</li></ol>\n"
      ],
      "text/latex": [
       "\\begin{enumerate*}\n",
       "\\item '/data1/APA/Paul\\_ALS\\_Data/bams\\_in/subscelltype\\_bamfiles/Astrocytes/CTRL1\\_CTfiltered.bam'\n",
       "\\item '/data1/APA/Paul\\_ALS\\_Data/bams\\_in/subscelltype\\_bamfiles/Astrocytes/CTRL2\\_CTfiltered.bam'\n",
       "\\item '/data1/APA/Paul\\_ALS\\_Data/bams\\_in/subscelltype\\_bamfiles/Astrocytes/CTRL3\\_CTfiltered.bam'\n",
       "\\item '/data1/APA/Paul\\_ALS\\_Data/bams\\_in/subscelltype\\_bamfiles/Astrocytes/CTRL4\\_CTfiltered.bam'\n",
       "\\item '/data1/APA/Paul\\_ALS\\_Data/bams\\_in/subscelltype\\_bamfiles/Astrocytes/CTRL5\\_CTfiltered.bam'\n",
       "\\item '/data1/APA/Paul\\_ALS\\_Data/bams\\_in/subscelltype\\_bamfiles/Astrocytes/CTRL6\\_CTfiltered.bam'\n",
       "\\end{enumerate*}\n"
      ],
      "text/markdown": [
       "1. '/data1/APA/Paul_ALS_Data/bams_in/subscelltype_bamfiles/Astrocytes/CTRL1_CTfiltered.bam'\n",
       "2. '/data1/APA/Paul_ALS_Data/bams_in/subscelltype_bamfiles/Astrocytes/CTRL2_CTfiltered.bam'\n",
       "3. '/data1/APA/Paul_ALS_Data/bams_in/subscelltype_bamfiles/Astrocytes/CTRL3_CTfiltered.bam'\n",
       "4. '/data1/APA/Paul_ALS_Data/bams_in/subscelltype_bamfiles/Astrocytes/CTRL4_CTfiltered.bam'\n",
       "5. '/data1/APA/Paul_ALS_Data/bams_in/subscelltype_bamfiles/Astrocytes/CTRL5_CTfiltered.bam'\n",
       "6. '/data1/APA/Paul_ALS_Data/bams_in/subscelltype_bamfiles/Astrocytes/CTRL6_CTfiltered.bam'\n",
       "\n",
       "\n"
      ],
      "text/plain": [
       "[1] \"/data1/APA/Paul_ALS_Data/bams_in/subscelltype_bamfiles/Astrocytes/CTRL1_CTfiltered.bam\"\n",
       "[2] \"/data1/APA/Paul_ALS_Data/bams_in/subscelltype_bamfiles/Astrocytes/CTRL2_CTfiltered.bam\"\n",
       "[3] \"/data1/APA/Paul_ALS_Data/bams_in/subscelltype_bamfiles/Astrocytes/CTRL3_CTfiltered.bam\"\n",
       "[4] \"/data1/APA/Paul_ALS_Data/bams_in/subscelltype_bamfiles/Astrocytes/CTRL4_CTfiltered.bam\"\n",
       "[5] \"/data1/APA/Paul_ALS_Data/bams_in/subscelltype_bamfiles/Astrocytes/CTRL5_CTfiltered.bam\"\n",
       "[6] \"/data1/APA/Paul_ALS_Data/bams_in/subscelltype_bamfiles/Astrocytes/CTRL6_CTfiltered.bam\""
      ]
     },
     "metadata": {},
     "output_type": "display_data"
    }
   ],
   "source": [
    "ast_fb_control_bams"
   ]
  },
  {
   "cell_type": "code",
   "execution_count": 24,
   "id": "3b6b5325",
   "metadata": {
    "vscode": {
     "languageId": "r"
    }
   },
   "outputs": [
    {
     "data": {
      "text/html": [
       "'/data1/APA/Paul_ALS_Data/bams_in/subscelltype_bamfiles/Astrocytes/sALS_merged.bam'"
      ],
      "text/latex": [
       "'/data1/APA/Paul\\_ALS\\_Data/bams\\_in/subscelltype\\_bamfiles/Astrocytes/sALS\\_merged.bam'"
      ],
      "text/markdown": [
       "'/data1/APA/Paul_ALS_Data/bams_in/subscelltype_bamfiles/Astrocytes/sALS_merged.bam'"
      ],
      "text/plain": [
       "[1] \"/data1/APA/Paul_ALS_Data/bams_in/subscelltype_bamfiles/Astrocytes/sALS_merged.bam\""
      ]
     },
     "metadata": {},
     "output_type": "display_data"
    }
   ],
   "source": [
    "ast_fb_sALSnoFTLD_bams"
   ]
  },
  {
   "cell_type": "code",
   "execution_count": 20,
   "id": "0623fa04-4641-40a3-94e9-f0c9a6ce1143",
   "metadata": {
    "jupyter": {
     "outputs_hidden": true
    },
    "tags": [],
    "vscode": {
     "languageId": "r"
    }
   },
   "outputs": [
    {
     "name": "stderr",
     "output_type": "stream",
     "text": [
      "Warning message in dir.create(output_dir, recursive = T):\n",
      "“'/data1/APA/Paul_ALS_Data/bams_in/subscelltype_bamfiles/Mapper_outs/Astrocytes_C9ALSvsCTRL' already exists”\n",
      "Prepare reference genome ...\n",
      "\n",
      "Import genomic features from the file as a GRanges object ... \n",
      "OK\n",
      "\n",
      "Prepare the 'metadata' data frame ... \n",
      "OK\n",
      "\n",
      "Make the TxDb object ... \n",
      "Warning message in .get_cds_IDX(mcols0$type, mcols0$phase):\n",
      "“The \"phase\" metadata column contains non-NA values for features of type\n",
      "  stop_codon. This information was ignored.”\n",
      "OK\n",
      "\n",
      "Sequence levels in GTF:\n",
      "\n"
     ]
    },
    {
     "name": "stdout",
     "output_type": "stream",
     "text": [
      " [1] \"chr1\"  \"chr2\"  \"chr3\"  \"chr4\"  \"chr5\"  \"chr6\"  \"chr7\"  \"chr8\"  \"chr9\" \n",
      "[10] \"chr10\" \"chr11\" \"chr12\" \"chr13\" \"chr14\" \"chr15\" \"chr16\" \"chr17\" \"chr18\"\n",
      "[19] \"chr19\" \"chr20\" \"chr21\" \"chr22\" \"chrX\"  \"chrY\"  \"chrM\" \n"
     ]
    },
    {
     "name": "stderr",
     "output_type": "stream",
     "text": [
      "Prepare PAS annotation ...\n",
      "\n",
      "16707 genes!\n",
      "\n",
      "Start training for condition c1 - sample 1 ...\n",
      "\n",
      "153 genes used for training ...\n",
      "\n",
      "0.2351 fragments longer than 600 ...\n",
      "\n",
      "Start training for condition c1 - sample 2 ...\n",
      "\n",
      "215 genes used for training ...\n",
      "\n",
      "0.2108 fragments longer than 600 ...\n",
      "\n",
      "Start training for condition c1 - sample 3 ...\n",
      "\n",
      "239 genes used for training ...\n",
      "\n",
      "0.1935 fragments longer than 600 ...\n",
      "\n",
      "Start training for condition c2 - sample 1 ...\n",
      "\n",
      "230 genes used for training ...\n",
      "\n",
      "0.3042 fragments longer than 600 ...\n",
      "\n",
      "Start training for condition c2 - sample 2 ...\n",
      "\n",
      "259 genes used for training ...\n",
      "\n",
      "0.3121 fragments longer than 600 ...\n",
      "\n",
      "Start training for condition c2 - sample 3 ...\n",
      "\n",
      "222 genes used for training ...\n",
      "\n",
      "0.2799 fragments longer than 600 ...\n",
      "\n",
      "Start training for condition c2 - sample 4 ...\n",
      "\n",
      "178 genes used for training ...\n",
      "\n",
      "0.3675 fragments longer than 600 ...\n",
      "\n",
      "Start training for condition c2 - sample 5 ...\n",
      "\n",
      "312 genes used for training ...\n",
      "\n",
      "0.217 fragments longer than 600 ...\n",
      "\n",
      "Start training for condition c2 - sample 6 ...\n",
      "\n",
      "64 genes used for training ...\n",
      "\n",
      "0.2219 fragments longer than 600 ...\n",
      "\n",
      "Calculate APA events ...\n",
      "\n"
     ]
    },
    {
     "name": "stdout",
     "output_type": "stream",
     "text": [
      "[1] FALSE\n"
     ]
    },
    {
     "name": "stderr",
     "output_type": "stream",
     "text": [
      "Writing results for 11075 genes ...\n",
      "\n",
      "Writing BED for 11075 genes ...\n",
      "\n"
     ]
    },
    {
     "data": {
      "text/html": [
       "0"
      ],
      "text/latex": [
       "0"
      ],
      "text/markdown": [
       "0"
      ],
      "text/plain": [
       "[1] 0"
      ]
     },
     "metadata": {},
     "output_type": "display_data"
    }
   ],
   "source": [
    "call_mapper(\"Astrocytes_sALSvsCTRL\",ast_fb_sALSnoFTLD_bams,ast_fb_control_bams)"
   ]
  },
  {
   "cell_type": "code",
   "execution_count": 28,
   "id": "97d33d5d",
   "metadata": {
    "vscode": {
     "languageId": "r"
    }
   },
   "outputs": [
    {
     "name": "stderr",
     "output_type": "stream",
     "text": [
      "Warning message in dir.create(output_dir, recursive = T):\n",
      "“'/data1/APA/Paul_ALS_Data/bams_in/subscelltype_bamfiles/Mapper_outs/Astrocytes_C9ALSvsCTRL' already exists”\n",
      "Prepare reference genome ...\n",
      "\n",
      "Import genomic features from the file as a GRanges object ... \n",
      "OK\n",
      "\n",
      "Prepare the 'metadata' data frame ... \n",
      "OK\n",
      "\n",
      "Make the TxDb object ... \n",
      "Warning message in .get_cds_IDX(mcols0$type, mcols0$phase):\n",
      "“The \"phase\" metadata column contains non-NA values for features of type\n",
      "  stop_codon. This information was ignored.”\n",
      "OK\n",
      "\n",
      "Sequence levels in GTF:\n",
      "\n"
     ]
    },
    {
     "name": "stdout",
     "output_type": "stream",
     "text": [
      " [1] \"chr1\"  \"chr2\"  \"chr3\"  \"chr4\"  \"chr5\"  \"chr6\"  \"chr7\"  \"chr8\"  \"chr9\" \n",
      "[10] \"chr10\" \"chr11\" \"chr12\" \"chr13\" \"chr14\" \"chr15\" \"chr16\" \"chr17\" \"chr18\"\n",
      "[19] \"chr19\" \"chr20\" \"chr21\" \"chr22\" \"chrX\"  \"chrY\"  \"chrM\" \n"
     ]
    },
    {
     "name": "stderr",
     "output_type": "stream",
     "text": [
      "Prepare PAS annotation ...\n",
      "\n",
      "16707 genes!\n",
      "\n",
      "Start training for condition c1 - sample 1 ...\n",
      "\n",
      "303 genes used for training ...\n",
      "\n",
      "0.2223 fragments longer than 600 ...\n",
      "\n",
      "Start training for condition c1 - sample 2 ...\n",
      "\n",
      "94 genes used for training ...\n",
      "\n",
      "0.2527 fragments longer than 600 ...\n",
      "\n",
      "Start training for condition c1 - sample 3 ...\n",
      "\n",
      "119 genes used for training ...\n",
      "\n",
      "0.2271 fragments longer than 600 ...\n",
      "\n",
      "Start training for condition c1 - sample 4 ...\n",
      "\n",
      "193 genes used for training ...\n",
      "\n",
      "0.3788 fragments longer than 600 ...\n",
      "\n",
      "Start training for condition c1 - sample 5 ...\n",
      "\n",
      "159 genes used for training ...\n",
      "\n",
      "0.3732 fragments longer than 600 ...\n",
      "\n",
      "Start training for condition c2 - sample 1 ...\n",
      "\n",
      "230 genes used for training ...\n",
      "\n",
      "0.3042 fragments longer than 600 ...\n",
      "\n",
      "Start training for condition c2 - sample 2 ...\n",
      "\n",
      "259 genes used for training ...\n",
      "\n",
      "0.3121 fragments longer than 600 ...\n",
      "\n",
      "Start training for condition c2 - sample 3 ...\n",
      "\n",
      "222 genes used for training ...\n",
      "\n",
      "0.2799 fragments longer than 600 ...\n",
      "\n",
      "Start training for condition c2 - sample 4 ...\n",
      "\n",
      "178 genes used for training ...\n",
      "\n",
      "0.3675 fragments longer than 600 ...\n",
      "\n",
      "Start training for condition c2 - sample 5 ...\n",
      "\n",
      "312 genes used for training ...\n",
      "\n",
      "0.217 fragments longer than 600 ...\n",
      "\n",
      "Start training for condition c2 - sample 6 ...\n",
      "\n",
      "64 genes used for training ...\n",
      "\n",
      "0.2219 fragments longer than 600 ...\n",
      "\n",
      "Calculate APA events ...\n",
      "\n"
     ]
    },
    {
     "name": "stdout",
     "output_type": "stream",
     "text": [
      "[1] FALSE\n"
     ]
    },
    {
     "name": "stderr",
     "output_type": "stream",
     "text": [
      "Writing results for 11495 genes ...\n",
      "\n",
      "Writing BED for 11495 genes ...\n",
      "\n"
     ]
    },
    {
     "data": {
      "text/html": [
       "0"
      ],
      "text/latex": [
       "0"
      ],
      "text/markdown": [
       "0"
      ],
      "text/plain": [
       "[1] 0"
      ]
     },
     "metadata": {},
     "output_type": "display_data"
    }
   ],
   "source": [
    "call_mapper(\"Astrocytes_C9ALSvsCTRL\",ast_fb_C9ALS_bams,ast_fb_control_bams)"
   ]
  },
  {
   "cell_type": "code",
   "execution_count": 92,
   "id": "c1b430ac-1506-4fbb-b52e-e3ca799e0ff9",
   "metadata": {
    "collapsed": true,
    "jupyter": {
     "outputs_hidden": true
    },
    "tags": [],
    "vscode": {
     "languageId": "r"
    }
   },
   "outputs": [
    {
     "name": "stderr",
     "output_type": "stream",
     "text": [
      "Prepare reference genome ...\n",
      "\n",
      "Import genomic features from the file as a GRanges object ... \n",
      "OK\n",
      "\n",
      "Prepare the 'metadata' data frame ... \n",
      "OK\n",
      "\n",
      "Make the TxDb object ... \n",
      "Warning message in .get_cds_IDX(mcols0$type, mcols0$phase):\n",
      "“The \"phase\" metadata column contains non-NA values for features of type\n",
      "  stop_codon. This information was ignored.”\n",
      "OK\n",
      "\n",
      "Sequence levels in GTF:\n",
      "\n"
     ]
    },
    {
     "name": "stdout",
     "output_type": "stream",
     "text": [
      " [1] \"chr1\"  \"chr2\"  \"chr3\"  \"chr4\"  \"chr5\"  \"chr6\"  \"chr7\"  \"chr8\"  \"chr9\" \n",
      "[10] \"chr10\" \"chr11\" \"chr12\" \"chr13\" \"chr14\" \"chr15\" \"chr16\" \"chr17\" \"chr18\"\n",
      "[19] \"chr19\" \"chr20\" \"chr21\" \"chr22\" \"chrX\"  \"chrY\"  \"chrM\" \n"
     ]
    },
    {
     "name": "stderr",
     "output_type": "stream",
     "text": [
      "Prepare PAS annotation ...\n",
      "\n",
      "16707 genes!\n",
      "\n",
      "Start training for condition c1 - sample 1 ...\n",
      "\n",
      "215 genes used for training ...\n",
      "\n",
      "0.211 fragments longer than 600 ...\n",
      "\n",
      "Start training for condition c1 - sample 2 ...\n",
      "\n",
      "235 genes used for training ...\n",
      "\n",
      "0.1951 fragments longer than 600 ...\n",
      "\n",
      "Start training for condition c1 - sample 3 ...\n",
      "\n",
      "0 genes used for training ...\n",
      "\n",
      "NaN fragments longer than 600 ...\n",
      "\n"
     ]
    },
    {
     "ename": "ERROR",
     "evalue": "Error in density.default(dist_all, from = 0, to = dist_thre, n = dist_thre + : argument 'x' must be numeric\n",
     "output_type": "error",
     "traceback": [
      "Error in density.default(dist_all, from = 0, to = dist_thre, n = dist_thre + : argument 'x' must be numeric\nTraceback:\n",
      "1. call_mapper(\"tst\", ast_fb_sALSnoFTLD_bams, ast_fb_control_bams)",
      "2. maaper(reference.gtf, apa_atlas, bam_c1 = c1, bam_c2 = c2, output_dir = ast_map_out, \n .     read_len = 91, ncores = 60)   # at line 4-5 of file <text>",
      "3. wrap(pas_by_gene_single, pas_by_gene = pas_annotation, exons_gr, \n .     bam_c1, bam_c2, density_train_path, dist_thre, num_thre, \n .     read_len, num_pas_thre, frac_pas_thre, ncores, save_path, \n .     run, subset, region, verbose, output_dir, paired = paired)",
      "4. lapply(conds, function(con) {\n .     if (con == \"c1\") {\n .         bam_paths = bam_c1\n .     }\n .     if (con == \"c2\") {\n .         bam_paths = bam_c2\n .     }\n .     ss = length(bam_paths)\n .     density_con = lapply(1:ss, function(k) {\n .         message(paste(\"Start training for condition\", con, \"-\", \n .             \"sample\", k, \"...\"))\n .         bam_path = bam_paths[k]\n .         pdist = get_pdist_singlePAS(bam_path, exons_gr, pas_by_gene_single, \n .             num_thre, dist_thre, ncores)\n .         gc()\n .         return(pdist)\n .     })\n . })",
      "5. FUN(X[[i]], ...)",
      "6. lapply(1:ss, function(k) {\n .     message(paste(\"Start training for condition\", con, \"-\", \"sample\", \n .         k, \"...\"))\n .     bam_path = bam_paths[k]\n .     pdist = get_pdist_singlePAS(bam_path, exons_gr, pas_by_gene_single, \n .         num_thre, dist_thre, ncores)\n .     gc()\n .     return(pdist)\n . })",
      "7. FUN(X[[i]], ...)",
      "8. get_pdist_singlePAS(bam_path, exons_gr, pas_by_gene_single, num_thre, \n .     dist_thre, ncores)",
      "9. density(dist_all, from = 0, to = dist_thre, n = dist_thre + 1)",
      "10. density.default(dist_all, from = 0, to = dist_thre, n = dist_thre + \n  .     1)",
      "11. stop(\"argument 'x' must be numeric\")"
     ]
    }
   ],
   "source": []
  },
  {
   "cell_type": "code",
   "execution_count": 93,
   "id": "c597e6c5-d616-4076-b04c-198bdb559e4f",
   "metadata": {
    "collapsed": true,
    "jupyter": {
     "outputs_hidden": true
    },
    "tags": [],
    "vscode": {
     "languageId": "r"
    }
   },
   "outputs": [
    {
     "name": "stderr",
     "output_type": "stream",
     "text": [
      "Prepare reference genome ...\n",
      "\n",
      "Import genomic features from the file as a GRanges object ... \n",
      "OK\n",
      "\n",
      "Prepare the 'metadata' data frame ... \n",
      "OK\n",
      "\n",
      "Make the TxDb object ... \n",
      "Warning message in .get_cds_IDX(mcols0$type, mcols0$phase):\n",
      "“The \"phase\" metadata column contains non-NA values for features of type\n",
      "  stop_codon. This information was ignored.”\n",
      "OK\n",
      "\n",
      "Sequence levels in GTF:\n",
      "\n"
     ]
    },
    {
     "name": "stdout",
     "output_type": "stream",
     "text": [
      " [1] \"chr1\"  \"chr2\"  \"chr3\"  \"chr4\"  \"chr5\"  \"chr6\"  \"chr7\"  \"chr8\"  \"chr9\" \n",
      "[10] \"chr10\" \"chr11\" \"chr12\" \"chr13\" \"chr14\" \"chr15\" \"chr16\" \"chr17\" \"chr18\"\n",
      "[19] \"chr19\" \"chr20\" \"chr21\" \"chr22\" \"chrX\"  \"chrY\"  \"chrM\" \n"
     ]
    },
    {
     "name": "stderr",
     "output_type": "stream",
     "text": [
      "Prepare PAS annotation ...\n",
      "\n",
      "16707 genes!\n",
      "\n",
      "Start training for condition c1 - sample 1 ...\n",
      "\n",
      "25 genes used for training ...\n",
      "\n",
      "0.1933 fragments longer than 600 ...\n",
      "\n",
      "Start training for condition c2 - sample 1 ...\n",
      "\n",
      "12 genes used for training ...\n",
      "\n",
      "0.1521 fragments longer than 600 ...\n",
      "\n",
      "Calculate APA events ...\n",
      "\n"
     ]
    },
    {
     "name": "stdout",
     "output_type": "stream",
     "text": [
      "[1] FALSE\n"
     ]
    },
    {
     "name": "stderr",
     "output_type": "stream",
     "text": [
      "Writing results for 127 genes ...\n",
      "\n"
     ]
    }
   ],
   "source": [
    "setwd(\"../Endothelial/\")\n",
    "call_mapper(\"Endothelial_ALSvsCTRL\", \"End_ALS_pseudoB.bam\", \"End_CTRL_pseudoB.bam\")"
   ]
  },
  {
   "cell_type": "code",
   "execution_count": 112,
   "id": "198de07c-9a56-4504-906b-8007fbc52c11",
   "metadata": {
    "vscode": {
     "languageId": "r"
    }
   },
   "outputs": [],
   "source": [
    "## lets do it with IN-PV\n",
    "setwd('../IN-PV/')\n",
    "bamfiles = list.files(pattern = \"*.bam$\")\n",
    "control_bams <- as.vector(paste0(root,\"IN-PV/\",bamfiles[which(startsWith(bamfiles, \"CTRL\"))]))\n",
    "C9ALS_bams <- as.vector(paste0(root,\"IN-PV/\",bamfiles[which(startsWith(bamfiles, \"C9ALS\"))]))\n",
    "sALS_bams <- as.vector(paste0(root,\"IN-PV/\",bamfiles[which(startsWith(bamfiles, \"sALSnoFTLD\"))]))"
   ]
  },
  {
   "cell_type": "code",
   "execution_count": 106,
   "id": "4a6a2e7d-067a-4420-8ec2-19397c9d27d7",
   "metadata": {
    "collapsed": true,
    "jupyter": {
     "outputs_hidden": true
    },
    "tags": [],
    "vscode": {
     "languageId": "r"
    }
   },
   "outputs": [
    {
     "name": "stderr",
     "output_type": "stream",
     "text": [
      "Warning message in dir.create(output_dir, recursive = T):\n",
      "“'/data1/APA/Paul_ALS_Data/bams_in/subscelltype_bamfiles/Mapper_outs/IN-PV_C9ALSvsCTRL' already exists”\n",
      "Prepare reference genome ...\n",
      "\n",
      "Import genomic features from the file as a GRanges object ... \n",
      "OK\n",
      "\n",
      "Prepare the 'metadata' data frame ... \n",
      "OK\n",
      "\n",
      "Make the TxDb object ... \n",
      "Warning message in .get_cds_IDX(mcols0$type, mcols0$phase):\n",
      "“The \"phase\" metadata column contains non-NA values for features of type\n",
      "  stop_codon. This information was ignored.”\n",
      "OK\n",
      "\n",
      "Sequence levels in GTF:\n",
      "\n"
     ]
    },
    {
     "name": "stdout",
     "output_type": "stream",
     "text": [
      " [1] \"chr1\"  \"chr2\"  \"chr3\"  \"chr4\"  \"chr5\"  \"chr6\"  \"chr7\"  \"chr8\"  \"chr9\" \n",
      "[10] \"chr10\" \"chr11\" \"chr12\" \"chr13\" \"chr14\" \"chr15\" \"chr16\" \"chr17\" \"chr18\"\n",
      "[19] \"chr19\" \"chr20\" \"chr21\" \"chr22\" \"chrX\"  \"chrY\"  \"chrM\" \n"
     ]
    },
    {
     "name": "stderr",
     "output_type": "stream",
     "text": [
      "Prepare PAS annotation ...\n",
      "\n",
      "16707 genes!\n",
      "\n",
      "Start training for condition c1 - sample 1 ...\n",
      "\n",
      "41 genes used for training ...\n",
      "\n",
      "0.2543 fragments longer than 600 ...\n",
      "\n",
      "Start training for condition c1 - sample 2 ...\n",
      "\n",
      "61 genes used for training ...\n",
      "\n",
      "0.2378 fragments longer than 600 ...\n",
      "\n",
      "Start training for condition c1 - sample 3 ...\n",
      "\n",
      "1 genes used for training ...\n",
      "\n",
      "0.1111 fragments longer than 600 ...\n",
      "\n",
      "Start training for condition c1 - sample 4 ...\n",
      "\n",
      "72 genes used for training ...\n",
      "\n",
      "0.0926 fragments longer than 600 ...\n",
      "\n",
      "Start training for condition c1 - sample 5 ...\n",
      "\n",
      "25 genes used for training ...\n",
      "\n",
      "0.3327 fragments longer than 600 ...\n",
      "\n",
      "Start training for condition c1 - sample 6 ...\n",
      "\n",
      "13 genes used for training ...\n",
      "\n",
      "0.609 fragments longer than 600 ...\n",
      "\n",
      "Start training for condition c2 - sample 1 ...\n",
      "\n",
      "22 genes used for training ...\n",
      "\n",
      "0.6815 fragments longer than 600 ...\n",
      "\n",
      "Start training for condition c2 - sample 2 ...\n",
      "\n",
      "91 genes used for training ...\n",
      "\n",
      "0.3505 fragments longer than 600 ...\n",
      "\n",
      "Start training for condition c2 - sample 3 ...\n",
      "\n",
      "4 genes used for training ...\n",
      "\n",
      "0.546 fragments longer than 600 ...\n",
      "\n",
      "Start training for condition c2 - sample 4 ...\n",
      "\n",
      "11 genes used for training ...\n",
      "\n",
      "0.1694 fragments longer than 600 ...\n",
      "\n",
      "Calculate APA events ...\n",
      "\n"
     ]
    },
    {
     "name": "stdout",
     "output_type": "stream",
     "text": [
      "[1] FALSE\n"
     ]
    },
    {
     "name": "stderr",
     "output_type": "stream",
     "text": [
      "Writing results for 5089 genes ...\n",
      "\n",
      "Writing BED for 5089 genes ...\n",
      "\n"
     ]
    },
    {
     "data": {
      "text/html": [
       "0"
      ],
      "text/latex": [
       "0"
      ],
      "text/markdown": [
       "0"
      ],
      "text/plain": [
       "[1] 0"
      ]
     },
     "metadata": {},
     "output_type": "display_data"
    }
   ],
   "source": [
    "call_mapper(\"IN-PV_C9ALSvsCTRL\", C9ALS_bams, control_bams)"
   ]
  },
  {
   "cell_type": "code",
   "execution_count": 114,
   "id": "4d32ebed-465f-491a-9380-e81573def19f",
   "metadata": {
    "collapsed": true,
    "jupyter": {
     "outputs_hidden": true
    },
    "tags": [],
    "vscode": {
     "languageId": "r"
    }
   },
   "outputs": [
    {
     "name": "stderr",
     "output_type": "stream",
     "text": [
      "Warning message in dir.create(output_dir, recursive = T):\n",
      "“'/data1/APA/Paul_ALS_Data/bams_in/subscelltype_bamfiles/Mapper_outs/IN-PV_sALSvsCTRL' already exists”\n",
      "Prepare reference genome ...\n",
      "\n",
      "Import genomic features from the file as a GRanges object ... \n",
      "OK\n",
      "\n",
      "Prepare the 'metadata' data frame ... \n",
      "OK\n",
      "\n",
      "Make the TxDb object ... \n",
      "Warning message in .get_cds_IDX(mcols0$type, mcols0$phase):\n",
      "“The \"phase\" metadata column contains non-NA values for features of type\n",
      "  stop_codon. This information was ignored.”\n",
      "OK\n",
      "\n",
      "Sequence levels in GTF:\n",
      "\n"
     ]
    },
    {
     "name": "stdout",
     "output_type": "stream",
     "text": [
      " [1] \"chr1\"  \"chr2\"  \"chr3\"  \"chr4\"  \"chr5\"  \"chr6\"  \"chr7\"  \"chr8\"  \"chr9\" \n",
      "[10] \"chr10\" \"chr11\" \"chr12\" \"chr13\" \"chr14\" \"chr15\" \"chr16\" \"chr17\" \"chr18\"\n",
      "[19] \"chr19\" \"chr20\" \"chr21\" \"chr22\" \"chrX\"  \"chrY\"  \"chrM\" \n"
     ]
    },
    {
     "name": "stderr",
     "output_type": "stream",
     "text": [
      "Prepare PAS annotation ...\n",
      "\n",
      "16707 genes!\n",
      "\n",
      "Start training for condition c1 - sample 1 ...\n",
      "\n",
      "70 genes used for training ...\n",
      "\n",
      "0.18 fragments longer than 600 ...\n",
      "\n",
      "Start training for condition c2 - sample 1 ...\n",
      "\n",
      "22 genes used for training ...\n",
      "\n",
      "0.6815 fragments longer than 600 ...\n",
      "\n",
      "Start training for condition c2 - sample 2 ...\n",
      "\n",
      "91 genes used for training ...\n",
      "\n",
      "0.3505 fragments longer than 600 ...\n",
      "\n",
      "Start training for condition c2 - sample 3 ...\n",
      "\n",
      "4 genes used for training ...\n",
      "\n",
      "0.546 fragments longer than 600 ...\n",
      "\n",
      "Start training for condition c2 - sample 4 ...\n",
      "\n",
      "11 genes used for training ...\n",
      "\n",
      "0.1694 fragments longer than 600 ...\n",
      "\n",
      "Calculate APA events ...\n",
      "\n"
     ]
    },
    {
     "name": "stdout",
     "output_type": "stream",
     "text": [
      "[1] FALSE\n"
     ]
    },
    {
     "name": "stderr",
     "output_type": "stream",
     "text": [
      "Writing results for 4253 genes ...\n",
      "\n",
      "Writing BED for 4253 genes ...\n",
      "\n"
     ]
    },
    {
     "data": {
      "text/html": [
       "0"
      ],
      "text/latex": [
       "0"
      ],
      "text/markdown": [
       "0"
      ],
      "text/plain": [
       "[1] 0"
      ]
     },
     "metadata": {},
     "output_type": "display_data"
    }
   ],
   "source": [
    "call_mapper(\"IN-PV_sALSvsCTRL\", \"IN-PV_sALS_pseudoB.bam\", control_bams)"
   ]
  },
  {
   "cell_type": "code",
   "execution_count": 110,
   "id": "bdb9a896-47b0-4af8-a310-8d1ee257f214",
   "metadata": {
    "vscode": {
     "languageId": "r"
    }
   },
   "outputs": [
    {
     "data": {
      "text/html": [
       "<style>\n",
       ".list-inline {list-style: none; margin:0; padding: 0}\n",
       ".list-inline>li {display: inline-block}\n",
       ".list-inline>li:not(:last-child)::after {content: \"\\00b7\"; padding: 0 .5ex}\n",
       "</style>\n",
       "<ol class=list-inline><li>'/data1/APA/Paul_ALS_Data/bams_in/subscelltype_bamfiles/IN-PV/sALSnoFTLD3_CTfiltered.bam'</li><li>'/data1/APA/Paul_ALS_Data/bams_in/subscelltype_bamfiles/IN-PV/sALSnoFTLD4_5_CTfiltered.bam'</li><li>'/data1/APA/Paul_ALS_Data/bams_in/subscelltype_bamfiles/IN-PV/sALSnoFTLD8_CTfiltered.bam'</li></ol>\n"
      ],
      "text/latex": [
       "\\begin{enumerate*}\n",
       "\\item '/data1/APA/Paul\\_ALS\\_Data/bams\\_in/subscelltype\\_bamfiles/IN-PV/sALSnoFTLD3\\_CTfiltered.bam'\n",
       "\\item '/data1/APA/Paul\\_ALS\\_Data/bams\\_in/subscelltype\\_bamfiles/IN-PV/sALSnoFTLD4\\_5\\_CTfiltered.bam'\n",
       "\\item '/data1/APA/Paul\\_ALS\\_Data/bams\\_in/subscelltype\\_bamfiles/IN-PV/sALSnoFTLD8\\_CTfiltered.bam'\n",
       "\\end{enumerate*}\n"
      ],
      "text/markdown": [
       "1. '/data1/APA/Paul_ALS_Data/bams_in/subscelltype_bamfiles/IN-PV/sALSnoFTLD3_CTfiltered.bam'\n",
       "2. '/data1/APA/Paul_ALS_Data/bams_in/subscelltype_bamfiles/IN-PV/sALSnoFTLD4_5_CTfiltered.bam'\n",
       "3. '/data1/APA/Paul_ALS_Data/bams_in/subscelltype_bamfiles/IN-PV/sALSnoFTLD8_CTfiltered.bam'\n",
       "\n",
       "\n"
      ],
      "text/plain": [
       "[1] \"/data1/APA/Paul_ALS_Data/bams_in/subscelltype_bamfiles/IN-PV/sALSnoFTLD3_CTfiltered.bam\"  \n",
       "[2] \"/data1/APA/Paul_ALS_Data/bams_in/subscelltype_bamfiles/IN-PV/sALSnoFTLD4_5_CTfiltered.bam\"\n",
       "[3] \"/data1/APA/Paul_ALS_Data/bams_in/subscelltype_bamfiles/IN-PV/sALSnoFTLD8_CTfiltered.bam\"  "
      ]
     },
     "metadata": {},
     "output_type": "display_data"
    }
   ],
   "source": [
    "sALS_bams"
   ]
  },
  {
   "cell_type": "code",
   "execution_count": 119,
   "id": "5fe9ed70-bffc-4140-b8c7-bd59a63a7d0c",
   "metadata": {
    "vscode": {
     "languageId": "r"
    }
   },
   "outputs": [],
   "source": [
    "## lets do it with IN-SST\n",
    "setwd('../IN-SST/')\n",
    "bamfiles = list.files(pattern = \"*.bam$\")\n",
    "control_bams <- as.vector(paste0(root,\"IN-SST/\",bamfiles[which(startsWith(bamfiles, \"CTRL\"))]))\n",
    "C9ALS_bams <- as.vector(paste0(root,\"IN-SST/\",bamfiles[which(startsWith(bamfiles, \"C9ALS\"))]))\n",
    "sALS_bams <- as.vector(paste0(root,\"IN-SST/\",bamfiles[which(startsWith(bamfiles, \"sALSnoFTLD\"))]))"
   ]
  },
  {
   "cell_type": "code",
   "execution_count": 116,
   "id": "dca8c4ad-d43b-4325-b851-aa104a9ddf1a",
   "metadata": {
    "collapsed": true,
    "jupyter": {
     "outputs_hidden": true
    },
    "tags": [],
    "vscode": {
     "languageId": "r"
    }
   },
   "outputs": [
    {
     "name": "stderr",
     "output_type": "stream",
     "text": [
      "Prepare reference genome ...\n",
      "\n",
      "Import genomic features from the file as a GRanges object ... \n",
      "OK\n",
      "\n",
      "Prepare the 'metadata' data frame ... \n",
      "OK\n",
      "\n",
      "Make the TxDb object ... \n",
      "Warning message in .get_cds_IDX(mcols0$type, mcols0$phase):\n",
      "“The \"phase\" metadata column contains non-NA values for features of type\n",
      "  stop_codon. This information was ignored.”\n",
      "OK\n",
      "\n",
      "Sequence levels in GTF:\n",
      "\n"
     ]
    },
    {
     "name": "stdout",
     "output_type": "stream",
     "text": [
      " [1] \"chr1\"  \"chr2\"  \"chr3\"  \"chr4\"  \"chr5\"  \"chr6\"  \"chr7\"  \"chr8\"  \"chr9\" \n",
      "[10] \"chr10\" \"chr11\" \"chr12\" \"chr13\" \"chr14\" \"chr15\" \"chr16\" \"chr17\" \"chr18\"\n",
      "[19] \"chr19\" \"chr20\" \"chr21\" \"chr22\" \"chrX\"  \"chrY\"  \"chrM\" \n"
     ]
    },
    {
     "name": "stderr",
     "output_type": "stream",
     "text": [
      "Prepare PAS annotation ...\n",
      "\n",
      "16707 genes!\n",
      "\n",
      "Start training for condition c1 - sample 1 ...\n",
      "\n",
      "28 genes used for training ...\n",
      "\n",
      "0.1587 fragments longer than 600 ...\n",
      "\n",
      "Start training for condition c1 - sample 2 ...\n",
      "\n",
      "88 genes used for training ...\n",
      "\n",
      "0.2057 fragments longer than 600 ...\n",
      "\n",
      "Start training for condition c1 - sample 3 ...\n",
      "\n",
      "14 genes used for training ...\n",
      "\n",
      "0.306 fragments longer than 600 ...\n",
      "\n",
      "Start training for condition c1 - sample 4 ...\n",
      "\n",
      "67 genes used for training ...\n",
      "\n",
      "0.1085 fragments longer than 600 ...\n",
      "\n",
      "Start training for condition c1 - sample 5 ...\n",
      "\n",
      "25 genes used for training ...\n",
      "\n",
      "0.3604 fragments longer than 600 ...\n",
      "\n",
      "Start training for condition c1 - sample 6 ...\n",
      "\n",
      "5 genes used for training ...\n",
      "\n",
      "0.5047 fragments longer than 600 ...\n",
      "\n",
      "Start training for condition c2 - sample 1 ...\n",
      "\n",
      "7 genes used for training ...\n",
      "\n",
      "0.1367 fragments longer than 600 ...\n",
      "\n",
      "Start training for condition c2 - sample 2 ...\n",
      "\n",
      "93 genes used for training ...\n",
      "\n",
      "0.5724 fragments longer than 600 ...\n",
      "\n",
      "Start training for condition c2 - sample 3 ...\n",
      "\n",
      "71 genes used for training ...\n",
      "\n",
      "0.3604 fragments longer than 600 ...\n",
      "\n",
      "Start training for condition c2 - sample 4 ...\n",
      "\n",
      "37 genes used for training ...\n",
      "\n",
      "0.5241 fragments longer than 600 ...\n",
      "\n",
      "Start training for condition c2 - sample 5 ...\n",
      "\n",
      "31 genes used for training ...\n",
      "\n",
      "0.2281 fragments longer than 600 ...\n",
      "\n",
      "Calculate APA events ...\n",
      "\n"
     ]
    },
    {
     "name": "stdout",
     "output_type": "stream",
     "text": [
      "[1] FALSE\n"
     ]
    },
    {
     "name": "stderr",
     "output_type": "stream",
     "text": [
      "Writing results for 6432 genes ...\n",
      "\n",
      "Writing BED for 6432 genes ...\n",
      "\n"
     ]
    },
    {
     "data": {
      "text/html": [
       "0"
      ],
      "text/latex": [
       "0"
      ],
      "text/markdown": [
       "0"
      ],
      "text/plain": [
       "[1] 0"
      ]
     },
     "metadata": {},
     "output_type": "display_data"
    }
   ],
   "source": [
    "call_mapper(\"IN-SST_C9ALSvsCTRL\", C9ALS_bams, control_bams)"
   ]
  },
  {
   "cell_type": "code",
   "execution_count": 121,
   "id": "ae91602f-956c-42d2-be01-8dfaa8b4ad33",
   "metadata": {
    "collapsed": true,
    "jupyter": {
     "outputs_hidden": true
    },
    "tags": [],
    "vscode": {
     "languageId": "r"
    }
   },
   "outputs": [
    {
     "name": "stderr",
     "output_type": "stream",
     "text": [
      "Warning message in dir.create(output_dir, recursive = T):\n",
      "“'/data1/APA/Paul_ALS_Data/bams_in/subscelltype_bamfiles/Mapper_outs/IN-SST_sALSvsCTRL' already exists”\n",
      "Prepare reference genome ...\n",
      "\n",
      "Import genomic features from the file as a GRanges object ... \n",
      "OK\n",
      "\n",
      "Prepare the 'metadata' data frame ... \n",
      "OK\n",
      "\n",
      "Make the TxDb object ... \n",
      "Warning message in .get_cds_IDX(mcols0$type, mcols0$phase):\n",
      "“The \"phase\" metadata column contains non-NA values for features of type\n",
      "  stop_codon. This information was ignored.”\n",
      "OK\n",
      "\n",
      "Sequence levels in GTF:\n",
      "\n"
     ]
    },
    {
     "name": "stdout",
     "output_type": "stream",
     "text": [
      " [1] \"chr1\"  \"chr2\"  \"chr3\"  \"chr4\"  \"chr5\"  \"chr6\"  \"chr7\"  \"chr8\"  \"chr9\" \n",
      "[10] \"chr10\" \"chr11\" \"chr12\" \"chr13\" \"chr14\" \"chr15\" \"chr16\" \"chr17\" \"chr18\"\n",
      "[19] \"chr19\" \"chr20\" \"chr21\" \"chr22\" \"chrX\"  \"chrY\"  \"chrM\" \n"
     ]
    },
    {
     "name": "stderr",
     "output_type": "stream",
     "text": [
      "Prepare PAS annotation ...\n",
      "\n",
      "16707 genes!\n",
      "\n",
      "Start training for condition c1 - sample 1 ...\n",
      "\n",
      "45 genes used for training ...\n",
      "\n",
      "0.1322 fragments longer than 600 ...\n",
      "\n",
      "Start training for condition c1 - sample 2 ...\n",
      "\n",
      "49 genes used for training ...\n",
      "\n",
      "0.1106 fragments longer than 600 ...\n",
      "\n",
      "Start training for condition c2 - sample 1 ...\n",
      "\n",
      "7 genes used for training ...\n",
      "\n",
      "0.1367 fragments longer than 600 ...\n",
      "\n",
      "Start training for condition c2 - sample 2 ...\n",
      "\n",
      "93 genes used for training ...\n",
      "\n",
      "0.5724 fragments longer than 600 ...\n",
      "\n",
      "Start training for condition c2 - sample 3 ...\n",
      "\n",
      "71 genes used for training ...\n",
      "\n",
      "0.3604 fragments longer than 600 ...\n",
      "\n",
      "Start training for condition c2 - sample 4 ...\n",
      "\n",
      "37 genes used for training ...\n",
      "\n",
      "0.5241 fragments longer than 600 ...\n",
      "\n",
      "Start training for condition c2 - sample 5 ...\n",
      "\n",
      "31 genes used for training ...\n",
      "\n",
      "0.2281 fragments longer than 600 ...\n",
      "\n",
      "Calculate APA events ...\n",
      "\n"
     ]
    },
    {
     "name": "stdout",
     "output_type": "stream",
     "text": [
      "[1] FALSE\n"
     ]
    },
    {
     "name": "stderr",
     "output_type": "stream",
     "text": [
      "Writing results for 5022 genes ...\n",
      "\n",
      "Writing BED for 5022 genes ...\n",
      "\n"
     ]
    },
    {
     "data": {
      "text/html": [
       "0"
      ],
      "text/latex": [
       "0"
      ],
      "text/markdown": [
       "0"
      ],
      "text/plain": [
       "[1] 0"
      ]
     },
     "metadata": {},
     "output_type": "display_data"
    }
   ],
   "source": [
    "call_mapper(\"IN-SST_sALSvsCTRL\", sALS_bams, control_bams)"
   ]
  },
  {
   "cell_type": "code",
   "execution_count": 132,
   "id": "798e67a8-a92b-40fe-81ea-17b306d14c2c",
   "metadata": {
    "vscode": {
     "languageId": "r"
    }
   },
   "outputs": [],
   "source": [
    "## lets do it with IN-VIP\n",
    "setwd('../IN-VIP/')\n",
    "bamfiles = list.files(pattern = \"*.bam$\")\n",
    "control_bams <- as.vector(paste0(root,\"IN-VIP/\",bamfiles[which(startsWith(bamfiles, \"CTRL\"))]))\n",
    "C9ALS_bams <- as.vector(paste0(root,\"IN-VIP/\",bamfiles[which(startsWith(bamfiles, \"C9ALS\"))]))\n",
    "sALS_bams <- as.vector(paste0(root,\"IN-VIP/\",bamfiles[which(startsWith(bamfiles, \"sALSnoFTLD\"))]))"
   ]
  },
  {
   "cell_type": "code",
   "execution_count": 133,
   "id": "d4794b8a-7f11-4983-9c1d-4c7950004390",
   "metadata": {
    "collapsed": true,
    "jupyter": {
     "outputs_hidden": true
    },
    "tags": [],
    "vscode": {
     "languageId": "r"
    }
   },
   "outputs": [
    {
     "name": "stderr",
     "output_type": "stream",
     "text": [
      "Warning message in dir.create(output_dir, recursive = T):\n",
      "“'/data1/APA/Paul_ALS_Data/bams_in/subscelltype_bamfiles/Mapper_outs/IN-VIP_C9ALSvsCTRL' already exists”\n",
      "Prepare reference genome ...\n",
      "\n",
      "Import genomic features from the file as a GRanges object ... \n",
      "OK\n",
      "\n",
      "Prepare the 'metadata' data frame ... \n",
      "OK\n",
      "\n",
      "Make the TxDb object ... \n",
      "Warning message in .get_cds_IDX(mcols0$type, mcols0$phase):\n",
      "“The \"phase\" metadata column contains non-NA values for features of type\n",
      "  stop_codon. This information was ignored.”\n",
      "OK\n",
      "\n",
      "Sequence levels in GTF:\n",
      "\n"
     ]
    },
    {
     "name": "stdout",
     "output_type": "stream",
     "text": [
      " [1] \"chr1\"  \"chr2\"  \"chr3\"  \"chr4\"  \"chr5\"  \"chr6\"  \"chr7\"  \"chr8\"  \"chr9\" \n",
      "[10] \"chr10\" \"chr11\" \"chr12\" \"chr13\" \"chr14\" \"chr15\" \"chr16\" \"chr17\" \"chr18\"\n",
      "[19] \"chr19\" \"chr20\" \"chr21\" \"chr22\" \"chrX\"  \"chrY\"  \"chrM\" \n"
     ]
    },
    {
     "name": "stderr",
     "output_type": "stream",
     "text": [
      "Prepare PAS annotation ...\n",
      "\n",
      "16707 genes!\n",
      "\n",
      "Start training for condition c1 - sample 1 ...\n",
      "\n",
      "114 genes used for training ...\n",
      "\n",
      "0.192 fragments longer than 600 ...\n",
      "\n",
      "Start training for condition c1 - sample 2 ...\n",
      "\n",
      "3 genes used for training ...\n",
      "\n",
      "0.1688 fragments longer than 600 ...\n",
      "\n",
      "Start training for condition c1 - sample 3 ...\n",
      "\n",
      "98 genes used for training ...\n",
      "\n",
      "0.0934 fragments longer than 600 ...\n",
      "\n",
      "Start training for condition c1 - sample 4 ...\n",
      "\n",
      "29 genes used for training ...\n",
      "\n",
      "0.2929 fragments longer than 600 ...\n",
      "\n",
      "Start training for condition c1 - sample 5 ...\n",
      "\n",
      "26 genes used for training ...\n",
      "\n",
      "0.5385 fragments longer than 600 ...\n",
      "\n",
      "Start training for condition c2 - sample 1 ...\n",
      "\n",
      "115 genes used for training ...\n",
      "\n",
      "0.3345 fragments longer than 600 ...\n",
      "\n",
      "Start training for condition c2 - sample 2 ...\n",
      "\n",
      "23 genes used for training ...\n",
      "\n",
      "0.6669 fragments longer than 600 ...\n",
      "\n",
      "Start training for condition c2 - sample 3 ...\n",
      "\n",
      "5 genes used for training ...\n",
      "\n",
      "0.2945 fragments longer than 600 ...\n",
      "\n",
      "Start training for condition c2 - sample 4 ...\n",
      "\n",
      "96 genes used for training ...\n",
      "\n",
      "0.1836 fragments longer than 600 ...\n",
      "\n",
      "Calculate APA events ...\n",
      "\n"
     ]
    },
    {
     "name": "stdout",
     "output_type": "stream",
     "text": [
      "[1] FALSE\n"
     ]
    },
    {
     "name": "stderr",
     "output_type": "stream",
     "text": [
      "Writing results for 7381 genes ...\n",
      "\n",
      "Writing BED for 7381 genes ...\n",
      "\n"
     ]
    },
    {
     "data": {
      "text/html": [
       "0"
      ],
      "text/latex": [
       "0"
      ],
      "text/markdown": [
       "0"
      ],
      "text/plain": [
       "[1] 0"
      ]
     },
     "metadata": {},
     "output_type": "display_data"
    }
   ],
   "source": [
    "call_mapper(\"IN-VIP_C9ALSvsCTRL\", C9ALS_bams, control_bams)"
   ]
  },
  {
   "cell_type": "code",
   "execution_count": 134,
   "id": "bb50e96f-ddcd-4f4c-b79d-533c36706d7a",
   "metadata": {
    "collapsed": true,
    "jupyter": {
     "outputs_hidden": true
    },
    "tags": [],
    "vscode": {
     "languageId": "r"
    }
   },
   "outputs": [
    {
     "name": "stderr",
     "output_type": "stream",
     "text": [
      "Prepare reference genome ...\n",
      "\n",
      "Import genomic features from the file as a GRanges object ... \n",
      "OK\n",
      "\n",
      "Prepare the 'metadata' data frame ... \n",
      "OK\n",
      "\n",
      "Make the TxDb object ... \n",
      "Warning message in .get_cds_IDX(mcols0$type, mcols0$phase):\n",
      "“The \"phase\" metadata column contains non-NA values for features of type\n",
      "  stop_codon. This information was ignored.”\n",
      "OK\n",
      "\n",
      "Sequence levels in GTF:\n",
      "\n"
     ]
    },
    {
     "name": "stdout",
     "output_type": "stream",
     "text": [
      " [1] \"chr1\"  \"chr2\"  \"chr3\"  \"chr4\"  \"chr5\"  \"chr6\"  \"chr7\"  \"chr8\"  \"chr9\" \n",
      "[10] \"chr10\" \"chr11\" \"chr12\" \"chr13\" \"chr14\" \"chr15\" \"chr16\" \"chr17\" \"chr18\"\n",
      "[19] \"chr19\" \"chr20\" \"chr21\" \"chr22\" \"chrX\"  \"chrY\"  \"chrM\" \n"
     ]
    },
    {
     "name": "stderr",
     "output_type": "stream",
     "text": [
      "Prepare PAS annotation ...\n",
      "\n",
      "16707 genes!\n",
      "\n",
      "Start training for condition c1 - sample 1 ...\n",
      "\n",
      "40 genes used for training ...\n",
      "\n",
      "0.1469 fragments longer than 600 ...\n",
      "\n",
      "Start training for condition c2 - sample 1 ...\n",
      "\n",
      "115 genes used for training ...\n",
      "\n",
      "0.3345 fragments longer than 600 ...\n",
      "\n",
      "Start training for condition c2 - sample 2 ...\n",
      "\n",
      "23 genes used for training ...\n",
      "\n",
      "0.6669 fragments longer than 600 ...\n",
      "\n",
      "Start training for condition c2 - sample 3 ...\n",
      "\n",
      "5 genes used for training ...\n",
      "\n",
      "0.2945 fragments longer than 600 ...\n",
      "\n",
      "Start training for condition c2 - sample 4 ...\n",
      "\n",
      "96 genes used for training ...\n",
      "\n",
      "0.1836 fragments longer than 600 ...\n",
      "\n",
      "Calculate APA events ...\n",
      "\n"
     ]
    },
    {
     "name": "stdout",
     "output_type": "stream",
     "text": [
      "[1] FALSE\n"
     ]
    },
    {
     "name": "stderr",
     "output_type": "stream",
     "text": [
      "Writing results for 2836 genes ...\n",
      "\n",
      "Writing BED for 2836 genes ...\n",
      "\n"
     ]
    },
    {
     "data": {
      "text/html": [
       "0"
      ],
      "text/latex": [
       "0"
      ],
      "text/markdown": [
       "0"
      ],
      "text/plain": [
       "[1] 0"
      ]
     },
     "metadata": {},
     "output_type": "display_data"
    }
   ],
   "source": [
    "call_mapper(\"IN-VIP_sALSvsCTRL\", sALS_bams, control_bams)"
   ]
  },
  {
   "cell_type": "code",
   "execution_count": 154,
   "id": "82105bd6-6e56-4535-967c-a0d75ce602b3",
   "metadata": {
    "vscode": {
     "languageId": "r"
    }
   },
   "outputs": [],
   "source": [
    "## lets do it with IN-VIP\n",
    "setwd('../L2-3/')\n",
    "bamfiles = list.files(pattern = \"*.bam$\")\n",
    "control_bams <- as.vector(paste0(root,\"L2-3/\",bamfiles[which(startsWith(bamfiles, \"CTRL\"))]))\n",
    "C9ALS_bams <- as.vector(paste0(root,\"L2-3/\",bamfiles[which(startsWith(bamfiles, \"C9ALS\"))]))\n",
    "sALS_bams <- as.vector(paste0(root,\"L2-3/\",bamfiles[which(startsWith(bamfiles, \"sALSnoFTLD\"))]))"
   ]
  },
  {
   "cell_type": "code",
   "execution_count": 155,
   "id": "66854626-5820-4501-88e1-bd78d6ba28cc",
   "metadata": {
    "vscode": {
     "languageId": "r"
    }
   },
   "outputs": [
    {
     "data": {
      "text/html": [
       "<style>\n",
       ".list-inline {list-style: none; margin:0; padding: 0}\n",
       ".list-inline>li {display: inline-block}\n",
       ".list-inline>li:not(:last-child)::after {content: \"\\00b7\"; padding: 0 .5ex}\n",
       "</style>\n",
       "<ol class=list-inline><li>'/data1/APA/Paul_ALS_Data/bams_in/subscelltype_bamfiles/L2-3/sALSnoFTLD34_CTfiltered.bam'</li><li>'/data1/APA/Paul_ALS_Data/bams_in/subscelltype_bamfiles/L2-3/sALSnoFTLD58_CTfiltered.bam'</li></ol>\n"
      ],
      "text/latex": [
       "\\begin{enumerate*}\n",
       "\\item '/data1/APA/Paul\\_ALS\\_Data/bams\\_in/subscelltype\\_bamfiles/L2-3/sALSnoFTLD34\\_CTfiltered.bam'\n",
       "\\item '/data1/APA/Paul\\_ALS\\_Data/bams\\_in/subscelltype\\_bamfiles/L2-3/sALSnoFTLD58\\_CTfiltered.bam'\n",
       "\\end{enumerate*}\n"
      ],
      "text/markdown": [
       "1. '/data1/APA/Paul_ALS_Data/bams_in/subscelltype_bamfiles/L2-3/sALSnoFTLD34_CTfiltered.bam'\n",
       "2. '/data1/APA/Paul_ALS_Data/bams_in/subscelltype_bamfiles/L2-3/sALSnoFTLD58_CTfiltered.bam'\n",
       "\n",
       "\n"
      ],
      "text/plain": [
       "[1] \"/data1/APA/Paul_ALS_Data/bams_in/subscelltype_bamfiles/L2-3/sALSnoFTLD34_CTfiltered.bam\"\n",
       "[2] \"/data1/APA/Paul_ALS_Data/bams_in/subscelltype_bamfiles/L2-3/sALSnoFTLD58_CTfiltered.bam\""
      ]
     },
     "metadata": {},
     "output_type": "display_data"
    }
   ],
   "source": [
    "sALS_bams"
   ]
  },
  {
   "cell_type": "code",
   "execution_count": 149,
   "id": "1e6913da-ff4e-4bf5-bda5-5b062fb62a42",
   "metadata": {
    "collapsed": true,
    "jupyter": {
     "outputs_hidden": true
    },
    "tags": [],
    "vscode": {
     "languageId": "r"
    }
   },
   "outputs": [
    {
     "name": "stderr",
     "output_type": "stream",
     "text": [
      "Warning message in dir.create(output_dir, recursive = T):\n",
      "“'/data1/APA/Paul_ALS_Data/bams_in/subscelltype_bamfiles/Mapper_outs/L2-3_C9ALSvsCTRL' already exists”\n",
      "Prepare reference genome ...\n",
      "\n",
      "Import genomic features from the file as a GRanges object ... \n",
      "OK\n",
      "\n",
      "Prepare the 'metadata' data frame ... \n",
      "OK\n",
      "\n",
      "Make the TxDb object ... \n",
      "Warning message in .get_cds_IDX(mcols0$type, mcols0$phase):\n",
      "“The \"phase\" metadata column contains non-NA values for features of type\n",
      "  stop_codon. This information was ignored.”\n",
      "OK\n",
      "\n",
      "Sequence levels in GTF:\n",
      "\n"
     ]
    },
    {
     "name": "stdout",
     "output_type": "stream",
     "text": [
      " [1] \"chr1\"  \"chr2\"  \"chr3\"  \"chr4\"  \"chr5\"  \"chr6\"  \"chr7\"  \"chr8\"  \"chr9\" \n",
      "[10] \"chr10\" \"chr11\" \"chr12\" \"chr13\" \"chr14\" \"chr15\" \"chr16\" \"chr17\" \"chr18\"\n",
      "[19] \"chr19\" \"chr20\" \"chr21\" \"chr22\" \"chrX\"  \"chrY\"  \"chrM\" \n"
     ]
    },
    {
     "name": "stderr",
     "output_type": "stream",
     "text": [
      "Prepare PAS annotation ...\n",
      "\n",
      "16707 genes!\n",
      "\n",
      "Start training for condition c1 - sample 1 ...\n",
      "\n",
      "166 genes used for training ...\n",
      "\n",
      "0.195 fragments longer than 600 ...\n",
      "\n",
      "Start training for condition c1 - sample 2 ...\n",
      "\n",
      "178 genes used for training ...\n",
      "\n",
      "0.4306 fragments longer than 600 ...\n",
      "\n",
      "Start training for condition c2 - sample 1 ...\n",
      "\n",
      "119 genes used for training ...\n",
      "\n",
      "0.4895 fragments longer than 600 ...\n",
      "\n",
      "Start training for condition c2 - sample 2 ...\n",
      "\n",
      "157 genes used for training ...\n",
      "\n",
      "0.3111 fragments longer than 600 ...\n",
      "\n",
      "Calculate APA events ...\n",
      "\n"
     ]
    },
    {
     "name": "stdout",
     "output_type": "stream",
     "text": [
      "[1] FALSE\n"
     ]
    },
    {
     "name": "stderr",
     "output_type": "stream",
     "text": [
      "Writing results for 8735 genes ...\n",
      "\n",
      "Writing BED for 8735 genes ...\n",
      "\n"
     ]
    },
    {
     "data": {
      "text/html": [
       "0"
      ],
      "text/latex": [
       "0"
      ],
      "text/markdown": [
       "0"
      ],
      "text/plain": [
       "[1] 0"
      ]
     },
     "metadata": {},
     "output_type": "display_data"
    }
   ],
   "source": [
    "call_mapper(\"L2-3_C9ALSvsCTRL\", C9ALS_bams, control_bams)"
   ]
  },
  {
   "cell_type": "code",
   "execution_count": 156,
   "id": "bb78f679-5382-4c5d-917f-3dc355ba0299",
   "metadata": {
    "collapsed": true,
    "jupyter": {
     "outputs_hidden": true
    },
    "tags": [],
    "vscode": {
     "languageId": "r"
    }
   },
   "outputs": [
    {
     "name": "stderr",
     "output_type": "stream",
     "text": [
      "Warning message in dir.create(output_dir, recursive = T):\n",
      "“'/data1/APA/Paul_ALS_Data/bams_in/subscelltype_bamfiles/Mapper_outs/L2-3_sALSvsCTRL' already exists”\n",
      "Prepare reference genome ...\n",
      "\n",
      "Import genomic features from the file as a GRanges object ... \n",
      "OK\n",
      "\n",
      "Prepare the 'metadata' data frame ... \n",
      "OK\n",
      "\n",
      "Make the TxDb object ... \n",
      "Warning message in .get_cds_IDX(mcols0$type, mcols0$phase):\n",
      "“The \"phase\" metadata column contains non-NA values for features of type\n",
      "  stop_codon. This information was ignored.”\n",
      "OK\n",
      "\n",
      "Sequence levels in GTF:\n",
      "\n"
     ]
    },
    {
     "name": "stdout",
     "output_type": "stream",
     "text": [
      " [1] \"chr1\"  \"chr2\"  \"chr3\"  \"chr4\"  \"chr5\"  \"chr6\"  \"chr7\"  \"chr8\"  \"chr9\" \n",
      "[10] \"chr10\" \"chr11\" \"chr12\" \"chr13\" \"chr14\" \"chr15\" \"chr16\" \"chr17\" \"chr18\"\n",
      "[19] \"chr19\" \"chr20\" \"chr21\" \"chr22\" \"chrX\"  \"chrY\"  \"chrM\" \n"
     ]
    },
    {
     "name": "stderr",
     "output_type": "stream",
     "text": [
      "Prepare PAS annotation ...\n",
      "\n",
      "16707 genes!\n",
      "\n",
      "Start training for condition c1 - sample 1 ...\n",
      "\n",
      "27 genes used for training ...\n",
      "\n",
      "0.2654 fragments longer than 600 ...\n",
      "\n",
      "Start training for condition c1 - sample 2 ...\n",
      "\n",
      "4 genes used for training ...\n",
      "\n",
      "0.2151 fragments longer than 600 ...\n",
      "\n",
      "Start training for condition c2 - sample 1 ...\n",
      "\n",
      "119 genes used for training ...\n",
      "\n",
      "0.4895 fragments longer than 600 ...\n",
      "\n",
      "Start training for condition c2 - sample 2 ...\n",
      "\n",
      "157 genes used for training ...\n",
      "\n",
      "0.3111 fragments longer than 600 ...\n",
      "\n",
      "Calculate APA events ...\n",
      "\n"
     ]
    },
    {
     "name": "stdout",
     "output_type": "stream",
     "text": [
      "[1] FALSE\n"
     ]
    },
    {
     "name": "stderr",
     "output_type": "stream",
     "text": [
      "Writing results for 2183 genes ...\n",
      "\n",
      "Writing BED for 2183 genes ...\n",
      "\n"
     ]
    },
    {
     "data": {
      "text/html": [
       "0"
      ],
      "text/latex": [
       "0"
      ],
      "text/markdown": [
       "0"
      ],
      "text/plain": [
       "[1] 0"
      ]
     },
     "metadata": {},
     "output_type": "display_data"
    }
   ],
   "source": [
    "call_mapper(\"L2-3_sALSvsCTRL\", sALS_bams, control_bams)"
   ]
  },
  {
   "cell_type": "code",
   "execution_count": 160,
   "id": "50deb289-f6b4-4034-88cf-d3598bcc1eee",
   "metadata": {
    "vscode": {
     "languageId": "r"
    }
   },
   "outputs": [],
   "source": [
    "## lets do it with IL4\n",
    "setwd('../L4/')\n",
    "bamfiles = list.files(pattern = \"*.bam$\")\n",
    "control_bams <- as.vector(paste0(root,\"L4/\",bamfiles[which(startsWith(bamfiles, \"CTRL\"))]))\n",
    "C9ALS_bams <- as.vector(paste0(root,\"L4/\",bamfiles[which(startsWith(bamfiles, \"C9ALS\"))]))\n",
    "sALS_bams <- as.vector(paste0(root,\"L4/\",bamfiles[which(startsWith(bamfiles, \"sALSnoFTLD\"))]))"
   ]
  },
  {
   "cell_type": "code",
   "execution_count": 166,
   "id": "2aa0a58a-5a9b-4aba-92dc-9fa0fea00082",
   "metadata": {
    "vscode": {
     "languageId": "r"
    }
   },
   "outputs": [],
   "source": [
    "C9ALS_bams <- c(\"C9ALSFTLD_ALL_CTfiltered.bam\", \"C9ALSnoFTLD1_CTfiltered.bam\", \"C9ALSnoFTLD3_CTfiltered.bam\")"
   ]
  },
  {
   "cell_type": "code",
   "execution_count": 167,
   "id": "6ba21ad8-36a9-4374-bcb1-1f35e4ec0d67",
   "metadata": {
    "collapsed": true,
    "jupyter": {
     "outputs_hidden": true
    },
    "tags": [],
    "vscode": {
     "languageId": "r"
    }
   },
   "outputs": [
    {
     "name": "stderr",
     "output_type": "stream",
     "text": [
      "Warning message in dir.create(output_dir, recursive = T):\n",
      "“'/data1/APA/Paul_ALS_Data/bams_in/subscelltype_bamfiles/Mapper_outs/L4_C9ALSvsCTRL' already exists”\n",
      "Prepare reference genome ...\n",
      "\n",
      "Import genomic features from the file as a GRanges object ... \n",
      "OK\n",
      "\n",
      "Prepare the 'metadata' data frame ... \n",
      "OK\n",
      "\n",
      "Make the TxDb object ... \n",
      "Warning message in .get_cds_IDX(mcols0$type, mcols0$phase):\n",
      "“The \"phase\" metadata column contains non-NA values for features of type\n",
      "  stop_codon. This information was ignored.”\n",
      "OK\n",
      "\n",
      "Sequence levels in GTF:\n",
      "\n"
     ]
    },
    {
     "name": "stdout",
     "output_type": "stream",
     "text": [
      " [1] \"chr1\"  \"chr2\"  \"chr3\"  \"chr4\"  \"chr5\"  \"chr6\"  \"chr7\"  \"chr8\"  \"chr9\" \n",
      "[10] \"chr10\" \"chr11\" \"chr12\" \"chr13\" \"chr14\" \"chr15\" \"chr16\" \"chr17\" \"chr18\"\n",
      "[19] \"chr19\" \"chr20\" \"chr21\" \"chr22\" \"chrX\"  \"chrY\"  \"chrM\" \n"
     ]
    },
    {
     "name": "stderr",
     "output_type": "stream",
     "text": [
      "Prepare PAS annotation ...\n",
      "\n",
      "16707 genes!\n",
      "\n",
      "Start training for condition c1 - sample 1 ...\n",
      "\n",
      "113 genes used for training ...\n",
      "\n",
      "0.2148 fragments longer than 600 ...\n",
      "\n",
      "Start training for condition c1 - sample 2 ...\n",
      "\n",
      "29 genes used for training ...\n",
      "\n",
      "0.4764 fragments longer than 600 ...\n",
      "\n",
      "Start training for condition c1 - sample 3 ...\n",
      "\n",
      "23 genes used for training ...\n",
      "\n",
      "0.5223 fragments longer than 600 ...\n",
      "\n",
      "Start training for condition c2 - sample 1 ...\n",
      "\n",
      "78 genes used for training ...\n",
      "\n",
      "0.3564 fragments longer than 600 ...\n",
      "\n",
      "Calculate APA events ...\n",
      "\n"
     ]
    },
    {
     "name": "stdout",
     "output_type": "stream",
     "text": [
      "[1] FALSE\n"
     ]
    },
    {
     "name": "stderr",
     "output_type": "stream",
     "text": [
      "Writing results for 3968 genes ...\n",
      "\n",
      "Writing BED for 3968 genes ...\n",
      "\n"
     ]
    },
    {
     "data": {
      "text/html": [
       "0"
      ],
      "text/latex": [
       "0"
      ],
      "text/markdown": [
       "0"
      ],
      "text/plain": [
       "[1] 0"
      ]
     },
     "metadata": {},
     "output_type": "display_data"
    }
   ],
   "source": [
    "call_mapper(\"L4_C9ALSvsCTRL\", C9ALS_bams, control_bams)"
   ]
  },
  {
   "cell_type": "code",
   "execution_count": 169,
   "id": "0177f131-deb6-4572-8dd2-e4040640240a",
   "metadata": {
    "collapsed": true,
    "jupyter": {
     "outputs_hidden": true
    },
    "tags": [],
    "vscode": {
     "languageId": "r"
    }
   },
   "outputs": [
    {
     "name": "stderr",
     "output_type": "stream",
     "text": [
      "Warning message in dir.create(output_dir, recursive = T):\n",
      "“'/data1/APA/Paul_ALS_Data/bams_in/subscelltype_bamfiles/Mapper_outs/L4_sALSvsCTRL' already exists”\n",
      "Prepare reference genome ...\n",
      "\n",
      "Import genomic features from the file as a GRanges object ... \n",
      "OK\n",
      "\n",
      "Prepare the 'metadata' data frame ... \n",
      "OK\n",
      "\n",
      "Make the TxDb object ... \n",
      "Warning message in .get_cds_IDX(mcols0$type, mcols0$phase):\n",
      "“The \"phase\" metadata column contains non-NA values for features of type\n",
      "  stop_codon. This information was ignored.”\n",
      "OK\n",
      "\n",
      "Sequence levels in GTF:\n",
      "\n"
     ]
    },
    {
     "name": "stdout",
     "output_type": "stream",
     "text": [
      " [1] \"chr1\"  \"chr2\"  \"chr3\"  \"chr4\"  \"chr5\"  \"chr6\"  \"chr7\"  \"chr8\"  \"chr9\" \n",
      "[10] \"chr10\" \"chr11\" \"chr12\" \"chr13\" \"chr14\" \"chr15\" \"chr16\" \"chr17\" \"chr18\"\n",
      "[19] \"chr19\" \"chr20\" \"chr21\" \"chr22\" \"chrX\"  \"chrY\"  \"chrM\" \n"
     ]
    },
    {
     "name": "stderr",
     "output_type": "stream",
     "text": [
      "Prepare PAS annotation ...\n",
      "\n",
      "16707 genes!\n",
      "\n",
      "Start training for condition c1 - sample 1 ...\n",
      "\n",
      "31 genes used for training ...\n",
      "\n",
      "0.3051 fragments longer than 600 ...\n",
      "\n",
      "Start training for condition c2 - sample 1 ...\n",
      "\n",
      "78 genes used for training ...\n",
      "\n",
      "0.3564 fragments longer than 600 ...\n",
      "\n",
      "Calculate APA events ...\n",
      "\n"
     ]
    },
    {
     "name": "stdout",
     "output_type": "stream",
     "text": [
      "[1] FALSE\n"
     ]
    },
    {
     "name": "stderr",
     "output_type": "stream",
     "text": [
      "Writing results for 1698 genes ...\n",
      "\n",
      "Writing BED for 1698 genes ...\n",
      "\n"
     ]
    },
    {
     "data": {
      "text/html": [
       "0"
      ],
      "text/latex": [
       "0"
      ],
      "text/markdown": [
       "0"
      ],
      "text/plain": [
       "[1] 0"
      ]
     },
     "metadata": {},
     "output_type": "display_data"
    }
   ],
   "source": [
    "call_mapper(\"L4_sALSvsCTRL\", 'sALS_all_CTfiltered.bam', control_bams)"
   ]
  },
  {
   "cell_type": "code",
   "execution_count": 170,
   "id": "212e0ca2-dafd-4a14-bf17-9493d284ec51",
   "metadata": {
    "collapsed": true,
    "jupyter": {
     "outputs_hidden": true
    },
    "tags": [],
    "vscode": {
     "languageId": "r"
    }
   },
   "outputs": [
    {
     "name": "stderr",
     "output_type": "stream",
     "text": [
      "Prepare reference genome ...\n",
      "\n",
      "Import genomic features from the file as a GRanges object ... \n",
      "OK\n",
      "\n",
      "Prepare the 'metadata' data frame ... \n",
      "OK\n",
      "\n",
      "Make the TxDb object ... \n",
      "Warning message in .get_cds_IDX(mcols0$type, mcols0$phase):\n",
      "“The \"phase\" metadata column contains non-NA values for features of type\n",
      "  stop_codon. This information was ignored.”\n",
      "OK\n",
      "\n",
      "Sequence levels in GTF:\n",
      "\n"
     ]
    },
    {
     "name": "stdout",
     "output_type": "stream",
     "text": [
      " [1] \"chr1\"  \"chr2\"  \"chr3\"  \"chr4\"  \"chr5\"  \"chr6\"  \"chr7\"  \"chr8\"  \"chr9\" \n",
      "[10] \"chr10\" \"chr11\" \"chr12\" \"chr13\" \"chr14\" \"chr15\" \"chr16\" \"chr17\" \"chr18\"\n",
      "[19] \"chr19\" \"chr20\" \"chr21\" \"chr22\" \"chrX\"  \"chrY\"  \"chrM\" \n"
     ]
    },
    {
     "name": "stderr",
     "output_type": "stream",
     "text": [
      "Prepare PAS annotation ...\n",
      "\n",
      "16707 genes!\n",
      "\n",
      "Start training for condition c1 - sample 1 ...\n",
      "\n",
      "14 genes used for training ...\n",
      "\n",
      "0.3856 fragments longer than 600 ...\n",
      "\n",
      "Start training for condition c2 - sample 1 ...\n",
      "\n",
      "36 genes used for training ...\n",
      "\n",
      "0.429 fragments longer than 600 ...\n",
      "\n",
      "Calculate APA events ...\n",
      "\n"
     ]
    },
    {
     "name": "stdout",
     "output_type": "stream",
     "text": [
      "[1] FALSE\n"
     ]
    },
    {
     "name": "stderr",
     "output_type": "stream",
     "text": [
      "Writing results for 954 genes ...\n",
      "\n",
      "Writing BED for 954 genes ...\n",
      "\n"
     ]
    },
    {
     "data": {
      "text/html": [
       "0"
      ],
      "text/latex": [
       "0"
      ],
      "text/markdown": [
       "0"
      ],
      "text/plain": [
       "[1] 0"
      ]
     },
     "metadata": {},
     "output_type": "display_data"
    }
   ],
   "source": [
    "setwd(\"../L5-6/\")\n",
    "call_mapper(\"L5-6_C9ALSvsCTRL\", \"C9ALS_all_CTfiltered.bam\", \"CTRL_All_CTfiltered.bam\")"
   ]
  },
  {
   "cell_type": "code",
   "execution_count": null,
   "id": "f8e1481b-5554-4604-8cc9-6ecff51c61cc",
   "metadata": {
    "collapsed": true,
    "jupyter": {
     "outputs_hidden": true
    },
    "tags": [],
    "vscode": {
     "languageId": "r"
    }
   },
   "outputs": [
    {
     "name": "stderr",
     "output_type": "stream",
     "text": [
      "Warning message in dir.create(output_dir, recursive = T):\n",
      "“'/data1/APA/Paul_ALS_Data/bams_in/subscelltype_bamfiles/Mapper_outs/L5-6_C9ALSvsCTRL' already exists”\n",
      "Prepare reference genome ...\n",
      "\n",
      "Import genomic features from the file as a GRanges object ... \n",
      "OK\n",
      "\n",
      "Prepare the 'metadata' data frame ... \n",
      "OK\n",
      "\n",
      "Make the TxDb object ... \n",
      "Warning message in .get_cds_IDX(mcols0$type, mcols0$phase):\n",
      "“The \"phase\" metadata column contains non-NA values for features of type\n",
      "  stop_codon. This information was ignored.”\n",
      "OK\n",
      "\n",
      "Sequence levels in GTF:\n",
      "\n"
     ]
    },
    {
     "name": "stdout",
     "output_type": "stream",
     "text": [
      " [1] \"chr1\"  \"chr2\"  \"chr3\"  \"chr4\"  \"chr5\"  \"chr6\"  \"chr7\"  \"chr8\"  \"chr9\" \n",
      "[10] \"chr10\" \"chr11\" \"chr12\" \"chr13\" \"chr14\" \"chr15\" \"chr16\" \"chr17\" \"chr18\"\n",
      "[19] \"chr19\" \"chr20\" \"chr21\" \"chr22\" \"chrX\"  \"chrY\"  \"chrM\" \n"
     ]
    },
    {
     "name": "stderr",
     "output_type": "stream",
     "text": [
      "Prepare PAS annotation ...\n",
      "\n",
      "16707 genes!\n",
      "\n",
      "Start training for condition c1 - sample 1 ...\n",
      "\n",
      "11 genes used for training ...\n",
      "\n",
      "0.385 fragments longer than 600 ...\n",
      "\n",
      "Start training for condition c2 - sample 1 ...\n",
      "\n",
      "36 genes used for training ...\n",
      "\n",
      "0.429 fragments longer than 600 ...\n",
      "\n",
      "Calculate APA events ...\n",
      "\n"
     ]
    }
   ],
   "source": [
    "call_mapper(\"L5-6_C9ALSvsCTRL\", \"sALS_ALL_CTfiltered.bam\", \"CTRL_All_CTfiltered.bam\")"
   ]
  },
  {
   "cell_type": "code",
   "execution_count": 172,
   "id": "d1de2180-837f-435b-b544-42d3e8d41863",
   "metadata": {
    "collapsed": true,
    "jupyter": {
     "outputs_hidden": true
    },
    "tags": [],
    "vscode": {
     "languageId": "r"
    }
   },
   "outputs": [
    {
     "name": "stderr",
     "output_type": "stream",
     "text": [
      "Prepare reference genome ...\n",
      "\n",
      "Import genomic features from the file as a GRanges object ... \n",
      "OK\n",
      "\n",
      "Prepare the 'metadata' data frame ... \n",
      "OK\n",
      "\n",
      "Make the TxDb object ... \n",
      "Warning message in .get_cds_IDX(mcols0$type, mcols0$phase):\n",
      "“The \"phase\" metadata column contains non-NA values for features of type\n",
      "  stop_codon. This information was ignored.”\n",
      "OK\n",
      "\n",
      "Sequence levels in GTF:\n",
      "\n"
     ]
    },
    {
     "name": "stdout",
     "output_type": "stream",
     "text": [
      " [1] \"chr1\"  \"chr2\"  \"chr3\"  \"chr4\"  \"chr5\"  \"chr6\"  \"chr7\"  \"chr8\"  \"chr9\" \n",
      "[10] \"chr10\" \"chr11\" \"chr12\" \"chr13\" \"chr14\" \"chr15\" \"chr16\" \"chr17\" \"chr18\"\n",
      "[19] \"chr19\" \"chr20\" \"chr21\" \"chr22\" \"chrX\"  \"chrY\"  \"chrM\" \n"
     ]
    },
    {
     "name": "stderr",
     "output_type": "stream",
     "text": [
      "Prepare PAS annotation ...\n",
      "\n",
      "16707 genes!\n",
      "\n",
      "Start training for condition c1 - sample 1 ...\n",
      "\n",
      "9 genes used for training ...\n",
      "\n",
      "0.515 fragments longer than 600 ...\n",
      "\n",
      "Start training for condition c2 - sample 1 ...\n",
      "\n",
      "2 genes used for training ...\n",
      "\n",
      "0.0887 fragments longer than 600 ...\n",
      "\n",
      "Calculate APA events ...\n",
      "\n"
     ]
    },
    {
     "name": "stdout",
     "output_type": "stream",
     "text": [
      "[1] FALSE\n"
     ]
    },
    {
     "name": "stderr",
     "output_type": "stream",
     "text": [
      "Writing results for 151 genes ...\n",
      "\n",
      "Writing BED for 151 genes ...\n",
      "\n"
     ]
    },
    {
     "data": {
      "text/html": [
       "0"
      ],
      "text/latex": [
       "0"
      ],
      "text/markdown": [
       "0"
      ],
      "text/plain": [
       "[1] 0"
      ]
     },
     "metadata": {},
     "output_type": "display_data"
    }
   ],
   "source": [
    "setwd('../L5-6-CC/')\n",
    "call_mapper(\"L5-6-CC_C9ALSvsCTRL\", \"C9ALS_All_CTfiltered.bam\", \"CTRL_ALL_CTfiltered.bam\")"
   ]
  },
  {
   "cell_type": "code",
   "execution_count": 173,
   "id": "ffe9f731-9667-4380-8134-d9361e68ccca",
   "metadata": {
    "vscode": {
     "languageId": "r"
    }
   },
   "outputs": [
    {
     "name": "stderr",
     "output_type": "stream",
     "text": [
      "Prepare reference genome ...\n",
      "\n",
      "Import genomic features from the file as a GRanges object ... \n",
      "OK\n",
      "\n",
      "Prepare the 'metadata' data frame ... \n",
      "OK\n",
      "\n",
      "Make the TxDb object ... \n",
      "Warning message in .get_cds_IDX(mcols0$type, mcols0$phase):\n",
      "“The \"phase\" metadata column contains non-NA values for features of type\n",
      "  stop_codon. This information was ignored.”\n",
      "OK\n",
      "\n",
      "Sequence levels in GTF:\n",
      "\n"
     ]
    },
    {
     "name": "stdout",
     "output_type": "stream",
     "text": [
      " [1] \"chr1\"  \"chr2\"  \"chr3\"  \"chr4\"  \"chr5\"  \"chr6\"  \"chr7\"  \"chr8\"  \"chr9\" \n",
      "[10] \"chr10\" \"chr11\" \"chr12\" \"chr13\" \"chr14\" \"chr15\" \"chr16\" \"chr17\" \"chr18\"\n",
      "[19] \"chr19\" \"chr20\" \"chr21\" \"chr22\" \"chrX\"  \"chrY\"  \"chrM\" \n"
     ]
    },
    {
     "name": "stderr",
     "output_type": "stream",
     "text": [
      "Prepare PAS annotation ...\n",
      "\n",
      "16707 genes!\n",
      "\n",
      "Start training for condition c1 - sample 1 ...\n",
      "\n",
      "7 genes used for training ...\n",
      "\n",
      "0.1632 fragments longer than 600 ...\n",
      "\n",
      "Start training for condition c2 - sample 1 ...\n",
      "\n",
      "2 genes used for training ...\n",
      "\n",
      "0.0887 fragments longer than 600 ...\n",
      "\n",
      "Calculate APA events ...\n",
      "\n"
     ]
    },
    {
     "name": "stdout",
     "output_type": "stream",
     "text": [
      "[1] FALSE\n"
     ]
    },
    {
     "name": "stderr",
     "output_type": "stream",
     "text": [
      "Writing results for 106 genes ...\n",
      "\n",
      "Writing BED for 106 genes ...\n",
      "\n"
     ]
    },
    {
     "data": {
      "text/html": [
       "0"
      ],
      "text/latex": [
       "0"
      ],
      "text/markdown": [
       "0"
      ],
      "text/plain": [
       "[1] 0"
      ]
     },
     "metadata": {},
     "output_type": "display_data"
    }
   ],
   "source": [
    "call_mapper(\"L5-6-CC_sALSvsCTRL\", \"sALS_ALL_CTfiltered.bam\", \"CTRL_ALL_CTfiltered.bam\")"
   ]
  },
  {
   "cell_type": "code",
   "execution_count": 181,
   "id": "d1e94667-2851-4a8a-995e-26d9ca2fad8b",
   "metadata": {
    "vscode": {
     "languageId": "r"
    }
   },
   "outputs": [],
   "source": [
    "## lets do it with IL4\n",
    "setwd('../Microglia/')\n",
    "bamfiles = list.files(pattern = \"*.bam$\")\n",
    "control_bams <- as.vector(paste0(root,\"Microglia/\",bamfiles[which(startsWith(bamfiles, \"CTRL\"))]))\n",
    "C9ALS_bams <- as.vector(paste0(root,\"Microglia/\",bamfiles[which(startsWith(bamfiles, \"C9ALS\"))]))\n",
    "sALS_bams <- as.vector(paste0(root,\"Microglia/\",bamfiles[which(startsWith(bamfiles, \"sALSnoFTLD\"))]))"
   ]
  },
  {
   "cell_type": "code",
   "execution_count": 182,
   "id": "3457dced-51eb-4a2d-a699-e8ac3b1fff28",
   "metadata": {
    "vscode": {
     "languageId": "r"
    }
   },
   "outputs": [
    {
     "data": {
      "text/html": [
       "<style>\n",
       ".list-inline {list-style: none; margin:0; padding: 0}\n",
       ".list-inline>li {display: inline-block}\n",
       ".list-inline>li:not(:last-child)::after {content: \"\\00b7\"; padding: 0 .5ex}\n",
       "</style>\n",
       "<ol class=list-inline><li>'/data1/APA/Paul_ALS_Data/bams_in/subscelltype_bamfiles/Microglia/sALSnoFTLD3_CTfiltered.bam'</li><li>'/data1/APA/Paul_ALS_Data/bams_in/subscelltype_bamfiles/Microglia/sALSnoFTLD45_CTfiltered.bam'</li><li>'/data1/APA/Paul_ALS_Data/bams_in/subscelltype_bamfiles/Microglia/sALSnoFTLD8_CTfiltered.bam'</li></ol>\n"
      ],
      "text/latex": [
       "\\begin{enumerate*}\n",
       "\\item '/data1/APA/Paul\\_ALS\\_Data/bams\\_in/subscelltype\\_bamfiles/Microglia/sALSnoFTLD3\\_CTfiltered.bam'\n",
       "\\item '/data1/APA/Paul\\_ALS\\_Data/bams\\_in/subscelltype\\_bamfiles/Microglia/sALSnoFTLD45\\_CTfiltered.bam'\n",
       "\\item '/data1/APA/Paul\\_ALS\\_Data/bams\\_in/subscelltype\\_bamfiles/Microglia/sALSnoFTLD8\\_CTfiltered.bam'\n",
       "\\end{enumerate*}\n"
      ],
      "text/markdown": [
       "1. '/data1/APA/Paul_ALS_Data/bams_in/subscelltype_bamfiles/Microglia/sALSnoFTLD3_CTfiltered.bam'\n",
       "2. '/data1/APA/Paul_ALS_Data/bams_in/subscelltype_bamfiles/Microglia/sALSnoFTLD45_CTfiltered.bam'\n",
       "3. '/data1/APA/Paul_ALS_Data/bams_in/subscelltype_bamfiles/Microglia/sALSnoFTLD8_CTfiltered.bam'\n",
       "\n",
       "\n"
      ],
      "text/plain": [
       "[1] \"/data1/APA/Paul_ALS_Data/bams_in/subscelltype_bamfiles/Microglia/sALSnoFTLD3_CTfiltered.bam\" \n",
       "[2] \"/data1/APA/Paul_ALS_Data/bams_in/subscelltype_bamfiles/Microglia/sALSnoFTLD45_CTfiltered.bam\"\n",
       "[3] \"/data1/APA/Paul_ALS_Data/bams_in/subscelltype_bamfiles/Microglia/sALSnoFTLD8_CTfiltered.bam\" "
      ]
     },
     "metadata": {},
     "output_type": "display_data"
    }
   ],
   "source": [
    "sALS_bams"
   ]
  },
  {
   "cell_type": "code",
   "execution_count": 178,
   "id": "bc2a6da3-7a66-49f4-9a3c-6a0fc49ea414",
   "metadata": {
    "collapsed": true,
    "jupyter": {
     "outputs_hidden": true
    },
    "tags": [],
    "vscode": {
     "languageId": "r"
    }
   },
   "outputs": [
    {
     "name": "stderr",
     "output_type": "stream",
     "text": [
      "Prepare reference genome ...\n",
      "\n",
      "Import genomic features from the file as a GRanges object ... \n",
      "OK\n",
      "\n",
      "Prepare the 'metadata' data frame ... \n",
      "OK\n",
      "\n",
      "Make the TxDb object ... \n",
      "Warning message in .get_cds_IDX(mcols0$type, mcols0$phase):\n",
      "“The \"phase\" metadata column contains non-NA values for features of type\n",
      "  stop_codon. This information was ignored.”\n",
      "OK\n",
      "\n",
      "Sequence levels in GTF:\n",
      "\n"
     ]
    },
    {
     "name": "stdout",
     "output_type": "stream",
     "text": [
      " [1] \"chr1\"  \"chr2\"  \"chr3\"  \"chr4\"  \"chr5\"  \"chr6\"  \"chr7\"  \"chr8\"  \"chr9\" \n",
      "[10] \"chr10\" \"chr11\" \"chr12\" \"chr13\" \"chr14\" \"chr15\" \"chr16\" \"chr17\" \"chr18\"\n",
      "[19] \"chr19\" \"chr20\" \"chr21\" \"chr22\" \"chrX\"  \"chrY\"  \"chrM\" \n"
     ]
    },
    {
     "name": "stderr",
     "output_type": "stream",
     "text": [
      "Prepare PAS annotation ...\n",
      "\n",
      "16707 genes!\n",
      "\n",
      "Start training for condition c1 - sample 1 ...\n",
      "\n",
      "46 genes used for training ...\n",
      "\n",
      "0.3962 fragments longer than 600 ...\n",
      "\n",
      "Start training for condition c1 - sample 2 ...\n",
      "\n",
      "55 genes used for training ...\n",
      "\n",
      "0.5335 fragments longer than 600 ...\n",
      "\n",
      "Start training for condition c1 - sample 3 ...\n",
      "\n",
      "99 genes used for training ...\n",
      "\n",
      "0.5749 fragments longer than 600 ...\n",
      "\n",
      "Start training for condition c1 - sample 4 ...\n",
      "\n",
      "133 genes used for training ...\n",
      "\n",
      "0.3033 fragments longer than 600 ...\n",
      "\n",
      "Start training for condition c1 - sample 5 ...\n",
      "\n",
      "15 genes used for training ...\n",
      "\n",
      "0.657 fragments longer than 600 ...\n",
      "\n",
      "Start training for condition c1 - sample 6 ...\n",
      "\n",
      "47 genes used for training ...\n",
      "\n",
      "0.6193 fragments longer than 600 ...\n",
      "\n",
      "Start training for condition c2 - sample 1 ...\n",
      "\n",
      "63 genes used for training ...\n",
      "\n",
      "0.6245 fragments longer than 600 ...\n",
      "\n",
      "Start training for condition c2 - sample 2 ...\n",
      "\n",
      "261 genes used for training ...\n",
      "\n",
      "0.5402 fragments longer than 600 ...\n",
      "\n",
      "Start training for condition c2 - sample 3 ...\n",
      "\n",
      "124 genes used for training ...\n",
      "\n",
      "0.5801 fragments longer than 600 ...\n",
      "\n",
      "Start training for condition c2 - sample 4 ...\n",
      "\n",
      "115 genes used for training ...\n",
      "\n",
      "0.5429 fragments longer than 600 ...\n",
      "\n",
      "Start training for condition c2 - sample 5 ...\n",
      "\n",
      "24 genes used for training ...\n",
      "\n",
      "0.5851 fragments longer than 600 ...\n",
      "\n",
      "Start training for condition c2 - sample 6 ...\n",
      "\n",
      "29 genes used for training ...\n",
      "\n",
      "0.7034 fragments longer than 600 ...\n",
      "\n",
      "Calculate APA events ...\n",
      "\n"
     ]
    },
    {
     "name": "stdout",
     "output_type": "stream",
     "text": [
      "[1] FALSE\n"
     ]
    },
    {
     "name": "stderr",
     "output_type": "stream",
     "text": [
      "Writing results for 6917 genes ...\n",
      "\n",
      "Writing BED for 6917 genes ...\n",
      "\n"
     ]
    },
    {
     "data": {
      "text/html": [
       "0"
      ],
      "text/latex": [
       "0"
      ],
      "text/markdown": [
       "0"
      ],
      "text/plain": [
       "[1] 0"
      ]
     },
     "metadata": {},
     "output_type": "display_data"
    }
   ],
   "source": [
    "call_mapper(\"Microglia_C9ALSvsCTRL\", C9ALS_bams, control_bams)"
   ]
  },
  {
   "cell_type": "code",
   "execution_count": 183,
   "id": "bcc60c1c-a133-473c-8191-04282d1f898f",
   "metadata": {
    "collapsed": true,
    "jupyter": {
     "outputs_hidden": true
    },
    "tags": [],
    "vscode": {
     "languageId": "r"
    }
   },
   "outputs": [
    {
     "name": "stderr",
     "output_type": "stream",
     "text": [
      "Warning message in dir.create(output_dir, recursive = T):\n",
      "“'/data1/APA/Paul_ALS_Data/bams_in/subscelltype_bamfiles/Mapper_outs/Microglia_sALSvsCTRL' already exists”\n",
      "Prepare reference genome ...\n",
      "\n",
      "Import genomic features from the file as a GRanges object ... \n",
      "OK\n",
      "\n",
      "Prepare the 'metadata' data frame ... \n",
      "OK\n",
      "\n",
      "Make the TxDb object ... \n",
      "Warning message in .get_cds_IDX(mcols0$type, mcols0$phase):\n",
      "“The \"phase\" metadata column contains non-NA values for features of type\n",
      "  stop_codon. This information was ignored.”\n",
      "OK\n",
      "\n",
      "Sequence levels in GTF:\n",
      "\n"
     ]
    },
    {
     "name": "stdout",
     "output_type": "stream",
     "text": [
      " [1] \"chr1\"  \"chr2\"  \"chr3\"  \"chr4\"  \"chr5\"  \"chr6\"  \"chr7\"  \"chr8\"  \"chr9\" \n",
      "[10] \"chr10\" \"chr11\" \"chr12\" \"chr13\" \"chr14\" \"chr15\" \"chr16\" \"chr17\" \"chr18\"\n",
      "[19] \"chr19\" \"chr20\" \"chr21\" \"chr22\" \"chrX\"  \"chrY\"  \"chrM\" \n"
     ]
    },
    {
     "name": "stderr",
     "output_type": "stream",
     "text": [
      "Prepare PAS annotation ...\n",
      "\n",
      "16707 genes!\n",
      "\n",
      "Start training for condition c1 - sample 1 ...\n",
      "\n",
      "120 genes used for training ...\n",
      "\n",
      "0.4136 fragments longer than 600 ...\n",
      "\n",
      "Start training for condition c1 - sample 2 ...\n",
      "\n",
      "72 genes used for training ...\n",
      "\n",
      "0.4664 fragments longer than 600 ...\n",
      "\n",
      "Start training for condition c1 - sample 3 ...\n",
      "\n",
      "78 genes used for training ...\n",
      "\n",
      "0.4185 fragments longer than 600 ...\n",
      "\n",
      "Start training for condition c2 - sample 1 ...\n",
      "\n",
      "63 genes used for training ...\n",
      "\n",
      "0.6245 fragments longer than 600 ...\n",
      "\n",
      "Start training for condition c2 - sample 2 ...\n",
      "\n",
      "261 genes used for training ...\n",
      "\n",
      "0.5402 fragments longer than 600 ...\n",
      "\n",
      "Start training for condition c2 - sample 3 ...\n",
      "\n",
      "124 genes used for training ...\n",
      "\n",
      "0.5801 fragments longer than 600 ...\n",
      "\n",
      "Start training for condition c2 - sample 4 ...\n",
      "\n",
      "115 genes used for training ...\n",
      "\n",
      "0.5429 fragments longer than 600 ...\n",
      "\n",
      "Start training for condition c2 - sample 5 ...\n",
      "\n",
      "24 genes used for training ...\n",
      "\n",
      "0.5851 fragments longer than 600 ...\n",
      "\n",
      "Start training for condition c2 - sample 6 ...\n",
      "\n",
      "29 genes used for training ...\n",
      "\n",
      "0.7034 fragments longer than 600 ...\n",
      "\n",
      "Calculate APA events ...\n",
      "\n"
     ]
    },
    {
     "name": "stdout",
     "output_type": "stream",
     "text": [
      "[1] FALSE\n"
     ]
    },
    {
     "name": "stderr",
     "output_type": "stream",
     "text": [
      "Writing results for 6241 genes ...\n",
      "\n",
      "Writing BED for 6241 genes ...\n",
      "\n"
     ]
    },
    {
     "data": {
      "text/html": [
       "0"
      ],
      "text/latex": [
       "0"
      ],
      "text/markdown": [
       "0"
      ],
      "text/plain": [
       "[1] 0"
      ]
     },
     "metadata": {},
     "output_type": "display_data"
    }
   ],
   "source": [
    "call_mapper(\"Microglia_sALSvsCTRL\", sALS_bams, control_bams)"
   ]
  },
  {
   "cell_type": "code",
   "execution_count": 12,
   "id": "12248edc-5d04-49b7-a686-98b5f338a302",
   "metadata": {
    "vscode": {
     "languageId": "r"
    }
   },
   "outputs": [],
   "source": [
    "## lets do it with IL4\n",
    "setwd(\"../Oligodendrocytes/\")\n",
    "bamfiles = list.files(pattern = \"*.bam$\")\n",
    "control_bams <- as.vector(paste0(root,\"Oligodendrocytes/\",bamfiles[which(startsWith(bamfiles, \"CTRL\"))]))\n",
    "C9ALS_bams <- as.vector(paste0(root,\"Oligodendrocytes/\",bamfiles[which(startsWith(bamfiles, \"C9ALS\"))]))\n",
    "sALS_bams <- as.vector(paste0(root,\"Oligodendrocytes/\",bamfiles[which(startsWith(bamfiles, \"sALSnoFTLD\"))]))"
   ]
  },
  {
   "cell_type": "code",
   "execution_count": 13,
   "id": "c8fbf6ae-a53b-42f1-8eaa-a4d8eea6d4a5",
   "metadata": {
    "vscode": {
     "languageId": "r"
    }
   },
   "outputs": [
    {
     "data": {
      "text/html": [
       "<style>\n",
       ".list-inline {list-style: none; margin:0; padding: 0}\n",
       ".list-inline>li {display: inline-block}\n",
       ".list-inline>li:not(:last-child)::after {content: \"\\00b7\"; padding: 0 .5ex}\n",
       "</style>\n",
       "<ol class=list-inline><li>'/data1/APA/Paul_ALS_Data/bams_in/subscelltype_bamfiles/Oligodendrocytes/sALSnoFTLD3_CTfiltered.bam'</li><li>'/data1/APA/Paul_ALS_Data/bams_in/subscelltype_bamfiles/Oligodendrocytes/sALSnoFTLD4_CTfiltered.bam'</li><li>'/data1/APA/Paul_ALS_Data/bams_in/subscelltype_bamfiles/Oligodendrocytes/sALSnoFTLD58_CTfiltered.bam'</li></ol>\n"
      ],
      "text/latex": [
       "\\begin{enumerate*}\n",
       "\\item '/data1/APA/Paul\\_ALS\\_Data/bams\\_in/subscelltype\\_bamfiles/Oligodendrocytes/sALSnoFTLD3\\_CTfiltered.bam'\n",
       "\\item '/data1/APA/Paul\\_ALS\\_Data/bams\\_in/subscelltype\\_bamfiles/Oligodendrocytes/sALSnoFTLD4\\_CTfiltered.bam'\n",
       "\\item '/data1/APA/Paul\\_ALS\\_Data/bams\\_in/subscelltype\\_bamfiles/Oligodendrocytes/sALSnoFTLD58\\_CTfiltered.bam'\n",
       "\\end{enumerate*}\n"
      ],
      "text/markdown": [
       "1. '/data1/APA/Paul_ALS_Data/bams_in/subscelltype_bamfiles/Oligodendrocytes/sALSnoFTLD3_CTfiltered.bam'\n",
       "2. '/data1/APA/Paul_ALS_Data/bams_in/subscelltype_bamfiles/Oligodendrocytes/sALSnoFTLD4_CTfiltered.bam'\n",
       "3. '/data1/APA/Paul_ALS_Data/bams_in/subscelltype_bamfiles/Oligodendrocytes/sALSnoFTLD58_CTfiltered.bam'\n",
       "\n",
       "\n"
      ],
      "text/plain": [
       "[1] \"/data1/APA/Paul_ALS_Data/bams_in/subscelltype_bamfiles/Oligodendrocytes/sALSnoFTLD3_CTfiltered.bam\" \n",
       "[2] \"/data1/APA/Paul_ALS_Data/bams_in/subscelltype_bamfiles/Oligodendrocytes/sALSnoFTLD4_CTfiltered.bam\" \n",
       "[3] \"/data1/APA/Paul_ALS_Data/bams_in/subscelltype_bamfiles/Oligodendrocytes/sALSnoFTLD58_CTfiltered.bam\""
      ]
     },
     "metadata": {},
     "output_type": "display_data"
    }
   ],
   "source": [
    "sALS_bams"
   ]
  },
  {
   "cell_type": "code",
   "execution_count": null,
   "id": "c337202b-ac77-4746-a563-9f5817c9880c",
   "metadata": {
    "collapsed": true,
    "jupyter": {
     "outputs_hidden": true
    },
    "tags": [],
    "vscode": {
     "languageId": "r"
    }
   },
   "outputs": [
    {
     "name": "stderr",
     "output_type": "stream",
     "text": [
      "Prepare reference genome ...\n",
      "\n",
      "Import genomic features from the file as a GRanges object ... \n",
      "OK\n",
      "\n",
      "Prepare the 'metadata' data frame ... \n",
      "OK\n",
      "\n",
      "Make the TxDb object ... \n",
      "Warning message in .get_cds_IDX(mcols0$type, mcols0$phase):\n",
      "“The \"phase\" metadata column contains non-NA values for features of type\n",
      "  stop_codon. This information was ignored.”\n",
      "OK\n",
      "\n",
      "Sequence levels in GTF:\n",
      "\n"
     ]
    },
    {
     "name": "stdout",
     "output_type": "stream",
     "text": [
      " [1] \"chr1\"  \"chr2\"  \"chr3\"  \"chr4\"  \"chr5\"  \"chr6\"  \"chr7\"  \"chr8\"  \"chr9\" \n",
      "[10] \"chr10\" \"chr11\" \"chr12\" \"chr13\" \"chr14\" \"chr15\" \"chr16\" \"chr17\" \"chr18\"\n",
      "[19] \"chr19\" \"chr20\" \"chr21\" \"chr22\" \"chrX\"  \"chrY\"  \"chrM\" \n"
     ]
    },
    {
     "name": "stderr",
     "output_type": "stream",
     "text": [
      "Prepare PAS annotation ...\n",
      "\n",
      "16707 genes!\n",
      "\n",
      "Start training for condition c1 - sample 1 ...\n",
      "\n",
      "118 genes used for training ...\n",
      "\n",
      "0.1664 fragments longer than 600 ...\n",
      "\n",
      "Start training for condition c1 - sample 2 ...\n",
      "\n",
      "165 genes used for training ...\n",
      "\n",
      "0.1871 fragments longer than 600 ...\n",
      "\n",
      "Start training for condition c1 - sample 3 ...\n",
      "\n",
      "378 genes used for training ...\n",
      "\n",
      "0.3058 fragments longer than 600 ...\n",
      "\n",
      "Start training for condition c1 - sample 4 ...\n",
      "\n",
      "280 genes used for training ...\n",
      "\n",
      "0.1337 fragments longer than 600 ...\n",
      "\n",
      "Start training for condition c1 - sample 5 ...\n",
      "\n",
      "167 genes used for training ...\n",
      "\n",
      "0.3489 fragments longer than 600 ...\n",
      "\n",
      "Start training for condition c1 - sample 6 ...\n",
      "\n",
      "154 genes used for training ...\n",
      "\n",
      "0.3249 fragments longer than 600 ...\n",
      "\n",
      "Start training for condition c2 - sample 1 ...\n",
      "\n",
      "239 genes used for training ...\n",
      "\n",
      "0.3322 fragments longer than 600 ...\n",
      "\n",
      "Start training for condition c2 - sample 2 ...\n",
      "\n",
      "305 genes used for training ...\n",
      "\n",
      "0.3704 fragments longer than 600 ...\n",
      "\n",
      "Start training for condition c2 - sample 3 ...\n",
      "\n",
      "202 genes used for training ...\n",
      "\n",
      "0.2616 fragments longer than 600 ...\n",
      "\n",
      "Start training for condition c2 - sample 4 ...\n",
      "\n",
      "343 genes used for training ...\n",
      "\n",
      "0.3364 fragments longer than 600 ...\n",
      "\n",
      "Start training for condition c2 - sample 5 ...\n",
      "\n",
      "231 genes used for training ...\n",
      "\n",
      "0.2325 fragments longer than 600 ...\n",
      "\n",
      "Start training for condition c2 - sample 6 ...\n",
      "\n",
      "277 genes used for training ...\n",
      "\n",
      "0.2019 fragments longer than 600 ...\n",
      "\n",
      "Calculate APA events ...\n",
      "\n"
     ]
    }
   ],
   "source": [
    "call_mapper(\"Oligodendrocytes_C9ALSvsCTRL\", C9ALS_bams, control_bams)"
   ]
  },
  {
   "cell_type": "code",
   "execution_count": 17,
   "id": "911c6a97-4c65-41fa-9e9a-cdb668c2c437",
   "metadata": {
    "collapsed": true,
    "jupyter": {
     "outputs_hidden": true
    },
    "tags": [],
    "vscode": {
     "languageId": "r"
    }
   },
   "outputs": [
    {
     "name": "stderr",
     "output_type": "stream",
     "text": [
      "Warning message in dir.create(output_dir, recursive = T):\n",
      "“'/data1/APA/Paul_ALS_Data/bams_in/subscelltype_bamfiles/Mapper_outs/Oligodendrocytes_sALSvsCTRL' already exists”\n",
      "Prepare reference genome ...\n",
      "\n",
      "Import genomic features from the file as a GRanges object ... \n",
      "OK\n",
      "\n",
      "Prepare the 'metadata' data frame ... \n",
      "OK\n",
      "\n",
      "Make the TxDb object ... \n",
      "Warning message in .get_cds_IDX(mcols0$type, mcols0$phase):\n",
      "“The \"phase\" metadata column contains non-NA values for features of type\n",
      "  stop_codon. This information was ignored.”\n",
      "OK\n",
      "\n",
      "Sequence levels in GTF:\n",
      "\n"
     ]
    },
    {
     "name": "stdout",
     "output_type": "stream",
     "text": [
      " [1] \"chr1\"  \"chr2\"  \"chr3\"  \"chr4\"  \"chr5\"  \"chr6\"  \"chr7\"  \"chr8\"  \"chr9\" \n",
      "[10] \"chr10\" \"chr11\" \"chr12\" \"chr13\" \"chr14\" \"chr15\" \"chr16\" \"chr17\" \"chr18\"\n",
      "[19] \"chr19\" \"chr20\" \"chr21\" \"chr22\" \"chrX\"  \"chrY\"  \"chrM\" \n"
     ]
    },
    {
     "name": "stderr",
     "output_type": "stream",
     "text": [
      "Prepare PAS annotation ...\n",
      "\n",
      "16707 genes!\n",
      "\n",
      "Start training for condition c1 - sample 1 ...\n",
      "\n",
      "287 genes used for training ...\n",
      "\n",
      "0.2027 fragments longer than 600 ...\n",
      "\n",
      "Start training for condition c1 - sample 2 ...\n",
      "\n",
      "252 genes used for training ...\n",
      "\n",
      "0.2346 fragments longer than 600 ...\n",
      "\n",
      "Start training for condition c1 - sample 3 ...\n",
      "\n",
      "54 genes used for training ...\n",
      "\n",
      "0.1669 fragments longer than 600 ...\n",
      "\n",
      "Start training for condition c2 - sample 1 ...\n",
      "\n",
      "239 genes used for training ...\n",
      "\n",
      "0.3322 fragments longer than 600 ...\n",
      "\n",
      "Start training for condition c2 - sample 2 ...\n",
      "\n",
      "305 genes used for training ...\n",
      "\n",
      "0.3704 fragments longer than 600 ...\n",
      "\n",
      "Start training for condition c2 - sample 3 ...\n",
      "\n",
      "202 genes used for training ...\n",
      "\n",
      "0.2616 fragments longer than 600 ...\n",
      "\n",
      "Start training for condition c2 - sample 4 ...\n",
      "\n",
      "343 genes used for training ...\n",
      "\n",
      "0.3364 fragments longer than 600 ...\n",
      "\n",
      "Start training for condition c2 - sample 5 ...\n",
      "\n",
      "231 genes used for training ...\n",
      "\n",
      "0.2325 fragments longer than 600 ...\n",
      "\n",
      "Start training for condition c2 - sample 6 ...\n",
      "\n",
      "277 genes used for training ...\n",
      "\n",
      "0.2019 fragments longer than 600 ...\n",
      "\n",
      "Calculate APA events ...\n",
      "\n"
     ]
    },
    {
     "name": "stdout",
     "output_type": "stream",
     "text": [
      "[1] FALSE\n"
     ]
    },
    {
     "name": "stderr",
     "output_type": "stream",
     "text": [
      "Writing results for 11532 genes ...\n",
      "\n",
      "Writing BED for 11532 genes ...\n",
      "\n"
     ]
    },
    {
     "data": {
      "text/html": [
       "0"
      ],
      "text/latex": [
       "0"
      ],
      "text/markdown": [
       "0"
      ],
      "text/plain": [
       "[1] 0"
      ]
     },
     "metadata": {},
     "output_type": "display_data"
    }
   ],
   "source": [
    "call_mapper(\"Oligodendrocytes_sALSvsCTRL\", sALS_bams, control_bams)"
   ]
  },
  {
   "cell_type": "code",
   "execution_count": 25,
   "id": "fb85dd8a-db4f-45c2-a387-caefc5e80c5f",
   "metadata": {
    "vscode": {
     "languageId": "r"
    }
   },
   "outputs": [],
   "source": [
    "## lets do it with IL4\n",
    "setwd('../OPC/')\n",
    "bamfiles = list.files(pattern = \"*.bam$\")\n",
    "control_bams <- as.vector(paste0(root,\"OPC/\",bamfiles[which(startsWith(bamfiles, \"CTRL\"))]))\n",
    "C9ALS_bams <- as.vector(paste0(root,\"OPC/\",bamfiles[which(startsWith(bamfiles, \"C9ALS\"))]))\n",
    "sALS_bams <- as.vector(paste0(root,\"OPC/\",bamfiles[which(startsWith(bamfiles, \"sALSnoFTLD\"))]))"
   ]
  },
  {
   "cell_type": "code",
   "execution_count": 21,
   "id": "3a438110-34f1-4ba0-a2c5-e973333fb8db",
   "metadata": {
    "vscode": {
     "languageId": "r"
    }
   },
   "outputs": [
    {
     "data": {
      "text/html": [
       "<style>\n",
       ".list-inline {list-style: none; margin:0; padding: 0}\n",
       ".list-inline>li {display: inline-block}\n",
       ".list-inline>li:not(:last-child)::after {content: \"\\00b7\"; padding: 0 .5ex}\n",
       "</style>\n",
       "<ol class=list-inline><li>'/data1/APA/Paul_ALS_Data/bams_in/subscelltype_bamfiles/OPC/C9ALSFTLD1_CTfiltered.bam'</li><li>'/data1/APA/Paul_ALS_Data/bams_in/subscelltype_bamfiles/OPC/C9ALSFTLD2_CTfiltered.bam'</li><li>'/data1/APA/Paul_ALS_Data/bams_in/subscelltype_bamfiles/OPC/C9ALSFTLD3_CTfiltered.bam'</li><li>'/data1/APA/Paul_ALS_Data/bams_in/subscelltype_bamfiles/OPC/C9ALSFTLD4_CTfiltered.bam'</li><li>'/data1/APA/Paul_ALS_Data/bams_in/subscelltype_bamfiles/OPC/C9ALSnoFTLD1_CTfiltered.bam'</li><li>'/data1/APA/Paul_ALS_Data/bams_in/subscelltype_bamfiles/OPC/C9ALSnoFTLD3_CTfiltered.bam'</li></ol>\n"
      ],
      "text/latex": [
       "\\begin{enumerate*}\n",
       "\\item '/data1/APA/Paul\\_ALS\\_Data/bams\\_in/subscelltype\\_bamfiles/OPC/C9ALSFTLD1\\_CTfiltered.bam'\n",
       "\\item '/data1/APA/Paul\\_ALS\\_Data/bams\\_in/subscelltype\\_bamfiles/OPC/C9ALSFTLD2\\_CTfiltered.bam'\n",
       "\\item '/data1/APA/Paul\\_ALS\\_Data/bams\\_in/subscelltype\\_bamfiles/OPC/C9ALSFTLD3\\_CTfiltered.bam'\n",
       "\\item '/data1/APA/Paul\\_ALS\\_Data/bams\\_in/subscelltype\\_bamfiles/OPC/C9ALSFTLD4\\_CTfiltered.bam'\n",
       "\\item '/data1/APA/Paul\\_ALS\\_Data/bams\\_in/subscelltype\\_bamfiles/OPC/C9ALSnoFTLD1\\_CTfiltered.bam'\n",
       "\\item '/data1/APA/Paul\\_ALS\\_Data/bams\\_in/subscelltype\\_bamfiles/OPC/C9ALSnoFTLD3\\_CTfiltered.bam'\n",
       "\\end{enumerate*}\n"
      ],
      "text/markdown": [
       "1. '/data1/APA/Paul_ALS_Data/bams_in/subscelltype_bamfiles/OPC/C9ALSFTLD1_CTfiltered.bam'\n",
       "2. '/data1/APA/Paul_ALS_Data/bams_in/subscelltype_bamfiles/OPC/C9ALSFTLD2_CTfiltered.bam'\n",
       "3. '/data1/APA/Paul_ALS_Data/bams_in/subscelltype_bamfiles/OPC/C9ALSFTLD3_CTfiltered.bam'\n",
       "4. '/data1/APA/Paul_ALS_Data/bams_in/subscelltype_bamfiles/OPC/C9ALSFTLD4_CTfiltered.bam'\n",
       "5. '/data1/APA/Paul_ALS_Data/bams_in/subscelltype_bamfiles/OPC/C9ALSnoFTLD1_CTfiltered.bam'\n",
       "6. '/data1/APA/Paul_ALS_Data/bams_in/subscelltype_bamfiles/OPC/C9ALSnoFTLD3_CTfiltered.bam'\n",
       "\n",
       "\n"
      ],
      "text/plain": [
       "[1] \"/data1/APA/Paul_ALS_Data/bams_in/subscelltype_bamfiles/OPC/C9ALSFTLD1_CTfiltered.bam\"  \n",
       "[2] \"/data1/APA/Paul_ALS_Data/bams_in/subscelltype_bamfiles/OPC/C9ALSFTLD2_CTfiltered.bam\"  \n",
       "[3] \"/data1/APA/Paul_ALS_Data/bams_in/subscelltype_bamfiles/OPC/C9ALSFTLD3_CTfiltered.bam\"  \n",
       "[4] \"/data1/APA/Paul_ALS_Data/bams_in/subscelltype_bamfiles/OPC/C9ALSFTLD4_CTfiltered.bam\"  \n",
       "[5] \"/data1/APA/Paul_ALS_Data/bams_in/subscelltype_bamfiles/OPC/C9ALSnoFTLD1_CTfiltered.bam\"\n",
       "[6] \"/data1/APA/Paul_ALS_Data/bams_in/subscelltype_bamfiles/OPC/C9ALSnoFTLD3_CTfiltered.bam\""
      ]
     },
     "metadata": {},
     "output_type": "display_data"
    }
   ],
   "source": [
    "C9ALS_bams"
   ]
  },
  {
   "cell_type": "code",
   "execution_count": 22,
   "id": "80022d3d-9a71-473f-9892-fcbd3f07f864",
   "metadata": {
    "collapsed": true,
    "jupyter": {
     "outputs_hidden": true
    },
    "tags": [],
    "vscode": {
     "languageId": "r"
    }
   },
   "outputs": [
    {
     "name": "stderr",
     "output_type": "stream",
     "text": [
      "Warning message in dir.create(output_dir, recursive = T):\n",
      "“'/data1/APA/Paul_ALS_Data/bams_in/subscelltype_bamfiles/Mapper_outs/OPC_C9ALSvsCTRL' already exists”\n",
      "Prepare reference genome ...\n",
      "\n",
      "Import genomic features from the file as a GRanges object ... \n",
      "OK\n",
      "\n",
      "Prepare the 'metadata' data frame ... \n",
      "OK\n",
      "\n",
      "Make the TxDb object ... \n",
      "Warning message in .get_cds_IDX(mcols0$type, mcols0$phase):\n",
      "“The \"phase\" metadata column contains non-NA values for features of type\n",
      "  stop_codon. This information was ignored.”\n",
      "OK\n",
      "\n",
      "Sequence levels in GTF:\n",
      "\n"
     ]
    },
    {
     "name": "stdout",
     "output_type": "stream",
     "text": [
      " [1] \"chr1\"  \"chr2\"  \"chr3\"  \"chr4\"  \"chr5\"  \"chr6\"  \"chr7\"  \"chr8\"  \"chr9\" \n",
      "[10] \"chr10\" \"chr11\" \"chr12\" \"chr13\" \"chr14\" \"chr15\" \"chr16\" \"chr17\" \"chr18\"\n",
      "[19] \"chr19\" \"chr20\" \"chr21\" \"chr22\" \"chrX\"  \"chrY\"  \"chrM\" \n"
     ]
    },
    {
     "name": "stderr",
     "output_type": "stream",
     "text": [
      "Prepare PAS annotation ...\n",
      "\n",
      "16707 genes!\n",
      "\n",
      "Start training for condition c1 - sample 1 ...\n",
      "\n",
      "34 genes used for training ...\n",
      "\n",
      "0.178 fragments longer than 600 ...\n",
      "\n",
      "Start training for condition c1 - sample 2 ...\n",
      "\n",
      "40 genes used for training ...\n",
      "\n",
      "0.2217 fragments longer than 600 ...\n",
      "\n",
      "Start training for condition c1 - sample 3 ...\n",
      "\n",
      "46 genes used for training ...\n",
      "\n",
      "0.2245 fragments longer than 600 ...\n",
      "\n",
      "Start training for condition c1 - sample 4 ...\n",
      "\n",
      "152 genes used for training ...\n",
      "\n",
      "0.0957 fragments longer than 600 ...\n",
      "\n",
      "Start training for condition c1 - sample 5 ...\n",
      "\n",
      "65 genes used for training ...\n",
      "\n",
      "0.2988 fragments longer than 600 ...\n",
      "\n",
      "Start training for condition c1 - sample 6 ...\n",
      "\n",
      "32 genes used for training ...\n",
      "\n",
      "0.2708 fragments longer than 600 ...\n",
      "\n",
      "Start training for condition c2 - sample 1 ...\n",
      "\n",
      "145 genes used for training ...\n",
      "\n",
      "0.2756 fragments longer than 600 ...\n",
      "\n",
      "Start training for condition c2 - sample 2 ...\n",
      "\n",
      "243 genes used for training ...\n",
      "\n",
      "0.3062 fragments longer than 600 ...\n",
      "\n",
      "Start training for condition c2 - sample 3 ...\n",
      "\n",
      "201 genes used for training ...\n",
      "\n",
      "0.3025 fragments longer than 600 ...\n",
      "\n",
      "Start training for condition c2 - sample 4 ...\n",
      "\n",
      "258 genes used for training ...\n",
      "\n",
      "0.2142 fragments longer than 600 ...\n",
      "\n",
      "Calculate APA events ...\n",
      "\n"
     ]
    },
    {
     "name": "stdout",
     "output_type": "stream",
     "text": [
      "[1] FALSE\n"
     ]
    },
    {
     "name": "stderr",
     "output_type": "stream",
     "text": [
      "Writing results for 9774 genes ...\n",
      "\n",
      "Writing BED for 9774 genes ...\n",
      "\n"
     ]
    },
    {
     "data": {
      "text/html": [
       "0"
      ],
      "text/latex": [
       "0"
      ],
      "text/markdown": [
       "0"
      ],
      "text/plain": [
       "[1] 0"
      ]
     },
     "metadata": {},
     "output_type": "display_data"
    }
   ],
   "source": [
    "call_mapper(\"OPC_C9ALSvsCTRL\", C9ALS_bams, control_bams)"
   ]
  },
  {
   "cell_type": "code",
   "execution_count": 26,
   "id": "ec01e482-914c-41bf-aa55-2f8d8e1ebbe4",
   "metadata": {
    "vscode": {
     "languageId": "r"
    }
   },
   "outputs": [
    {
     "data": {
      "text/html": [
       "<style>\n",
       ".list-inline {list-style: none; margin:0; padding: 0}\n",
       ".list-inline>li {display: inline-block}\n",
       ".list-inline>li:not(:last-child)::after {content: \"\\00b7\"; padding: 0 .5ex}\n",
       "</style>\n",
       "<ol class=list-inline><li>'/data1/APA/Paul_ALS_Data/bams_in/subscelltype_bamfiles/OPC/sALSnoFTLD345_CTfiltered.bam'</li><li>'/data1/APA/Paul_ALS_Data/bams_in/subscelltype_bamfiles/OPC/sALSnoFTLD8_CTfiltered.bam'</li></ol>\n"
      ],
      "text/latex": [
       "\\begin{enumerate*}\n",
       "\\item '/data1/APA/Paul\\_ALS\\_Data/bams\\_in/subscelltype\\_bamfiles/OPC/sALSnoFTLD345\\_CTfiltered.bam'\n",
       "\\item '/data1/APA/Paul\\_ALS\\_Data/bams\\_in/subscelltype\\_bamfiles/OPC/sALSnoFTLD8\\_CTfiltered.bam'\n",
       "\\end{enumerate*}\n"
      ],
      "text/markdown": [
       "1. '/data1/APA/Paul_ALS_Data/bams_in/subscelltype_bamfiles/OPC/sALSnoFTLD345_CTfiltered.bam'\n",
       "2. '/data1/APA/Paul_ALS_Data/bams_in/subscelltype_bamfiles/OPC/sALSnoFTLD8_CTfiltered.bam'\n",
       "\n",
       "\n"
      ],
      "text/plain": [
       "[1] \"/data1/APA/Paul_ALS_Data/bams_in/subscelltype_bamfiles/OPC/sALSnoFTLD345_CTfiltered.bam\"\n",
       "[2] \"/data1/APA/Paul_ALS_Data/bams_in/subscelltype_bamfiles/OPC/sALSnoFTLD8_CTfiltered.bam\"  "
      ]
     },
     "metadata": {},
     "output_type": "display_data"
    }
   ],
   "source": [
    "sALS_bams"
   ]
  },
  {
   "cell_type": "code",
   "execution_count": 27,
   "id": "b83599ba-03c1-4860-84b1-e4074bba4e9b",
   "metadata": {
    "collapsed": true,
    "jupyter": {
     "outputs_hidden": true
    },
    "tags": [],
    "vscode": {
     "languageId": "r"
    }
   },
   "outputs": [
    {
     "name": "stderr",
     "output_type": "stream",
     "text": [
      "Warning message in dir.create(output_dir, recursive = T):\n",
      "“'/data1/APA/Paul_ALS_Data/bams_in/subscelltype_bamfiles/Mapper_outs/OPC_sALSvsCTRL' already exists”\n",
      "Prepare reference genome ...\n",
      "\n",
      "Import genomic features from the file as a GRanges object ... \n",
      "OK\n",
      "\n",
      "Prepare the 'metadata' data frame ... \n",
      "OK\n",
      "\n",
      "Make the TxDb object ... \n",
      "Warning message in .get_cds_IDX(mcols0$type, mcols0$phase):\n",
      "“The \"phase\" metadata column contains non-NA values for features of type\n",
      "  stop_codon. This information was ignored.”\n",
      "OK\n",
      "\n",
      "Sequence levels in GTF:\n",
      "\n"
     ]
    },
    {
     "name": "stdout",
     "output_type": "stream",
     "text": [
      " [1] \"chr1\"  \"chr2\"  \"chr3\"  \"chr4\"  \"chr5\"  \"chr6\"  \"chr7\"  \"chr8\"  \"chr9\" \n",
      "[10] \"chr10\" \"chr11\" \"chr12\" \"chr13\" \"chr14\" \"chr15\" \"chr16\" \"chr17\" \"chr18\"\n",
      "[19] \"chr19\" \"chr20\" \"chr21\" \"chr22\" \"chrX\"  \"chrY\"  \"chrM\" \n"
     ]
    },
    {
     "name": "stderr",
     "output_type": "stream",
     "text": [
      "Prepare PAS annotation ...\n",
      "\n",
      "16707 genes!\n",
      "\n",
      "Start training for condition c1 - sample 1 ...\n",
      "\n",
      "106 genes used for training ...\n",
      "\n",
      "0.213 fragments longer than 600 ...\n",
      "\n",
      "Start training for condition c1 - sample 2 ...\n",
      "\n",
      "100 genes used for training ...\n",
      "\n",
      "0.1988 fragments longer than 600 ...\n",
      "\n",
      "Start training for condition c2 - sample 1 ...\n",
      "\n",
      "145 genes used for training ...\n",
      "\n",
      "0.2756 fragments longer than 600 ...\n",
      "\n",
      "Start training for condition c2 - sample 2 ...\n",
      "\n",
      "243 genes used for training ...\n",
      "\n",
      "0.3062 fragments longer than 600 ...\n",
      "\n",
      "Start training for condition c2 - sample 3 ...\n",
      "\n",
      "201 genes used for training ...\n",
      "\n",
      "0.3025 fragments longer than 600 ...\n",
      "\n",
      "Start training for condition c2 - sample 4 ...\n",
      "\n",
      "258 genes used for training ...\n",
      "\n",
      "0.2142 fragments longer than 600 ...\n",
      "\n",
      "Calculate APA events ...\n",
      "\n"
     ]
    },
    {
     "name": "stdout",
     "output_type": "stream",
     "text": [
      "[1] FALSE\n"
     ]
    },
    {
     "name": "stderr",
     "output_type": "stream",
     "text": [
      "Writing results for 9013 genes ...\n",
      "\n",
      "Writing BED for 9013 genes ...\n",
      "\n"
     ]
    },
    {
     "data": {
      "text/html": [
       "0"
      ],
      "text/latex": [
       "0"
      ],
      "text/markdown": [
       "0"
      ],
      "text/plain": [
       "[1] 0"
      ]
     },
     "metadata": {},
     "output_type": "display_data"
    }
   ],
   "source": [
    "call_mapper(\"OPC_sALSvsCTRL\", sALS_bams, control_bams)"
   ]
  },
  {
   "cell_type": "code",
   "execution_count": 39,
   "id": "0f65c963-2402-41e2-b6ac-dd8345441eac",
   "metadata": {
    "vscode": {
     "languageId": "r"
    }
   },
   "outputs": [],
   "source": [
    "## lets do it with IL4\n",
    "setwd('../Excitatory//')\n",
    "bamfiles = list.files(pattern = \"*.bam$\")\n",
    "control_bams <- as.vector(paste0(root,\"Excitatory/\",bamfiles[which(startsWith(bamfiles, \"CTRL\"))]))\n",
    "C9ALS_bams <- as.vector(paste0(root,\"Excitatory/\",bamfiles[which(startsWith(bamfiles, \"C9ALS\"))]))\n",
    "sALS_bams <- as.vector(paste0(root,\"Excitatory/\",bamfiles[which(startsWith(bamfiles, \"sALSnoFTLD\"))]))"
   ]
  },
  {
   "cell_type": "code",
   "execution_count": null,
   "id": "719acd5d-c4d7-44e7-b93e-cd3975871829",
   "metadata": {
    "collapsed": true,
    "jupyter": {
     "outputs_hidden": true
    },
    "tags": [],
    "vscode": {
     "languageId": "r"
    }
   },
   "outputs": [
    {
     "name": "stderr",
     "output_type": "stream",
     "text": [
      "Warning message in dir.create(output_dir, recursive = T):\n",
      "“'/data1/APA/Paul_ALS_Data/bams_in/subscelltype_bamfiles/Mapper_outs/Excitatory_C9ALSvsCTRL' already exists”\n",
      "Prepare reference genome ...\n",
      "\n",
      "Import genomic features from the file as a GRanges object ... \n",
      "OK\n",
      "\n",
      "Prepare the 'metadata' data frame ... \n",
      "OK\n",
      "\n",
      "Make the TxDb object ... \n",
      "Warning message in .get_cds_IDX(mcols0$type, mcols0$phase):\n",
      "“The \"phase\" metadata column contains non-NA values for features of type\n",
      "  stop_codon. This information was ignored.”\n",
      "OK\n",
      "\n",
      "Sequence levels in GTF:\n",
      "\n"
     ]
    },
    {
     "name": "stdout",
     "output_type": "stream",
     "text": [
      " [1] \"chr1\"  \"chr2\"  \"chr3\"  \"chr4\"  \"chr5\"  \"chr6\"  \"chr7\"  \"chr8\"  \"chr9\" \n",
      "[10] \"chr10\" \"chr11\" \"chr12\" \"chr13\" \"chr14\" \"chr15\" \"chr16\" \"chr17\" \"chr18\"\n",
      "[19] \"chr19\" \"chr20\" \"chr21\" \"chr22\" \"chrX\"  \"chrY\"  \"chrM\" \n"
     ]
    },
    {
     "name": "stderr",
     "output_type": "stream",
     "text": [
      "Prepare PAS annotation ...\n",
      "\n",
      "16707 genes!\n",
      "\n",
      "Start training for condition c1 - sample 1 ...\n",
      "\n",
      "55 genes used for training ...\n",
      "\n",
      "0.2327 fragments longer than 600 ...\n",
      "\n",
      "Start training for condition c1 - sample 2 ...\n",
      "\n",
      "198 genes used for training ...\n",
      "\n",
      "0.2102 fragments longer than 600 ...\n",
      "\n",
      "Start training for condition c1 - sample 3 ...\n",
      "\n",
      "1 genes used for training ...\n",
      "\n",
      "0.0973 fragments longer than 600 ...\n",
      "\n",
      "Start training for condition c1 - sample 4 ...\n",
      "\n",
      "31 genes used for training ...\n",
      "\n",
      "0.0948 fragments longer than 600 ...\n",
      "\n",
      "Start training for condition c1 - sample 5 ...\n",
      "\n",
      "142 genes used for training ...\n",
      "\n",
      "0.4007 fragments longer than 600 ...\n",
      "\n",
      "Start training for condition c1 - sample 6 ...\n",
      "\n",
      "147 genes used for training ...\n",
      "\n",
      "0.4695 fragments longer than 600 ...\n",
      "\n",
      "Start training for condition c2 - sample 1 ...\n",
      "\n",
      "23 genes used for training ...\n",
      "\n",
      "0.5431 fragments longer than 600 ...\n",
      "\n",
      "Start training for condition c2 - sample 2 ...\n",
      "\n",
      "101 genes used for training ...\n",
      "\n",
      "0.5071 fragments longer than 600 ...\n",
      "\n",
      "Start training for condition c2 - sample 3 ...\n",
      "\n",
      "208 genes used for training ...\n",
      "\n",
      "0.3114 fragments longer than 600 ...\n",
      "\n",
      "Start training for condition c2 - sample 4 ...\n",
      "\n",
      "3 genes used for training ...\n",
      "\n",
      "0.2894 fragments longer than 600 ...\n",
      "\n",
      "Calculate APA events ...\n",
      "\n"
     ]
    }
   ],
   "source": [
    "call_mapper(\"Excitatory_C9ALSvsCTRL\", C9ALS_bams, control_bams)"
   ]
  },
  {
   "cell_type": "code",
   "execution_count": 40,
   "id": "372d8e0c-4d55-47ad-9978-dd83082d8838",
   "metadata": {
    "vscode": {
     "languageId": "r"
    }
   },
   "outputs": [
    {
     "data": {
      "text/html": [
       "<style>\n",
       ".list-inline {list-style: none; margin:0; padding: 0}\n",
       ".list-inline>li {display: inline-block}\n",
       ".list-inline>li:not(:last-child)::after {content: \"\\00b7\"; padding: 0 .5ex}\n",
       "</style>\n",
       "<ol class=list-inline><li>'/data1/APA/Paul_ALS_Data/bams_in/subscelltype_bamfiles/Excitatory/sALSnoFTLD3_CTfiltered.bam'</li><li>'/data1/APA/Paul_ALS_Data/bams_in/subscelltype_bamfiles/Excitatory/sALSnoFTLD4_CTfiltered.bam'</li><li>'/data1/APA/Paul_ALS_Data/bams_in/subscelltype_bamfiles/Excitatory/sALSnoFTLD58_CTfiltered.bam'</li></ol>\n"
      ],
      "text/latex": [
       "\\begin{enumerate*}\n",
       "\\item '/data1/APA/Paul\\_ALS\\_Data/bams\\_in/subscelltype\\_bamfiles/Excitatory/sALSnoFTLD3\\_CTfiltered.bam'\n",
       "\\item '/data1/APA/Paul\\_ALS\\_Data/bams\\_in/subscelltype\\_bamfiles/Excitatory/sALSnoFTLD4\\_CTfiltered.bam'\n",
       "\\item '/data1/APA/Paul\\_ALS\\_Data/bams\\_in/subscelltype\\_bamfiles/Excitatory/sALSnoFTLD58\\_CTfiltered.bam'\n",
       "\\end{enumerate*}\n"
      ],
      "text/markdown": [
       "1. '/data1/APA/Paul_ALS_Data/bams_in/subscelltype_bamfiles/Excitatory/sALSnoFTLD3_CTfiltered.bam'\n",
       "2. '/data1/APA/Paul_ALS_Data/bams_in/subscelltype_bamfiles/Excitatory/sALSnoFTLD4_CTfiltered.bam'\n",
       "3. '/data1/APA/Paul_ALS_Data/bams_in/subscelltype_bamfiles/Excitatory/sALSnoFTLD58_CTfiltered.bam'\n",
       "\n",
       "\n"
      ],
      "text/plain": [
       "[1] \"/data1/APA/Paul_ALS_Data/bams_in/subscelltype_bamfiles/Excitatory/sALSnoFTLD3_CTfiltered.bam\" \n",
       "[2] \"/data1/APA/Paul_ALS_Data/bams_in/subscelltype_bamfiles/Excitatory/sALSnoFTLD4_CTfiltered.bam\" \n",
       "[3] \"/data1/APA/Paul_ALS_Data/bams_in/subscelltype_bamfiles/Excitatory/sALSnoFTLD58_CTfiltered.bam\""
      ]
     },
     "metadata": {},
     "output_type": "display_data"
    }
   ],
   "source": [
    "sALS_bams"
   ]
  },
  {
   "cell_type": "code",
   "execution_count": 41,
   "id": "cd9e7bae-58d0-4de6-97f6-bac236263f60",
   "metadata": {
    "collapsed": true,
    "jupyter": {
     "outputs_hidden": true
    },
    "tags": [],
    "vscode": {
     "languageId": "r"
    }
   },
   "outputs": [
    {
     "name": "stderr",
     "output_type": "stream",
     "text": [
      "Warning message in dir.create(output_dir, recursive = T):\n",
      "“'/data1/APA/Paul_ALS_Data/bams_in/subscelltype_bamfiles/Mapper_outs/Excitatory_sALSvsCTRL' already exists”\n",
      "Prepare reference genome ...\n",
      "\n",
      "Import genomic features from the file as a GRanges object ... \n",
      "OK\n",
      "\n",
      "Prepare the 'metadata' data frame ... \n",
      "OK\n",
      "\n",
      "Make the TxDb object ... \n",
      "Warning message in .get_cds_IDX(mcols0$type, mcols0$phase):\n",
      "“The \"phase\" metadata column contains non-NA values for features of type\n",
      "  stop_codon. This information was ignored.”\n",
      "OK\n",
      "\n",
      "Sequence levels in GTF:\n",
      "\n"
     ]
    },
    {
     "name": "stdout",
     "output_type": "stream",
     "text": [
      " [1] \"chr1\"  \"chr2\"  \"chr3\"  \"chr4\"  \"chr5\"  \"chr6\"  \"chr7\"  \"chr8\"  \"chr9\" \n",
      "[10] \"chr10\" \"chr11\" \"chr12\" \"chr13\" \"chr14\" \"chr15\" \"chr16\" \"chr17\" \"chr18\"\n",
      "[19] \"chr19\" \"chr20\" \"chr21\" \"chr22\" \"chrX\"  \"chrY\"  \"chrM\" \n"
     ]
    },
    {
     "name": "stderr",
     "output_type": "stream",
     "text": [
      "Prepare PAS annotation ...\n",
      "\n",
      "16707 genes!\n",
      "\n",
      "Start training for condition c1 - sample 1 ...\n",
      "\n",
      "27 genes used for training ...\n",
      "\n",
      "0.1305 fragments longer than 600 ...\n",
      "\n",
      "Start training for condition c1 - sample 2 ...\n",
      "\n",
      "39 genes used for training ...\n",
      "\n",
      "0.3491 fragments longer than 600 ...\n",
      "\n",
      "Start training for condition c1 - sample 3 ...\n",
      "\n",
      "26 genes used for training ...\n",
      "\n",
      "0.2283 fragments longer than 600 ...\n",
      "\n",
      "Start training for condition c2 - sample 1 ...\n",
      "\n",
      "23 genes used for training ...\n",
      "\n",
      "0.5431 fragments longer than 600 ...\n",
      "\n",
      "Start training for condition c2 - sample 2 ...\n",
      "\n",
      "101 genes used for training ...\n",
      "\n",
      "0.5071 fragments longer than 600 ...\n",
      "\n",
      "Start training for condition c2 - sample 3 ...\n",
      "\n",
      "208 genes used for training ...\n",
      "\n",
      "0.3114 fragments longer than 600 ...\n",
      "\n",
      "Start training for condition c2 - sample 4 ...\n",
      "\n",
      "3 genes used for training ...\n",
      "\n",
      "0.2894 fragments longer than 600 ...\n",
      "\n",
      "Calculate APA events ...\n",
      "\n"
     ]
    },
    {
     "name": "stdout",
     "output_type": "stream",
     "text": [
      "[1] FALSE\n"
     ]
    },
    {
     "name": "stderr",
     "output_type": "stream",
     "text": [
      "Writing results for 4928 genes ...\n",
      "\n",
      "Writing BED for 4928 genes ...\n",
      "\n"
     ]
    },
    {
     "data": {
      "text/html": [
       "0"
      ],
      "text/latex": [
       "0"
      ],
      "text/markdown": [
       "0"
      ],
      "text/plain": [
       "[1] 0"
      ]
     },
     "metadata": {},
     "output_type": "display_data"
    }
   ],
   "source": [
    "call_mapper(\"Excitatory_sALSvsCTRL\", sALS_bams, control_bams)"
   ]
  },
  {
   "cell_type": "code",
   "execution_count": 48,
   "id": "100b5375-ce6a-4fa2-9f19-1c16914d3f5f",
   "metadata": {
    "vscode": {
     "languageId": "r"
    }
   },
   "outputs": [],
   "source": [
    "## lets do it with IL4\n",
    "setwd('../Inhibitory/')\n",
    "bamfiles = list.files(pattern = \"*.bam$\")\n",
    "control_bams <- as.vector(paste0(root,\"Inhibitory/\",bamfiles[which(startsWith(bamfiles, \"CTRL\"))]))\n",
    "C9ALS_bams <- as.vector(paste0(root,\"Inhibitory/\",bamfiles[which(startsWith(bamfiles, \"C9ALS\"))]))\n",
    "sALS_bams <- as.vector(paste0(root,\"Inhibitory/\",bamfiles[which(startsWith(bamfiles, \"sALSnoFTLD\"))]))"
   ]
  },
  {
   "cell_type": "code",
   "execution_count": 44,
   "id": "c1fcb7d6-0055-4d46-88a6-04c09645210b",
   "metadata": {
    "collapsed": true,
    "jupyter": {
     "outputs_hidden": true
    },
    "tags": [],
    "vscode": {
     "languageId": "r"
    }
   },
   "outputs": [
    {
     "name": "stderr",
     "output_type": "stream",
     "text": [
      "Prepare reference genome ...\n",
      "\n",
      "Import genomic features from the file as a GRanges object ... \n",
      "OK\n",
      "\n",
      "Prepare the 'metadata' data frame ... \n",
      "OK\n",
      "\n",
      "Make the TxDb object ... \n",
      "Warning message in .get_cds_IDX(mcols0$type, mcols0$phase):\n",
      "“The \"phase\" metadata column contains non-NA values for features of type\n",
      "  stop_codon. This information was ignored.”\n",
      "OK\n",
      "\n",
      "Sequence levels in GTF:\n",
      "\n"
     ]
    },
    {
     "name": "stdout",
     "output_type": "stream",
     "text": [
      " [1] \"chr1\"  \"chr2\"  \"chr3\"  \"chr4\"  \"chr5\"  \"chr6\"  \"chr7\"  \"chr8\"  \"chr9\" \n",
      "[10] \"chr10\" \"chr11\" \"chr12\" \"chr13\" \"chr14\" \"chr15\" \"chr16\" \"chr17\" \"chr18\"\n",
      "[19] \"chr19\" \"chr20\" \"chr21\" \"chr22\" \"chrX\"  \"chrY\"  \"chrM\" \n"
     ]
    },
    {
     "name": "stderr",
     "output_type": "stream",
     "text": [
      "Prepare PAS annotation ...\n",
      "\n",
      "16707 genes!\n",
      "\n",
      "Start training for condition c1 - sample 1 ...\n",
      "\n",
      "130 genes used for training ...\n",
      "\n",
      "0.2072 fragments longer than 600 ...\n",
      "\n",
      "Start training for condition c1 - sample 2 ...\n",
      "\n",
      "226 genes used for training ...\n",
      "\n",
      "0.2148 fragments longer than 600 ...\n",
      "\n",
      "Start training for condition c1 - sample 3 ...\n",
      "\n",
      "37 genes used for training ...\n",
      "\n",
      "0.2577 fragments longer than 600 ...\n",
      "\n",
      "Start training for condition c1 - sample 4 ...\n",
      "\n",
      "205 genes used for training ...\n",
      "\n",
      "0.1068 fragments longer than 600 ...\n",
      "\n",
      "Start training for condition c1 - sample 5 ...\n",
      "\n",
      "106 genes used for training ...\n",
      "\n",
      "0.3369 fragments longer than 600 ...\n",
      "\n",
      "Start training for condition c1 - sample 6 ...\n",
      "\n",
      "77 genes used for training ...\n",
      "\n",
      "0.4992 fragments longer than 600 ...\n",
      "\n",
      "Start training for condition c2 - sample 1 ...\n",
      "\n",
      "5 genes used for training ...\n",
      "\n",
      "0.0813 fragments longer than 600 ...\n",
      "\n",
      "Start training for condition c2 - sample 2 ...\n",
      "\n",
      "121 genes used for training ...\n",
      "\n",
      "0.5907 fragments longer than 600 ...\n",
      "\n",
      "Start training for condition c2 - sample 3 ...\n",
      "\n",
      "205 genes used for training ...\n",
      "\n",
      "0.3579 fragments longer than 600 ...\n",
      "\n",
      "Start training for condition c2 - sample 4 ...\n",
      "\n",
      "66 genes used for training ...\n",
      "\n",
      "0.4984 fragments longer than 600 ...\n",
      "\n",
      "Start training for condition c2 - sample 5 ...\n",
      "\n",
      "144 genes used for training ...\n",
      "\n",
      "0.2068 fragments longer than 600 ...\n",
      "\n",
      "Start training for condition c2 - sample 6 ...\n",
      "\n",
      "17 genes used for training ...\n",
      "\n",
      "0.1658 fragments longer than 600 ...\n",
      "\n",
      "Calculate APA events ...\n",
      "\n"
     ]
    },
    {
     "name": "stdout",
     "output_type": "stream",
     "text": [
      "[1] FALSE\n"
     ]
    },
    {
     "name": "stderr",
     "output_type": "stream",
     "text": [
      "Writing results for 10400 genes ...\n",
      "\n",
      "Writing BED for 10400 genes ...\n",
      "\n"
     ]
    },
    {
     "data": {
      "text/html": [
       "0"
      ],
      "text/latex": [
       "0"
      ],
      "text/markdown": [
       "0"
      ],
      "text/plain": [
       "[1] 0"
      ]
     },
     "metadata": {},
     "output_type": "display_data"
    }
   ],
   "source": [
    "call_mapper(\"Inhibitory_C9ALSvsCTRL\", C9ALS_bams, control_bams)"
   ]
  },
  {
   "cell_type": "code",
   "execution_count": 49,
   "id": "ec033e4c-9297-4d41-86f1-942786442093",
   "metadata": {
    "collapsed": true,
    "jupyter": {
     "outputs_hidden": true
    },
    "tags": [],
    "vscode": {
     "languageId": "r"
    }
   },
   "outputs": [
    {
     "name": "stderr",
     "output_type": "stream",
     "text": [
      "Warning message in dir.create(output_dir, recursive = T):\n",
      "“'/data1/APA/Paul_ALS_Data/bams_in/subscelltype_bamfiles/Mapper_outs/Inhibitory_sALSvsCTRL' already exists”\n",
      "Prepare reference genome ...\n",
      "\n",
      "Import genomic features from the file as a GRanges object ... \n",
      "OK\n",
      "\n",
      "Prepare the 'metadata' data frame ... \n",
      "OK\n",
      "\n",
      "Make the TxDb object ... \n",
      "Warning message in .get_cds_IDX(mcols0$type, mcols0$phase):\n",
      "“The \"phase\" metadata column contains non-NA values for features of type\n",
      "  stop_codon. This information was ignored.”\n",
      "OK\n",
      "\n",
      "Sequence levels in GTF:\n",
      "\n"
     ]
    },
    {
     "name": "stdout",
     "output_type": "stream",
     "text": [
      " [1] \"chr1\"  \"chr2\"  \"chr3\"  \"chr4\"  \"chr5\"  \"chr6\"  \"chr7\"  \"chr8\"  \"chr9\" \n",
      "[10] \"chr10\" \"chr11\" \"chr12\" \"chr13\" \"chr14\" \"chr15\" \"chr16\" \"chr17\" \"chr18\"\n",
      "[19] \"chr19\" \"chr20\" \"chr21\" \"chr22\" \"chrX\"  \"chrY\"  \"chrM\" \n"
     ]
    },
    {
     "name": "stderr",
     "output_type": "stream",
     "text": [
      "Prepare PAS annotation ...\n",
      "\n",
      "16707 genes!\n",
      "\n",
      "Start training for condition c1 - sample 1 ...\n",
      "\n",
      "91 genes used for training ...\n",
      "\n",
      "0.1545 fragments longer than 600 ...\n",
      "\n",
      "Start training for condition c1 - sample 2 ...\n",
      "\n",
      "1 genes used for training ...\n",
      "\n",
      "0 fragments longer than 600 ...\n",
      "\n",
      "Start training for condition c1 - sample 3 ...\n",
      "\n",
      "114 genes used for training ...\n",
      "\n",
      "0.1418 fragments longer than 600 ...\n",
      "\n",
      "Start training for condition c2 - sample 1 ...\n",
      "\n",
      "5 genes used for training ...\n",
      "\n",
      "0.0813 fragments longer than 600 ...\n",
      "\n",
      "Start training for condition c2 - sample 2 ...\n",
      "\n",
      "121 genes used for training ...\n",
      "\n",
      "0.5907 fragments longer than 600 ...\n",
      "\n",
      "Start training for condition c2 - sample 3 ...\n",
      "\n",
      "205 genes used for training ...\n",
      "\n",
      "0.3579 fragments longer than 600 ...\n",
      "\n",
      "Start training for condition c2 - sample 4 ...\n",
      "\n",
      "66 genes used for training ...\n",
      "\n",
      "0.4984 fragments longer than 600 ...\n",
      "\n",
      "Start training for condition c2 - sample 5 ...\n",
      "\n",
      "144 genes used for training ...\n",
      "\n",
      "0.2068 fragments longer than 600 ...\n",
      "\n",
      "Start training for condition c2 - sample 6 ...\n",
      "\n",
      "17 genes used for training ...\n",
      "\n",
      "0.1658 fragments longer than 600 ...\n",
      "\n",
      "Calculate APA events ...\n",
      "\n"
     ]
    },
    {
     "name": "stdout",
     "output_type": "stream",
     "text": [
      "[1] FALSE\n"
     ]
    },
    {
     "name": "stderr",
     "output_type": "stream",
     "text": [
      "Writing results for 8511 genes ...\n",
      "\n",
      "Writing BED for 8511 genes ...\n",
      "\n"
     ]
    },
    {
     "data": {
      "text/html": [
       "0"
      ],
      "text/latex": [
       "0"
      ],
      "text/markdown": [
       "0"
      ],
      "text/plain": [
       "[1] 0"
      ]
     },
     "metadata": {},
     "output_type": "display_data"
    }
   ],
   "source": [
    "call_mapper(\"Inhibitory_sALSvsCTRL\", sALS_bams, control_bams)"
   ]
  },
  {
   "cell_type": "code",
   "execution_count": 47,
   "id": "bacd2398-59dc-470e-b972-97b3a82a028e",
   "metadata": {
    "vscode": {
     "languageId": "r"
    }
   },
   "outputs": [
    {
     "data": {
      "text/html": [
       "<style>\n",
       ".list-inline {list-style: none; margin:0; padding: 0}\n",
       ".list-inline>li {display: inline-block}\n",
       ".list-inline>li:not(:last-child)::after {content: \"\\00b7\"; padding: 0 .5ex}\n",
       "</style>\n",
       "<ol class=list-inline><li>'/data1/APA/Paul_ALS_Data/bams_in/subscelltype_bamfiles/Inhibitory/sALSnoFTLD3_CTfiltered.bam'</li><li>'/data1/APA/Paul_ALS_Data/bams_in/subscelltype_bamfiles/Inhibitory/sALSnoFTLD4_CTfiltered.bam'</li><li>'/data1/APA/Paul_ALS_Data/bams_in/subscelltype_bamfiles/Inhibitory/sALSnoFTLD5_CTfiltered.bam'</li><li>'/data1/APA/Paul_ALS_Data/bams_in/subscelltype_bamfiles/Inhibitory/sALSnoFTLD8_CTfiltered.bam'</li></ol>\n"
      ],
      "text/latex": [
       "\\begin{enumerate*}\n",
       "\\item '/data1/APA/Paul\\_ALS\\_Data/bams\\_in/subscelltype\\_bamfiles/Inhibitory/sALSnoFTLD3\\_CTfiltered.bam'\n",
       "\\item '/data1/APA/Paul\\_ALS\\_Data/bams\\_in/subscelltype\\_bamfiles/Inhibitory/sALSnoFTLD4\\_CTfiltered.bam'\n",
       "\\item '/data1/APA/Paul\\_ALS\\_Data/bams\\_in/subscelltype\\_bamfiles/Inhibitory/sALSnoFTLD5\\_CTfiltered.bam'\n",
       "\\item '/data1/APA/Paul\\_ALS\\_Data/bams\\_in/subscelltype\\_bamfiles/Inhibitory/sALSnoFTLD8\\_CTfiltered.bam'\n",
       "\\end{enumerate*}\n"
      ],
      "text/markdown": [
       "1. '/data1/APA/Paul_ALS_Data/bams_in/subscelltype_bamfiles/Inhibitory/sALSnoFTLD3_CTfiltered.bam'\n",
       "2. '/data1/APA/Paul_ALS_Data/bams_in/subscelltype_bamfiles/Inhibitory/sALSnoFTLD4_CTfiltered.bam'\n",
       "3. '/data1/APA/Paul_ALS_Data/bams_in/subscelltype_bamfiles/Inhibitory/sALSnoFTLD5_CTfiltered.bam'\n",
       "4. '/data1/APA/Paul_ALS_Data/bams_in/subscelltype_bamfiles/Inhibitory/sALSnoFTLD8_CTfiltered.bam'\n",
       "\n",
       "\n"
      ],
      "text/plain": [
       "[1] \"/data1/APA/Paul_ALS_Data/bams_in/subscelltype_bamfiles/Inhibitory/sALSnoFTLD3_CTfiltered.bam\"\n",
       "[2] \"/data1/APA/Paul_ALS_Data/bams_in/subscelltype_bamfiles/Inhibitory/sALSnoFTLD4_CTfiltered.bam\"\n",
       "[3] \"/data1/APA/Paul_ALS_Data/bams_in/subscelltype_bamfiles/Inhibitory/sALSnoFTLD5_CTfiltered.bam\"\n",
       "[4] \"/data1/APA/Paul_ALS_Data/bams_in/subscelltype_bamfiles/Inhibitory/sALSnoFTLD8_CTfiltered.bam\""
      ]
     },
     "metadata": {},
     "output_type": "display_data"
    }
   ],
   "source": [
    "sALS_bams"
   ]
  },
  {
   "cell_type": "code",
   "execution_count": 2,
   "id": "320ded52-bc6f-4856-a2a5-9d739bf93b37",
   "metadata": {
    "vscode": {
     "languageId": "r"
    }
   },
   "outputs": [
    {
     "data": {
      "text/html": [
       "'/home/aiden/codes/APA_stuff/post_qual/APA/For_DL_model'"
      ],
      "text/latex": [
       "'/home/aiden/codes/APA\\_stuff/post\\_qual/APA/For\\_DL\\_model'"
      ],
      "text/markdown": [
       "'/home/aiden/codes/APA_stuff/post_qual/APA/For_DL_model'"
      ],
      "text/plain": [
       "[1] \"/home/aiden/codes/APA_stuff/post_qual/APA/For_DL_model\""
      ]
     },
     "metadata": {},
     "output_type": "display_data"
    }
   ],
   "source": [
    "read"
   ]
  },
  {
   "cell_type": "code",
   "execution_count": 12,
   "id": "801af721-d86f-4d63-a858-0141649afc73",
   "metadata": {
    "vscode": {
     "languageId": "r"
    }
   },
   "outputs": [
    {
     "data": {
      "text/html": [
       "1.30102999566398"
      ],
      "text/latex": [
       "1.30102999566398"
      ],
      "text/markdown": [
       "1.30102999566398"
      ],
      "text/plain": [
       "[1] 1.30103"
      ]
     },
     "metadata": {},
     "output_type": "display_data"
    }
   ],
   "source": [
    "-log(0.05,10)"
   ]
  },
  {
   "cell_type": "code",
   "execution_count": null,
   "id": "85db68a7-a069-4349-a64c-1eb13db092ab",
   "metadata": {
    "vscode": {
     "languageId": "r"
    }
   },
   "outputs": [],
   "source": []
  },
  {
   "cell_type": "code",
   "execution_count": 1,
   "id": "a2338085",
   "metadata": {
    "vscode": {
     "languageId": "r"
    }
   },
   "outputs": [
    {
     "name": "stderr",
     "output_type": "stream",
     "text": [
      "\n",
      "Attaching package: ‘dplyr’\n",
      "\n",
      "\n",
      "The following objects are masked from ‘package:stats’:\n",
      "\n",
      "    filter, lag\n",
      "\n",
      "\n",
      "The following objects are masked from ‘package:base’:\n",
      "\n",
      "    intersect, setdiff, setequal, union\n",
      "\n",
      "\n"
     ]
    },
    {
     "data": {
      "text/html": [
       "<dl>\n",
       "\t<dt>$MTND1P23</dt>\n",
       "\t\t<dd><table class=\"dataframe\">\n",
       "<caption>A data.frame: 6 × 8</caption>\n",
       "<thead>\n",
       "\t<tr><th></th><th scope=col>Chromosome</th><th scope=col>Gene.Symbol</th><th scope=col>Ensemble.ID</th><th scope=col>Intron.exon.location</th><th scope=col>Strand</th><th scope=col>Position</th><th scope=col>PAS_ID</th><th scope=col>PAS.type</th></tr>\n",
       "\t<tr><th></th><th scope=col>&lt;chr&gt;</th><th scope=col>&lt;chr&gt;</th><th scope=col>&lt;chr&gt;</th><th scope=col>&lt;chr&gt;</th><th scope=col>&lt;chr&gt;</th><th scope=col>&lt;dbl&gt;</th><th scope=col>&lt;chr&gt;</th><th scope=col>&lt;chr&gt;</th></tr>\n",
       "</thead>\n",
       "<tbody>\n",
       "\t<tr><th scope=row>1</th><td>chr1</td><td>MTND1P23</td><td>ENSG00000225972</td><td>Single exon</td><td>+</td><td>629219</td><td>chr1:629219:+</td><td>Pseudogene</td></tr>\n",
       "\t<tr><th scope=row>2</th><td>chr1</td><td>MTND1P23</td><td>ENSG00000225972</td><td>Single exon</td><td>+</td><td>629249</td><td>chr1:629249:+</td><td>Pseudogene</td></tr>\n",
       "\t<tr><th scope=row>3</th><td>chr1</td><td>MTND1P23</td><td>ENSG00000225972</td><td>Single exon</td><td>+</td><td>629284</td><td>chr1:629284:+</td><td>Pseudogene</td></tr>\n",
       "\t<tr><th scope=row>4</th><td>chr1</td><td>MTND1P23</td><td>ENSG00000225972</td><td>Single exon</td><td>+</td><td>629328</td><td>chr1:629328:+</td><td>Pseudogene</td></tr>\n",
       "\t<tr><th scope=row>5</th><td>chr1</td><td>MTND1P23</td><td>ENSG00000225972</td><td>Single exon</td><td>+</td><td>629572</td><td>chr1:629572:+</td><td>Pseudogene</td></tr>\n",
       "\t<tr><th scope=row>6</th><td>chr1</td><td>MTND1P23</td><td>ENSG00000225972</td><td>Single exon</td><td>+</td><td>629626</td><td>chr1:629626:+</td><td>Pseudogene</td></tr>\n",
       "</tbody>\n",
       "</table>\n",
       "</dd>\n",
       "\t<dt>$MTND2P28</dt>\n",
       "\t\t<dd><table class=\"dataframe\">\n",
       "<caption>A data.frame: 12 × 8</caption>\n",
       "<thead>\n",
       "\t<tr><th></th><th scope=col>Chromosome</th><th scope=col>Gene.Symbol</th><th scope=col>Ensemble.ID</th><th scope=col>Intron.exon.location</th><th scope=col>Strand</th><th scope=col>Position</th><th scope=col>PAS_ID</th><th scope=col>PAS.type</th></tr>\n",
       "\t<tr><th></th><th scope=col>&lt;chr&gt;</th><th scope=col>&lt;chr&gt;</th><th scope=col>&lt;chr&gt;</th><th scope=col>&lt;chr&gt;</th><th scope=col>&lt;chr&gt;</th><th scope=col>&lt;dbl&gt;</th><th scope=col>&lt;chr&gt;</th><th scope=col>&lt;chr&gt;</th></tr>\n",
       "</thead>\n",
       "<tbody>\n",
       "\t<tr><th scope=row>7</th><td>chr1</td><td>MTND2P28</td><td>ENSG00000225630</td><td>Single exon</td><td>+</td><td>629907</td><td>chr1:629907:+</td><td>Pseudogene</td></tr>\n",
       "\t<tr><th scope=row>8</th><td>chr1</td><td>MTND2P28</td><td>ENSG00000225630</td><td>Single exon</td><td>+</td><td>630001</td><td>chr1:630001:+</td><td>Pseudogene</td></tr>\n",
       "\t<tr><th scope=row>9</th><td>chr1</td><td>MTND2P28</td><td>ENSG00000225630</td><td>Single exon</td><td>+</td><td>630026</td><td>chr1:630026:+</td><td>Pseudogene</td></tr>\n",
       "\t<tr><th scope=row>10</th><td>chr1</td><td>MTND2P28</td><td>ENSG00000225630</td><td>Single exon</td><td>+</td><td>630267</td><td>chr1:630267:+</td><td>Pseudogene</td></tr>\n",
       "\t<tr><th scope=row>11</th><td>chr1</td><td>MTND2P28</td><td>ENSG00000225630</td><td>Single exon</td><td>+</td><td>630318</td><td>chr1:630318:+</td><td>Pseudogene</td></tr>\n",
       "\t<tr><th scope=row>12</th><td>chr1</td><td>MTND2P28</td><td>ENSG00000225630</td><td>Single exon</td><td>+</td><td>630343</td><td>chr1:630343:+</td><td>Pseudogene</td></tr>\n",
       "\t<tr><th scope=row>13</th><td>chr1</td><td>MTND2P28</td><td>ENSG00000225630</td><td>Single exon</td><td>+</td><td>630369</td><td>chr1:630369:+</td><td>Pseudogene</td></tr>\n",
       "\t<tr><th scope=row>14</th><td>chr1</td><td>MTND2P28</td><td>ENSG00000225630</td><td>Single exon</td><td>+</td><td>630532</td><td>chr1:630532:+</td><td>Pseudogene</td></tr>\n",
       "\t<tr><th scope=row>15</th><td>chr1</td><td>MTND2P28</td><td>ENSG00000225630</td><td>Single exon</td><td>+</td><td>630641</td><td>chr1:630641:+</td><td>Pseudogene</td></tr>\n",
       "\t<tr><th scope=row>16</th><td>chr1</td><td>MTND2P28</td><td>ENSG00000225630</td><td>Single exon</td><td>+</td><td>630686</td><td>chr1:630686:+</td><td>Pseudogene</td></tr>\n",
       "\t<tr><th scope=row>17</th><td>chr1</td><td>MTND2P28</td><td>ENSG00000225630</td><td>Single exon</td><td>+</td><td>630721</td><td>chr1:630721:+</td><td>Pseudogene</td></tr>\n",
       "\t<tr><th scope=row>18</th><td>chr1</td><td>MTND2P28</td><td>ENSG00000225630</td><td>Single exon</td><td>+</td><td>631070</td><td>chr1:631070:+</td><td>Pseudogene</td></tr>\n",
       "</tbody>\n",
       "</table>\n",
       "</dd>\n",
       "\t<dt>$MTCO1P12</dt>\n",
       "\t\t<dd><table class=\"dataframe\">\n",
       "<caption>A data.frame: 20 × 8</caption>\n",
       "<thead>\n",
       "\t<tr><th></th><th scope=col>Chromosome</th><th scope=col>Gene.Symbol</th><th scope=col>Ensemble.ID</th><th scope=col>Intron.exon.location</th><th scope=col>Strand</th><th scope=col>Position</th><th scope=col>PAS_ID</th><th scope=col>PAS.type</th></tr>\n",
       "\t<tr><th></th><th scope=col>&lt;chr&gt;</th><th scope=col>&lt;chr&gt;</th><th scope=col>&lt;chr&gt;</th><th scope=col>&lt;chr&gt;</th><th scope=col>&lt;chr&gt;</th><th scope=col>&lt;dbl&gt;</th><th scope=col>&lt;chr&gt;</th><th scope=col>&lt;chr&gt;</th></tr>\n",
       "</thead>\n",
       "<tbody>\n",
       "\t<tr><th scope=row>19</th><td>chr1</td><td>MTCO1P12</td><td>ENSG00000237973</td><td>Single exon</td><td>+</td><td>631193</td><td>chr1:631193:+</td><td>Pseudogene</td></tr>\n",
       "\t<tr><th scope=row>20</th><td>chr1</td><td>MTCO1P12</td><td>ENSG00000237973</td><td>Single exon</td><td>+</td><td>631399</td><td>chr1:631399:+</td><td>Pseudogene</td></tr>\n",
       "\t<tr><th scope=row>21</th><td>chr1</td><td>MTCO1P12</td><td>ENSG00000237973</td><td>Single exon</td><td>+</td><td>631433</td><td>chr1:631433:+</td><td>Pseudogene</td></tr>\n",
       "\t<tr><th scope=row>22</th><td>chr1</td><td>MTCO1P12</td><td>ENSG00000237973</td><td>Single exon</td><td>+</td><td>631548</td><td>chr1:631548:+</td><td>Pseudogene</td></tr>\n",
       "\t<tr><th scope=row>23</th><td>chr1</td><td>MTCO1P12</td><td>ENSG00000237973</td><td>Single exon</td><td>+</td><td>631579</td><td>chr1:631579:+</td><td>Pseudogene</td></tr>\n",
       "\t<tr><th scope=row>24</th><td>chr1</td><td>MTCO1P12</td><td>ENSG00000237973</td><td>Single exon</td><td>+</td><td>631704</td><td>chr1:631704:+</td><td>Pseudogene</td></tr>\n",
       "\t<tr><th scope=row>25</th><td>chr1</td><td>MTCO1P12</td><td>ENSG00000237973</td><td>Single exon</td><td>+</td><td>631812</td><td>chr1:631812:+</td><td>Pseudogene</td></tr>\n",
       "\t<tr><th scope=row>26</th><td>chr1</td><td>MTCO1P12</td><td>ENSG00000237973</td><td>Single exon</td><td>+</td><td>631869</td><td>chr1:631869:+</td><td>Pseudogene</td></tr>\n",
       "\t<tr><th scope=row>27</th><td>chr1</td><td>MTCO1P12</td><td>ENSG00000237973</td><td>Single exon</td><td>+</td><td>631917</td><td>chr1:631917:+</td><td>Pseudogene</td></tr>\n",
       "\t<tr><th scope=row>28</th><td>chr1</td><td>MTCO1P12</td><td>ENSG00000237973</td><td>Single exon</td><td>+</td><td>631963</td><td>chr1:631963:+</td><td>Pseudogene</td></tr>\n",
       "\t<tr><th scope=row>29</th><td>chr1</td><td>MTCO1P12</td><td>ENSG00000237973</td><td>Single exon</td><td>+</td><td>632107</td><td>chr1:632107:+</td><td>Pseudogene</td></tr>\n",
       "\t<tr><th scope=row>30</th><td>chr1</td><td>MTCO1P12</td><td>ENSG00000237973</td><td>Single exon</td><td>+</td><td>632168</td><td>chr1:632168:+</td><td>Pseudogene</td></tr>\n",
       "\t<tr><th scope=row>31</th><td>chr1</td><td>MTCO1P12</td><td>ENSG00000237973</td><td>Single exon</td><td>+</td><td>632210</td><td>chr1:632210:+</td><td>Pseudogene</td></tr>\n",
       "\t<tr><th scope=row>32</th><td>chr1</td><td>MTCO1P12</td><td>ENSG00000237973</td><td>Single exon</td><td>+</td><td>632247</td><td>chr1:632247:+</td><td>Pseudogene</td></tr>\n",
       "\t<tr><th scope=row>33</th><td>chr1</td><td>MTCO1P12</td><td>ENSG00000237973</td><td>Single exon</td><td>+</td><td>632326</td><td>chr1:632326:+</td><td>Pseudogene</td></tr>\n",
       "\t<tr><th scope=row>34</th><td>chr1</td><td>MTCO1P12</td><td>ENSG00000237973</td><td>Single exon</td><td>+</td><td>632374</td><td>chr1:632374:+</td><td>Pseudogene</td></tr>\n",
       "\t<tr><th scope=row>35</th><td>chr1</td><td>MTCO1P12</td><td>ENSG00000237973</td><td>Single exon</td><td>+</td><td>632403</td><td>chr1:632403:+</td><td>Pseudogene</td></tr>\n",
       "\t<tr><th scope=row>36</th><td>chr1</td><td>MTCO1P12</td><td>ENSG00000237973</td><td>Single exon</td><td>+</td><td>632488</td><td>chr1:632488:+</td><td>Pseudogene</td></tr>\n",
       "\t<tr><th scope=row>37</th><td>chr1</td><td>MTCO1P12</td><td>ENSG00000237973</td><td>Single exon</td><td>+</td><td>632692</td><td>chr1:632692:+</td><td>Pseudogene</td></tr>\n",
       "\t<tr><th scope=row>38</th><td>chr1</td><td>MTCO1P12</td><td>ENSG00000237973</td><td>Single exon</td><td>+</td><td>632742</td><td>chr1:632742:+</td><td>Pseudogene</td></tr>\n",
       "</tbody>\n",
       "</table>\n",
       "</dd>\n",
       "\t<dt>$MTCO2P12</dt>\n",
       "\t\t<dd><table class=\"dataframe\">\n",
       "<caption>A data.frame: 3 × 8</caption>\n",
       "<thead>\n",
       "\t<tr><th></th><th scope=col>Chromosome</th><th scope=col>Gene.Symbol</th><th scope=col>Ensemble.ID</th><th scope=col>Intron.exon.location</th><th scope=col>Strand</th><th scope=col>Position</th><th scope=col>PAS_ID</th><th scope=col>PAS.type</th></tr>\n",
       "\t<tr><th></th><th scope=col>&lt;chr&gt;</th><th scope=col>&lt;chr&gt;</th><th scope=col>&lt;chr&gt;</th><th scope=col>&lt;chr&gt;</th><th scope=col>&lt;chr&gt;</th><th scope=col>&lt;dbl&gt;</th><th scope=col>&lt;chr&gt;</th><th scope=col>&lt;chr&gt;</th></tr>\n",
       "</thead>\n",
       "<tbody>\n",
       "\t<tr><th scope=row>39</th><td>chr1</td><td>MTCO2P12</td><td>ENSG00000229344</td><td>Single exon</td><td>+</td><td>633010</td><td>chr1:633010:+</td><td>Pseudogene</td></tr>\n",
       "\t<tr><th scope=row>40</th><td>chr1</td><td>MTCO2P12</td><td>ENSG00000229344</td><td>Single exon</td><td>+</td><td>633039</td><td>chr1:633039:+</td><td>Pseudogene</td></tr>\n",
       "\t<tr><th scope=row>41</th><td>chr1</td><td>MTCO2P12</td><td>ENSG00000229344</td><td>Single exon</td><td>+</td><td>633118</td><td>chr1:633118:+</td><td>Pseudogene</td></tr>\n",
       "</tbody>\n",
       "</table>\n",
       "</dd>\n",
       "\t<dt>$MTATP8P1</dt>\n",
       "\t\t<dd><table class=\"dataframe\">\n",
       "<caption>A data.frame: 7 × 8</caption>\n",
       "<thead>\n",
       "\t<tr><th></th><th scope=col>Chromosome</th><th scope=col>Gene.Symbol</th><th scope=col>Ensemble.ID</th><th scope=col>Intron.exon.location</th><th scope=col>Strand</th><th scope=col>Position</th><th scope=col>PAS_ID</th><th scope=col>PAS.type</th></tr>\n",
       "\t<tr><th></th><th scope=col>&lt;chr&gt;</th><th scope=col>&lt;chr&gt;</th><th scope=col>&lt;chr&gt;</th><th scope=col>&lt;chr&gt;</th><th scope=col>&lt;chr&gt;</th><th scope=col>&lt;dbl&gt;</th><th scope=col>&lt;chr&gt;</th><th scope=col>&lt;chr&gt;</th></tr>\n",
       "</thead>\n",
       "<tbody>\n",
       "\t<tr><th scope=row>42</th><td>chr1</td><td>MTATP8P1</td><td>ENSG00000240409</td><td>Single exon</td><td>+</td><td>633561</td><td>chr1:633561:+</td><td>Pseudogene</td></tr>\n",
       "\t<tr><th scope=row>43</th><td>chr1</td><td>MTATP8P1</td><td>ENSG00000240409</td><td>Single exon</td><td>+</td><td>633714</td><td>chr1:633714:+</td><td>Pseudogene</td></tr>\n",
       "\t<tr><th scope=row>45</th><td>chr1</td><td>MTATP8P1</td><td>ENSG00000240409</td><td>Single exon</td><td>+</td><td>633836</td><td>chr1:633836:+</td><td>Pseudogene</td></tr>\n",
       "\t<tr><th scope=row>47</th><td>chr1</td><td>MTATP8P1</td><td>ENSG00000240409</td><td>Single exon</td><td>+</td><td>634229</td><td>chr1:634229:+</td><td>Pseudogene</td></tr>\n",
       "\t<tr><th scope=row>49</th><td>chr1</td><td>MTATP8P1</td><td>ENSG00000240409</td><td>Single exon</td><td>+</td><td>634305</td><td>chr1:634305:+</td><td>Pseudogene</td></tr>\n",
       "\t<tr><th scope=row>51</th><td>chr1</td><td>MTATP8P1</td><td>ENSG00000240409</td><td>Single exon</td><td>+</td><td>634338</td><td>chr1:634338:+</td><td>Pseudogene</td></tr>\n",
       "\t<tr><th scope=row>53</th><td>chr1</td><td>MTATP8P1</td><td>ENSG00000240409</td><td>Single exon</td><td>+</td><td>634376</td><td>chr1:634376:+</td><td>Pseudogene</td></tr>\n",
       "</tbody>\n",
       "</table>\n",
       "</dd>\n",
       "\t<dt>$MTATP6P1</dt>\n",
       "\t\t<dd><table class=\"dataframe\">\n",
       "<caption>A data.frame: 13 × 8</caption>\n",
       "<thead>\n",
       "\t<tr><th></th><th scope=col>Chromosome</th><th scope=col>Gene.Symbol</th><th scope=col>Ensemble.ID</th><th scope=col>Intron.exon.location</th><th scope=col>Strand</th><th scope=col>Position</th><th scope=col>PAS_ID</th><th scope=col>PAS.type</th></tr>\n",
       "\t<tr><th></th><th scope=col>&lt;chr&gt;</th><th scope=col>&lt;chr&gt;</th><th scope=col>&lt;chr&gt;</th><th scope=col>&lt;chr&gt;</th><th scope=col>&lt;chr&gt;</th><th scope=col>&lt;dbl&gt;</th><th scope=col>&lt;chr&gt;</th><th scope=col>&lt;chr&gt;</th></tr>\n",
       "</thead>\n",
       "<tbody>\n",
       "\t<tr><th scope=row>44</th><td>chr1</td><td>MTATP6P1</td><td>ENSG00000248527</td><td>Single exon</td><td>+</td><td>633714</td><td>chr1:633714:+</td><td>Pseudogene</td></tr>\n",
       "\t<tr><th scope=row>46</th><td>chr1</td><td>MTATP6P1</td><td>ENSG00000248527</td><td>Single exon</td><td>+</td><td>633836</td><td>chr1:633836:+</td><td>Pseudogene</td></tr>\n",
       "\t<tr><th scope=row>48</th><td>chr1</td><td>MTATP6P1</td><td>ENSG00000248527</td><td>Single exon</td><td>+</td><td>634229</td><td>chr1:634229:+</td><td>Pseudogene</td></tr>\n",
       "\t<tr><th scope=row>50</th><td>chr1</td><td>MTATP6P1</td><td>ENSG00000248527</td><td>Single exon</td><td>+</td><td>634305</td><td>chr1:634305:+</td><td>Pseudogene</td></tr>\n",
       "\t<tr><th scope=row>52</th><td>chr1</td><td>MTATP6P1</td><td>ENSG00000248527</td><td>Single exon</td><td>+</td><td>634338</td><td>chr1:634338:+</td><td>Pseudogene</td></tr>\n",
       "\t<tr><th scope=row>54</th><td>chr1</td><td>MTATP6P1</td><td>ENSG00000248527</td><td>Single exon</td><td>+</td><td>634376</td><td>chr1:634376:+</td><td>Pseudogene</td></tr>\n",
       "\t<tr><th scope=row>56</th><td>chr1</td><td>MTATP6P1</td><td>ENSG00000248527</td><td>Single exon</td><td>+</td><td>634446</td><td>chr1:634446:+</td><td>Pseudogene</td></tr>\n",
       "\t<tr><th scope=row>58</th><td>chr1</td><td>MTATP6P1</td><td>ENSG00000248527</td><td>Single exon</td><td>+</td><td>634496</td><td>chr1:634496:+</td><td>Pseudogene</td></tr>\n",
       "\t<tr><th scope=row>60</th><td>chr1</td><td>MTATP6P1</td><td>ENSG00000248527</td><td>Single exon</td><td>+</td><td>634547</td><td>chr1:634547:+</td><td>Pseudogene</td></tr>\n",
       "\t<tr><th scope=row>62</th><td>chr1</td><td>MTATP6P1</td><td>ENSG00000248527</td><td>Single exon</td><td>+</td><td>634575</td><td>chr1:634575:+</td><td>Pseudogene</td></tr>\n",
       "\t<tr><th scope=row>64</th><td>chr1</td><td>MTATP6P1</td><td>ENSG00000248527</td><td>Single exon</td><td>+</td><td>634602</td><td>chr1:634602:+</td><td>Pseudogene</td></tr>\n",
       "\t<tr><th scope=row>66</th><td>chr1</td><td>MTATP6P1</td><td>ENSG00000248527</td><td>Single exon</td><td>+</td><td>634657</td><td>chr1:634657:+</td><td>Pseudogene</td></tr>\n",
       "\t<tr><th scope=row>68</th><td>chr1</td><td>MTATP6P1</td><td>ENSG00000248527</td><td>Single exon</td><td>+</td><td>634823</td><td>chr1:634823:+</td><td>Pseudogene</td></tr>\n",
       "</tbody>\n",
       "</table>\n",
       "</dd>\n",
       "</dl>\n"
      ],
      "text/latex": [
       "\\begin{description}\n",
       "\\item[\\$MTND1P23] A data.frame: 6 × 8\n",
       "\\begin{tabular}{r|llllllll}\n",
       "  & Chromosome & Gene.Symbol & Ensemble.ID & Intron.exon.location & Strand & Position & PAS\\_ID & PAS.type\\\\\n",
       "  & <chr> & <chr> & <chr> & <chr> & <chr> & <dbl> & <chr> & <chr>\\\\\n",
       "\\hline\n",
       "\t1 & chr1 & MTND1P23 & ENSG00000225972 & Single exon & + & 629219 & chr1:629219:+ & Pseudogene\\\\\n",
       "\t2 & chr1 & MTND1P23 & ENSG00000225972 & Single exon & + & 629249 & chr1:629249:+ & Pseudogene\\\\\n",
       "\t3 & chr1 & MTND1P23 & ENSG00000225972 & Single exon & + & 629284 & chr1:629284:+ & Pseudogene\\\\\n",
       "\t4 & chr1 & MTND1P23 & ENSG00000225972 & Single exon & + & 629328 & chr1:629328:+ & Pseudogene\\\\\n",
       "\t5 & chr1 & MTND1P23 & ENSG00000225972 & Single exon & + & 629572 & chr1:629572:+ & Pseudogene\\\\\n",
       "\t6 & chr1 & MTND1P23 & ENSG00000225972 & Single exon & + & 629626 & chr1:629626:+ & Pseudogene\\\\\n",
       "\\end{tabular}\n",
       "\n",
       "\\item[\\$MTND2P28] A data.frame: 12 × 8\n",
       "\\begin{tabular}{r|llllllll}\n",
       "  & Chromosome & Gene.Symbol & Ensemble.ID & Intron.exon.location & Strand & Position & PAS\\_ID & PAS.type\\\\\n",
       "  & <chr> & <chr> & <chr> & <chr> & <chr> & <dbl> & <chr> & <chr>\\\\\n",
       "\\hline\n",
       "\t7 & chr1 & MTND2P28 & ENSG00000225630 & Single exon & + & 629907 & chr1:629907:+ & Pseudogene\\\\\n",
       "\t8 & chr1 & MTND2P28 & ENSG00000225630 & Single exon & + & 630001 & chr1:630001:+ & Pseudogene\\\\\n",
       "\t9 & chr1 & MTND2P28 & ENSG00000225630 & Single exon & + & 630026 & chr1:630026:+ & Pseudogene\\\\\n",
       "\t10 & chr1 & MTND2P28 & ENSG00000225630 & Single exon & + & 630267 & chr1:630267:+ & Pseudogene\\\\\n",
       "\t11 & chr1 & MTND2P28 & ENSG00000225630 & Single exon & + & 630318 & chr1:630318:+ & Pseudogene\\\\\n",
       "\t12 & chr1 & MTND2P28 & ENSG00000225630 & Single exon & + & 630343 & chr1:630343:+ & Pseudogene\\\\\n",
       "\t13 & chr1 & MTND2P28 & ENSG00000225630 & Single exon & + & 630369 & chr1:630369:+ & Pseudogene\\\\\n",
       "\t14 & chr1 & MTND2P28 & ENSG00000225630 & Single exon & + & 630532 & chr1:630532:+ & Pseudogene\\\\\n",
       "\t15 & chr1 & MTND2P28 & ENSG00000225630 & Single exon & + & 630641 & chr1:630641:+ & Pseudogene\\\\\n",
       "\t16 & chr1 & MTND2P28 & ENSG00000225630 & Single exon & + & 630686 & chr1:630686:+ & Pseudogene\\\\\n",
       "\t17 & chr1 & MTND2P28 & ENSG00000225630 & Single exon & + & 630721 & chr1:630721:+ & Pseudogene\\\\\n",
       "\t18 & chr1 & MTND2P28 & ENSG00000225630 & Single exon & + & 631070 & chr1:631070:+ & Pseudogene\\\\\n",
       "\\end{tabular}\n",
       "\n",
       "\\item[\\$MTCO1P12] A data.frame: 20 × 8\n",
       "\\begin{tabular}{r|llllllll}\n",
       "  & Chromosome & Gene.Symbol & Ensemble.ID & Intron.exon.location & Strand & Position & PAS\\_ID & PAS.type\\\\\n",
       "  & <chr> & <chr> & <chr> & <chr> & <chr> & <dbl> & <chr> & <chr>\\\\\n",
       "\\hline\n",
       "\t19 & chr1 & MTCO1P12 & ENSG00000237973 & Single exon & + & 631193 & chr1:631193:+ & Pseudogene\\\\\n",
       "\t20 & chr1 & MTCO1P12 & ENSG00000237973 & Single exon & + & 631399 & chr1:631399:+ & Pseudogene\\\\\n",
       "\t21 & chr1 & MTCO1P12 & ENSG00000237973 & Single exon & + & 631433 & chr1:631433:+ & Pseudogene\\\\\n",
       "\t22 & chr1 & MTCO1P12 & ENSG00000237973 & Single exon & + & 631548 & chr1:631548:+ & Pseudogene\\\\\n",
       "\t23 & chr1 & MTCO1P12 & ENSG00000237973 & Single exon & + & 631579 & chr1:631579:+ & Pseudogene\\\\\n",
       "\t24 & chr1 & MTCO1P12 & ENSG00000237973 & Single exon & + & 631704 & chr1:631704:+ & Pseudogene\\\\\n",
       "\t25 & chr1 & MTCO1P12 & ENSG00000237973 & Single exon & + & 631812 & chr1:631812:+ & Pseudogene\\\\\n",
       "\t26 & chr1 & MTCO1P12 & ENSG00000237973 & Single exon & + & 631869 & chr1:631869:+ & Pseudogene\\\\\n",
       "\t27 & chr1 & MTCO1P12 & ENSG00000237973 & Single exon & + & 631917 & chr1:631917:+ & Pseudogene\\\\\n",
       "\t28 & chr1 & MTCO1P12 & ENSG00000237973 & Single exon & + & 631963 & chr1:631963:+ & Pseudogene\\\\\n",
       "\t29 & chr1 & MTCO1P12 & ENSG00000237973 & Single exon & + & 632107 & chr1:632107:+ & Pseudogene\\\\\n",
       "\t30 & chr1 & MTCO1P12 & ENSG00000237973 & Single exon & + & 632168 & chr1:632168:+ & Pseudogene\\\\\n",
       "\t31 & chr1 & MTCO1P12 & ENSG00000237973 & Single exon & + & 632210 & chr1:632210:+ & Pseudogene\\\\\n",
       "\t32 & chr1 & MTCO1P12 & ENSG00000237973 & Single exon & + & 632247 & chr1:632247:+ & Pseudogene\\\\\n",
       "\t33 & chr1 & MTCO1P12 & ENSG00000237973 & Single exon & + & 632326 & chr1:632326:+ & Pseudogene\\\\\n",
       "\t34 & chr1 & MTCO1P12 & ENSG00000237973 & Single exon & + & 632374 & chr1:632374:+ & Pseudogene\\\\\n",
       "\t35 & chr1 & MTCO1P12 & ENSG00000237973 & Single exon & + & 632403 & chr1:632403:+ & Pseudogene\\\\\n",
       "\t36 & chr1 & MTCO1P12 & ENSG00000237973 & Single exon & + & 632488 & chr1:632488:+ & Pseudogene\\\\\n",
       "\t37 & chr1 & MTCO1P12 & ENSG00000237973 & Single exon & + & 632692 & chr1:632692:+ & Pseudogene\\\\\n",
       "\t38 & chr1 & MTCO1P12 & ENSG00000237973 & Single exon & + & 632742 & chr1:632742:+ & Pseudogene\\\\\n",
       "\\end{tabular}\n",
       "\n",
       "\\item[\\$MTCO2P12] A data.frame: 3 × 8\n",
       "\\begin{tabular}{r|llllllll}\n",
       "  & Chromosome & Gene.Symbol & Ensemble.ID & Intron.exon.location & Strand & Position & PAS\\_ID & PAS.type\\\\\n",
       "  & <chr> & <chr> & <chr> & <chr> & <chr> & <dbl> & <chr> & <chr>\\\\\n",
       "\\hline\n",
       "\t39 & chr1 & MTCO2P12 & ENSG00000229344 & Single exon & + & 633010 & chr1:633010:+ & Pseudogene\\\\\n",
       "\t40 & chr1 & MTCO2P12 & ENSG00000229344 & Single exon & + & 633039 & chr1:633039:+ & Pseudogene\\\\\n",
       "\t41 & chr1 & MTCO2P12 & ENSG00000229344 & Single exon & + & 633118 & chr1:633118:+ & Pseudogene\\\\\n",
       "\\end{tabular}\n",
       "\n",
       "\\item[\\$MTATP8P1] A data.frame: 7 × 8\n",
       "\\begin{tabular}{r|llllllll}\n",
       "  & Chromosome & Gene.Symbol & Ensemble.ID & Intron.exon.location & Strand & Position & PAS\\_ID & PAS.type\\\\\n",
       "  & <chr> & <chr> & <chr> & <chr> & <chr> & <dbl> & <chr> & <chr>\\\\\n",
       "\\hline\n",
       "\t42 & chr1 & MTATP8P1 & ENSG00000240409 & Single exon & + & 633561 & chr1:633561:+ & Pseudogene\\\\\n",
       "\t43 & chr1 & MTATP8P1 & ENSG00000240409 & Single exon & + & 633714 & chr1:633714:+ & Pseudogene\\\\\n",
       "\t45 & chr1 & MTATP8P1 & ENSG00000240409 & Single exon & + & 633836 & chr1:633836:+ & Pseudogene\\\\\n",
       "\t47 & chr1 & MTATP8P1 & ENSG00000240409 & Single exon & + & 634229 & chr1:634229:+ & Pseudogene\\\\\n",
       "\t49 & chr1 & MTATP8P1 & ENSG00000240409 & Single exon & + & 634305 & chr1:634305:+ & Pseudogene\\\\\n",
       "\t51 & chr1 & MTATP8P1 & ENSG00000240409 & Single exon & + & 634338 & chr1:634338:+ & Pseudogene\\\\\n",
       "\t53 & chr1 & MTATP8P1 & ENSG00000240409 & Single exon & + & 634376 & chr1:634376:+ & Pseudogene\\\\\n",
       "\\end{tabular}\n",
       "\n",
       "\\item[\\$MTATP6P1] A data.frame: 13 × 8\n",
       "\\begin{tabular}{r|llllllll}\n",
       "  & Chromosome & Gene.Symbol & Ensemble.ID & Intron.exon.location & Strand & Position & PAS\\_ID & PAS.type\\\\\n",
       "  & <chr> & <chr> & <chr> & <chr> & <chr> & <dbl> & <chr> & <chr>\\\\\n",
       "\\hline\n",
       "\t44 & chr1 & MTATP6P1 & ENSG00000248527 & Single exon & + & 633714 & chr1:633714:+ & Pseudogene\\\\\n",
       "\t46 & chr1 & MTATP6P1 & ENSG00000248527 & Single exon & + & 633836 & chr1:633836:+ & Pseudogene\\\\\n",
       "\t48 & chr1 & MTATP6P1 & ENSG00000248527 & Single exon & + & 634229 & chr1:634229:+ & Pseudogene\\\\\n",
       "\t50 & chr1 & MTATP6P1 & ENSG00000248527 & Single exon & + & 634305 & chr1:634305:+ & Pseudogene\\\\\n",
       "\t52 & chr1 & MTATP6P1 & ENSG00000248527 & Single exon & + & 634338 & chr1:634338:+ & Pseudogene\\\\\n",
       "\t54 & chr1 & MTATP6P1 & ENSG00000248527 & Single exon & + & 634376 & chr1:634376:+ & Pseudogene\\\\\n",
       "\t56 & chr1 & MTATP6P1 & ENSG00000248527 & Single exon & + & 634446 & chr1:634446:+ & Pseudogene\\\\\n",
       "\t58 & chr1 & MTATP6P1 & ENSG00000248527 & Single exon & + & 634496 & chr1:634496:+ & Pseudogene\\\\\n",
       "\t60 & chr1 & MTATP6P1 & ENSG00000248527 & Single exon & + & 634547 & chr1:634547:+ & Pseudogene\\\\\n",
       "\t62 & chr1 & MTATP6P1 & ENSG00000248527 & Single exon & + & 634575 & chr1:634575:+ & Pseudogene\\\\\n",
       "\t64 & chr1 & MTATP6P1 & ENSG00000248527 & Single exon & + & 634602 & chr1:634602:+ & Pseudogene\\\\\n",
       "\t66 & chr1 & MTATP6P1 & ENSG00000248527 & Single exon & + & 634657 & chr1:634657:+ & Pseudogene\\\\\n",
       "\t68 & chr1 & MTATP6P1 & ENSG00000248527 & Single exon & + & 634823 & chr1:634823:+ & Pseudogene\\\\\n",
       "\\end{tabular}\n",
       "\n",
       "\\end{description}\n"
      ],
      "text/markdown": [
       "$MTND1P23\n",
       ":   \n",
       "A data.frame: 6 × 8\n",
       "\n",
       "| <!--/--> | Chromosome &lt;chr&gt; | Gene.Symbol &lt;chr&gt; | Ensemble.ID &lt;chr&gt; | Intron.exon.location &lt;chr&gt; | Strand &lt;chr&gt; | Position &lt;dbl&gt; | PAS_ID &lt;chr&gt; | PAS.type &lt;chr&gt; |\n",
       "|---|---|---|---|---|---|---|---|---|\n",
       "| 1 | chr1 | MTND1P23 | ENSG00000225972 | Single exon | + | 629219 | chr1:629219:+ | Pseudogene |\n",
       "| 2 | chr1 | MTND1P23 | ENSG00000225972 | Single exon | + | 629249 | chr1:629249:+ | Pseudogene |\n",
       "| 3 | chr1 | MTND1P23 | ENSG00000225972 | Single exon | + | 629284 | chr1:629284:+ | Pseudogene |\n",
       "| 4 | chr1 | MTND1P23 | ENSG00000225972 | Single exon | + | 629328 | chr1:629328:+ | Pseudogene |\n",
       "| 5 | chr1 | MTND1P23 | ENSG00000225972 | Single exon | + | 629572 | chr1:629572:+ | Pseudogene |\n",
       "| 6 | chr1 | MTND1P23 | ENSG00000225972 | Single exon | + | 629626 | chr1:629626:+ | Pseudogene |\n",
       "\n",
       "\n",
       "$MTND2P28\n",
       ":   \n",
       "A data.frame: 12 × 8\n",
       "\n",
       "| <!--/--> | Chromosome &lt;chr&gt; | Gene.Symbol &lt;chr&gt; | Ensemble.ID &lt;chr&gt; | Intron.exon.location &lt;chr&gt; | Strand &lt;chr&gt; | Position &lt;dbl&gt; | PAS_ID &lt;chr&gt; | PAS.type &lt;chr&gt; |\n",
       "|---|---|---|---|---|---|---|---|---|\n",
       "| 7 | chr1 | MTND2P28 | ENSG00000225630 | Single exon | + | 629907 | chr1:629907:+ | Pseudogene |\n",
       "| 8 | chr1 | MTND2P28 | ENSG00000225630 | Single exon | + | 630001 | chr1:630001:+ | Pseudogene |\n",
       "| 9 | chr1 | MTND2P28 | ENSG00000225630 | Single exon | + | 630026 | chr1:630026:+ | Pseudogene |\n",
       "| 10 | chr1 | MTND2P28 | ENSG00000225630 | Single exon | + | 630267 | chr1:630267:+ | Pseudogene |\n",
       "| 11 | chr1 | MTND2P28 | ENSG00000225630 | Single exon | + | 630318 | chr1:630318:+ | Pseudogene |\n",
       "| 12 | chr1 | MTND2P28 | ENSG00000225630 | Single exon | + | 630343 | chr1:630343:+ | Pseudogene |\n",
       "| 13 | chr1 | MTND2P28 | ENSG00000225630 | Single exon | + | 630369 | chr1:630369:+ | Pseudogene |\n",
       "| 14 | chr1 | MTND2P28 | ENSG00000225630 | Single exon | + | 630532 | chr1:630532:+ | Pseudogene |\n",
       "| 15 | chr1 | MTND2P28 | ENSG00000225630 | Single exon | + | 630641 | chr1:630641:+ | Pseudogene |\n",
       "| 16 | chr1 | MTND2P28 | ENSG00000225630 | Single exon | + | 630686 | chr1:630686:+ | Pseudogene |\n",
       "| 17 | chr1 | MTND2P28 | ENSG00000225630 | Single exon | + | 630721 | chr1:630721:+ | Pseudogene |\n",
       "| 18 | chr1 | MTND2P28 | ENSG00000225630 | Single exon | + | 631070 | chr1:631070:+ | Pseudogene |\n",
       "\n",
       "\n",
       "$MTCO1P12\n",
       ":   \n",
       "A data.frame: 20 × 8\n",
       "\n",
       "| <!--/--> | Chromosome &lt;chr&gt; | Gene.Symbol &lt;chr&gt; | Ensemble.ID &lt;chr&gt; | Intron.exon.location &lt;chr&gt; | Strand &lt;chr&gt; | Position &lt;dbl&gt; | PAS_ID &lt;chr&gt; | PAS.type &lt;chr&gt; |\n",
       "|---|---|---|---|---|---|---|---|---|\n",
       "| 19 | chr1 | MTCO1P12 | ENSG00000237973 | Single exon | + | 631193 | chr1:631193:+ | Pseudogene |\n",
       "| 20 | chr1 | MTCO1P12 | ENSG00000237973 | Single exon | + | 631399 | chr1:631399:+ | Pseudogene |\n",
       "| 21 | chr1 | MTCO1P12 | ENSG00000237973 | Single exon | + | 631433 | chr1:631433:+ | Pseudogene |\n",
       "| 22 | chr1 | MTCO1P12 | ENSG00000237973 | Single exon | + | 631548 | chr1:631548:+ | Pseudogene |\n",
       "| 23 | chr1 | MTCO1P12 | ENSG00000237973 | Single exon | + | 631579 | chr1:631579:+ | Pseudogene |\n",
       "| 24 | chr1 | MTCO1P12 | ENSG00000237973 | Single exon | + | 631704 | chr1:631704:+ | Pseudogene |\n",
       "| 25 | chr1 | MTCO1P12 | ENSG00000237973 | Single exon | + | 631812 | chr1:631812:+ | Pseudogene |\n",
       "| 26 | chr1 | MTCO1P12 | ENSG00000237973 | Single exon | + | 631869 | chr1:631869:+ | Pseudogene |\n",
       "| 27 | chr1 | MTCO1P12 | ENSG00000237973 | Single exon | + | 631917 | chr1:631917:+ | Pseudogene |\n",
       "| 28 | chr1 | MTCO1P12 | ENSG00000237973 | Single exon | + | 631963 | chr1:631963:+ | Pseudogene |\n",
       "| 29 | chr1 | MTCO1P12 | ENSG00000237973 | Single exon | + | 632107 | chr1:632107:+ | Pseudogene |\n",
       "| 30 | chr1 | MTCO1P12 | ENSG00000237973 | Single exon | + | 632168 | chr1:632168:+ | Pseudogene |\n",
       "| 31 | chr1 | MTCO1P12 | ENSG00000237973 | Single exon | + | 632210 | chr1:632210:+ | Pseudogene |\n",
       "| 32 | chr1 | MTCO1P12 | ENSG00000237973 | Single exon | + | 632247 | chr1:632247:+ | Pseudogene |\n",
       "| 33 | chr1 | MTCO1P12 | ENSG00000237973 | Single exon | + | 632326 | chr1:632326:+ | Pseudogene |\n",
       "| 34 | chr1 | MTCO1P12 | ENSG00000237973 | Single exon | + | 632374 | chr1:632374:+ | Pseudogene |\n",
       "| 35 | chr1 | MTCO1P12 | ENSG00000237973 | Single exon | + | 632403 | chr1:632403:+ | Pseudogene |\n",
       "| 36 | chr1 | MTCO1P12 | ENSG00000237973 | Single exon | + | 632488 | chr1:632488:+ | Pseudogene |\n",
       "| 37 | chr1 | MTCO1P12 | ENSG00000237973 | Single exon | + | 632692 | chr1:632692:+ | Pseudogene |\n",
       "| 38 | chr1 | MTCO1P12 | ENSG00000237973 | Single exon | + | 632742 | chr1:632742:+ | Pseudogene |\n",
       "\n",
       "\n",
       "$MTCO2P12\n",
       ":   \n",
       "A data.frame: 3 × 8\n",
       "\n",
       "| <!--/--> | Chromosome &lt;chr&gt; | Gene.Symbol &lt;chr&gt; | Ensemble.ID &lt;chr&gt; | Intron.exon.location &lt;chr&gt; | Strand &lt;chr&gt; | Position &lt;dbl&gt; | PAS_ID &lt;chr&gt; | PAS.type &lt;chr&gt; |\n",
       "|---|---|---|---|---|---|---|---|---|\n",
       "| 39 | chr1 | MTCO2P12 | ENSG00000229344 | Single exon | + | 633010 | chr1:633010:+ | Pseudogene |\n",
       "| 40 | chr1 | MTCO2P12 | ENSG00000229344 | Single exon | + | 633039 | chr1:633039:+ | Pseudogene |\n",
       "| 41 | chr1 | MTCO2P12 | ENSG00000229344 | Single exon | + | 633118 | chr1:633118:+ | Pseudogene |\n",
       "\n",
       "\n",
       "$MTATP8P1\n",
       ":   \n",
       "A data.frame: 7 × 8\n",
       "\n",
       "| <!--/--> | Chromosome &lt;chr&gt; | Gene.Symbol &lt;chr&gt; | Ensemble.ID &lt;chr&gt; | Intron.exon.location &lt;chr&gt; | Strand &lt;chr&gt; | Position &lt;dbl&gt; | PAS_ID &lt;chr&gt; | PAS.type &lt;chr&gt; |\n",
       "|---|---|---|---|---|---|---|---|---|\n",
       "| 42 | chr1 | MTATP8P1 | ENSG00000240409 | Single exon | + | 633561 | chr1:633561:+ | Pseudogene |\n",
       "| 43 | chr1 | MTATP8P1 | ENSG00000240409 | Single exon | + | 633714 | chr1:633714:+ | Pseudogene |\n",
       "| 45 | chr1 | MTATP8P1 | ENSG00000240409 | Single exon | + | 633836 | chr1:633836:+ | Pseudogene |\n",
       "| 47 | chr1 | MTATP8P1 | ENSG00000240409 | Single exon | + | 634229 | chr1:634229:+ | Pseudogene |\n",
       "| 49 | chr1 | MTATP8P1 | ENSG00000240409 | Single exon | + | 634305 | chr1:634305:+ | Pseudogene |\n",
       "| 51 | chr1 | MTATP8P1 | ENSG00000240409 | Single exon | + | 634338 | chr1:634338:+ | Pseudogene |\n",
       "| 53 | chr1 | MTATP8P1 | ENSG00000240409 | Single exon | + | 634376 | chr1:634376:+ | Pseudogene |\n",
       "\n",
       "\n",
       "$MTATP6P1\n",
       ":   \n",
       "A data.frame: 13 × 8\n",
       "\n",
       "| <!--/--> | Chromosome &lt;chr&gt; | Gene.Symbol &lt;chr&gt; | Ensemble.ID &lt;chr&gt; | Intron.exon.location &lt;chr&gt; | Strand &lt;chr&gt; | Position &lt;dbl&gt; | PAS_ID &lt;chr&gt; | PAS.type &lt;chr&gt; |\n",
       "|---|---|---|---|---|---|---|---|---|\n",
       "| 44 | chr1 | MTATP6P1 | ENSG00000248527 | Single exon | + | 633714 | chr1:633714:+ | Pseudogene |\n",
       "| 46 | chr1 | MTATP6P1 | ENSG00000248527 | Single exon | + | 633836 | chr1:633836:+ | Pseudogene |\n",
       "| 48 | chr1 | MTATP6P1 | ENSG00000248527 | Single exon | + | 634229 | chr1:634229:+ | Pseudogene |\n",
       "| 50 | chr1 | MTATP6P1 | ENSG00000248527 | Single exon | + | 634305 | chr1:634305:+ | Pseudogene |\n",
       "| 52 | chr1 | MTATP6P1 | ENSG00000248527 | Single exon | + | 634338 | chr1:634338:+ | Pseudogene |\n",
       "| 54 | chr1 | MTATP6P1 | ENSG00000248527 | Single exon | + | 634376 | chr1:634376:+ | Pseudogene |\n",
       "| 56 | chr1 | MTATP6P1 | ENSG00000248527 | Single exon | + | 634446 | chr1:634446:+ | Pseudogene |\n",
       "| 58 | chr1 | MTATP6P1 | ENSG00000248527 | Single exon | + | 634496 | chr1:634496:+ | Pseudogene |\n",
       "| 60 | chr1 | MTATP6P1 | ENSG00000248527 | Single exon | + | 634547 | chr1:634547:+ | Pseudogene |\n",
       "| 62 | chr1 | MTATP6P1 | ENSG00000248527 | Single exon | + | 634575 | chr1:634575:+ | Pseudogene |\n",
       "| 64 | chr1 | MTATP6P1 | ENSG00000248527 | Single exon | + | 634602 | chr1:634602:+ | Pseudogene |\n",
       "| 66 | chr1 | MTATP6P1 | ENSG00000248527 | Single exon | + | 634657 | chr1:634657:+ | Pseudogene |\n",
       "| 68 | chr1 | MTATP6P1 | ENSG00000248527 | Single exon | + | 634823 | chr1:634823:+ | Pseudogene |\n",
       "\n",
       "\n",
       "\n",
       "\n"
      ],
      "text/plain": [
       "$MTND1P23\n",
       "  Chromosome Gene.Symbol     Ensemble.ID Intron.exon.location Strand Position\n",
       "1       chr1    MTND1P23 ENSG00000225972          Single exon      +   629219\n",
       "2       chr1    MTND1P23 ENSG00000225972          Single exon      +   629249\n",
       "3       chr1    MTND1P23 ENSG00000225972          Single exon      +   629284\n",
       "4       chr1    MTND1P23 ENSG00000225972          Single exon      +   629328\n",
       "5       chr1    MTND1P23 ENSG00000225972          Single exon      +   629572\n",
       "6       chr1    MTND1P23 ENSG00000225972          Single exon      +   629626\n",
       "         PAS_ID   PAS.type\n",
       "1 chr1:629219:+ Pseudogene\n",
       "2 chr1:629249:+ Pseudogene\n",
       "3 chr1:629284:+ Pseudogene\n",
       "4 chr1:629328:+ Pseudogene\n",
       "5 chr1:629572:+ Pseudogene\n",
       "6 chr1:629626:+ Pseudogene\n",
       "\n",
       "$MTND2P28\n",
       "   Chromosome Gene.Symbol     Ensemble.ID Intron.exon.location Strand Position\n",
       "7        chr1    MTND2P28 ENSG00000225630          Single exon      +   629907\n",
       "8        chr1    MTND2P28 ENSG00000225630          Single exon      +   630001\n",
       "9        chr1    MTND2P28 ENSG00000225630          Single exon      +   630026\n",
       "10       chr1    MTND2P28 ENSG00000225630          Single exon      +   630267\n",
       "11       chr1    MTND2P28 ENSG00000225630          Single exon      +   630318\n",
       "12       chr1    MTND2P28 ENSG00000225630          Single exon      +   630343\n",
       "13       chr1    MTND2P28 ENSG00000225630          Single exon      +   630369\n",
       "14       chr1    MTND2P28 ENSG00000225630          Single exon      +   630532\n",
       "15       chr1    MTND2P28 ENSG00000225630          Single exon      +   630641\n",
       "16       chr1    MTND2P28 ENSG00000225630          Single exon      +   630686\n",
       "17       chr1    MTND2P28 ENSG00000225630          Single exon      +   630721\n",
       "18       chr1    MTND2P28 ENSG00000225630          Single exon      +   631070\n",
       "          PAS_ID   PAS.type\n",
       "7  chr1:629907:+ Pseudogene\n",
       "8  chr1:630001:+ Pseudogene\n",
       "9  chr1:630026:+ Pseudogene\n",
       "10 chr1:630267:+ Pseudogene\n",
       "11 chr1:630318:+ Pseudogene\n",
       "12 chr1:630343:+ Pseudogene\n",
       "13 chr1:630369:+ Pseudogene\n",
       "14 chr1:630532:+ Pseudogene\n",
       "15 chr1:630641:+ Pseudogene\n",
       "16 chr1:630686:+ Pseudogene\n",
       "17 chr1:630721:+ Pseudogene\n",
       "18 chr1:631070:+ Pseudogene\n",
       "\n",
       "$MTCO1P12\n",
       "   Chromosome Gene.Symbol     Ensemble.ID Intron.exon.location Strand Position\n",
       "19       chr1    MTCO1P12 ENSG00000237973          Single exon      +   631193\n",
       "20       chr1    MTCO1P12 ENSG00000237973          Single exon      +   631399\n",
       "21       chr1    MTCO1P12 ENSG00000237973          Single exon      +   631433\n",
       "22       chr1    MTCO1P12 ENSG00000237973          Single exon      +   631548\n",
       "23       chr1    MTCO1P12 ENSG00000237973          Single exon      +   631579\n",
       "24       chr1    MTCO1P12 ENSG00000237973          Single exon      +   631704\n",
       "25       chr1    MTCO1P12 ENSG00000237973          Single exon      +   631812\n",
       "26       chr1    MTCO1P12 ENSG00000237973          Single exon      +   631869\n",
       "27       chr1    MTCO1P12 ENSG00000237973          Single exon      +   631917\n",
       "28       chr1    MTCO1P12 ENSG00000237973          Single exon      +   631963\n",
       "29       chr1    MTCO1P12 ENSG00000237973          Single exon      +   632107\n",
       "30       chr1    MTCO1P12 ENSG00000237973          Single exon      +   632168\n",
       "31       chr1    MTCO1P12 ENSG00000237973          Single exon      +   632210\n",
       "32       chr1    MTCO1P12 ENSG00000237973          Single exon      +   632247\n",
       "33       chr1    MTCO1P12 ENSG00000237973          Single exon      +   632326\n",
       "34       chr1    MTCO1P12 ENSG00000237973          Single exon      +   632374\n",
       "35       chr1    MTCO1P12 ENSG00000237973          Single exon      +   632403\n",
       "36       chr1    MTCO1P12 ENSG00000237973          Single exon      +   632488\n",
       "37       chr1    MTCO1P12 ENSG00000237973          Single exon      +   632692\n",
       "38       chr1    MTCO1P12 ENSG00000237973          Single exon      +   632742\n",
       "          PAS_ID   PAS.type\n",
       "19 chr1:631193:+ Pseudogene\n",
       "20 chr1:631399:+ Pseudogene\n",
       "21 chr1:631433:+ Pseudogene\n",
       "22 chr1:631548:+ Pseudogene\n",
       "23 chr1:631579:+ Pseudogene\n",
       "24 chr1:631704:+ Pseudogene\n",
       "25 chr1:631812:+ Pseudogene\n",
       "26 chr1:631869:+ Pseudogene\n",
       "27 chr1:631917:+ Pseudogene\n",
       "28 chr1:631963:+ Pseudogene\n",
       "29 chr1:632107:+ Pseudogene\n",
       "30 chr1:632168:+ Pseudogene\n",
       "31 chr1:632210:+ Pseudogene\n",
       "32 chr1:632247:+ Pseudogene\n",
       "33 chr1:632326:+ Pseudogene\n",
       "34 chr1:632374:+ Pseudogene\n",
       "35 chr1:632403:+ Pseudogene\n",
       "36 chr1:632488:+ Pseudogene\n",
       "37 chr1:632692:+ Pseudogene\n",
       "38 chr1:632742:+ Pseudogene\n",
       "\n",
       "$MTCO2P12\n",
       "   Chromosome Gene.Symbol     Ensemble.ID Intron.exon.location Strand Position\n",
       "39       chr1    MTCO2P12 ENSG00000229344          Single exon      +   633010\n",
       "40       chr1    MTCO2P12 ENSG00000229344          Single exon      +   633039\n",
       "41       chr1    MTCO2P12 ENSG00000229344          Single exon      +   633118\n",
       "          PAS_ID   PAS.type\n",
       "39 chr1:633010:+ Pseudogene\n",
       "40 chr1:633039:+ Pseudogene\n",
       "41 chr1:633118:+ Pseudogene\n",
       "\n",
       "$MTATP8P1\n",
       "   Chromosome Gene.Symbol     Ensemble.ID Intron.exon.location Strand Position\n",
       "42       chr1    MTATP8P1 ENSG00000240409          Single exon      +   633561\n",
       "43       chr1    MTATP8P1 ENSG00000240409          Single exon      +   633714\n",
       "45       chr1    MTATP8P1 ENSG00000240409          Single exon      +   633836\n",
       "47       chr1    MTATP8P1 ENSG00000240409          Single exon      +   634229\n",
       "49       chr1    MTATP8P1 ENSG00000240409          Single exon      +   634305\n",
       "51       chr1    MTATP8P1 ENSG00000240409          Single exon      +   634338\n",
       "53       chr1    MTATP8P1 ENSG00000240409          Single exon      +   634376\n",
       "          PAS_ID   PAS.type\n",
       "42 chr1:633561:+ Pseudogene\n",
       "43 chr1:633714:+ Pseudogene\n",
       "45 chr1:633836:+ Pseudogene\n",
       "47 chr1:634229:+ Pseudogene\n",
       "49 chr1:634305:+ Pseudogene\n",
       "51 chr1:634338:+ Pseudogene\n",
       "53 chr1:634376:+ Pseudogene\n",
       "\n",
       "$MTATP6P1\n",
       "   Chromosome Gene.Symbol     Ensemble.ID Intron.exon.location Strand Position\n",
       "44       chr1    MTATP6P1 ENSG00000248527          Single exon      +   633714\n",
       "46       chr1    MTATP6P1 ENSG00000248527          Single exon      +   633836\n",
       "48       chr1    MTATP6P1 ENSG00000248527          Single exon      +   634229\n",
       "50       chr1    MTATP6P1 ENSG00000248527          Single exon      +   634305\n",
       "52       chr1    MTATP6P1 ENSG00000248527          Single exon      +   634338\n",
       "54       chr1    MTATP6P1 ENSG00000248527          Single exon      +   634376\n",
       "56       chr1    MTATP6P1 ENSG00000248527          Single exon      +   634446\n",
       "58       chr1    MTATP6P1 ENSG00000248527          Single exon      +   634496\n",
       "60       chr1    MTATP6P1 ENSG00000248527          Single exon      +   634547\n",
       "62       chr1    MTATP6P1 ENSG00000248527          Single exon      +   634575\n",
       "64       chr1    MTATP6P1 ENSG00000248527          Single exon      +   634602\n",
       "66       chr1    MTATP6P1 ENSG00000248527          Single exon      +   634657\n",
       "68       chr1    MTATP6P1 ENSG00000248527          Single exon      +   634823\n",
       "          PAS_ID   PAS.type\n",
       "44 chr1:633714:+ Pseudogene\n",
       "46 chr1:633836:+ Pseudogene\n",
       "48 chr1:634229:+ Pseudogene\n",
       "50 chr1:634305:+ Pseudogene\n",
       "52 chr1:634338:+ Pseudogene\n",
       "54 chr1:634376:+ Pseudogene\n",
       "56 chr1:634446:+ Pseudogene\n",
       "58 chr1:634496:+ Pseudogene\n",
       "60 chr1:634547:+ Pseudogene\n",
       "62 chr1:634575:+ Pseudogene\n",
       "64 chr1:634602:+ Pseudogene\n",
       "66 chr1:634657:+ Pseudogene\n",
       "68 chr1:634823:+ Pseudogene\n"
      ]
     },
     "metadata": {},
     "output_type": "display_data"
    }
   ],
   "source": [
    "library(dplyr)\n",
    "apa_atlas <- readRDS('/data1/APA/Paul_ALS_Data/bams_in/subscelltype_bamfiles/human.PAS.hg38.rds')\n",
    "head(apa_atlas)"
   ]
  },
  {
   "cell_type": "code",
   "execution_count": 3,
   "id": "eb39256c",
   "metadata": {
    "vscode": {
     "languageId": "r"
    }
   },
   "outputs": [],
   "source": [
    "# lets run a rbind all the values of the list apa_atlas and save in a new dataframe\n",
    "\n",
    "apa_atlas_df <- do.call(rbind, apa_atlas)\n"
   ]
  },
  {
   "cell_type": "code",
   "execution_count": 5,
   "id": "e5e3751d",
   "metadata": {
    "vscode": {
     "languageId": "r"
    }
   },
   "outputs": [
    {
     "data": {
      "text/html": [
       "<table class=\"dataframe\">\n",
       "<caption>A data.frame: 6 × 8</caption>\n",
       "<thead>\n",
       "\t<tr><th></th><th scope=col>Chromosome</th><th scope=col>Gene.Symbol</th><th scope=col>Ensemble.ID</th><th scope=col>Intron.exon.location</th><th scope=col>Strand</th><th scope=col>Position</th><th scope=col>PAS_ID</th><th scope=col>PAS.type</th></tr>\n",
       "\t<tr><th></th><th scope=col>&lt;chr&gt;</th><th scope=col>&lt;chr&gt;</th><th scope=col>&lt;chr&gt;</th><th scope=col>&lt;chr&gt;</th><th scope=col>&lt;chr&gt;</th><th scope=col>&lt;dbl&gt;</th><th scope=col>&lt;chr&gt;</th><th scope=col>&lt;chr&gt;</th></tr>\n",
       "</thead>\n",
       "<tbody>\n",
       "\t<tr><th scope=row>MTND1P23.1</th><td>chr1</td><td>MTND1P23</td><td>ENSG00000225972</td><td>Single exon</td><td>+</td><td>629219</td><td>chr1:629219:+</td><td>Pseudogene</td></tr>\n",
       "\t<tr><th scope=row>MTND1P23.2</th><td>chr1</td><td>MTND1P23</td><td>ENSG00000225972</td><td>Single exon</td><td>+</td><td>629249</td><td>chr1:629249:+</td><td>Pseudogene</td></tr>\n",
       "\t<tr><th scope=row>MTND1P23.3</th><td>chr1</td><td>MTND1P23</td><td>ENSG00000225972</td><td>Single exon</td><td>+</td><td>629284</td><td>chr1:629284:+</td><td>Pseudogene</td></tr>\n",
       "\t<tr><th scope=row>MTND1P23.4</th><td>chr1</td><td>MTND1P23</td><td>ENSG00000225972</td><td>Single exon</td><td>+</td><td>629328</td><td>chr1:629328:+</td><td>Pseudogene</td></tr>\n",
       "\t<tr><th scope=row>MTND1P23.5</th><td>chr1</td><td>MTND1P23</td><td>ENSG00000225972</td><td>Single exon</td><td>+</td><td>629572</td><td>chr1:629572:+</td><td>Pseudogene</td></tr>\n",
       "\t<tr><th scope=row>MTND1P23.6</th><td>chr1</td><td>MTND1P23</td><td>ENSG00000225972</td><td>Single exon</td><td>+</td><td>629626</td><td>chr1:629626:+</td><td>Pseudogene</td></tr>\n",
       "</tbody>\n",
       "</table>\n"
      ],
      "text/latex": [
       "A data.frame: 6 × 8\n",
       "\\begin{tabular}{r|llllllll}\n",
       "  & Chromosome & Gene.Symbol & Ensemble.ID & Intron.exon.location & Strand & Position & PAS\\_ID & PAS.type\\\\\n",
       "  & <chr> & <chr> & <chr> & <chr> & <chr> & <dbl> & <chr> & <chr>\\\\\n",
       "\\hline\n",
       "\tMTND1P23.1 & chr1 & MTND1P23 & ENSG00000225972 & Single exon & + & 629219 & chr1:629219:+ & Pseudogene\\\\\n",
       "\tMTND1P23.2 & chr1 & MTND1P23 & ENSG00000225972 & Single exon & + & 629249 & chr1:629249:+ & Pseudogene\\\\\n",
       "\tMTND1P23.3 & chr1 & MTND1P23 & ENSG00000225972 & Single exon & + & 629284 & chr1:629284:+ & Pseudogene\\\\\n",
       "\tMTND1P23.4 & chr1 & MTND1P23 & ENSG00000225972 & Single exon & + & 629328 & chr1:629328:+ & Pseudogene\\\\\n",
       "\tMTND1P23.5 & chr1 & MTND1P23 & ENSG00000225972 & Single exon & + & 629572 & chr1:629572:+ & Pseudogene\\\\\n",
       "\tMTND1P23.6 & chr1 & MTND1P23 & ENSG00000225972 & Single exon & + & 629626 & chr1:629626:+ & Pseudogene\\\\\n",
       "\\end{tabular}\n"
      ],
      "text/markdown": [
       "\n",
       "A data.frame: 6 × 8\n",
       "\n",
       "| <!--/--> | Chromosome &lt;chr&gt; | Gene.Symbol &lt;chr&gt; | Ensemble.ID &lt;chr&gt; | Intron.exon.location &lt;chr&gt; | Strand &lt;chr&gt; | Position &lt;dbl&gt; | PAS_ID &lt;chr&gt; | PAS.type &lt;chr&gt; |\n",
       "|---|---|---|---|---|---|---|---|---|\n",
       "| MTND1P23.1 | chr1 | MTND1P23 | ENSG00000225972 | Single exon | + | 629219 | chr1:629219:+ | Pseudogene |\n",
       "| MTND1P23.2 | chr1 | MTND1P23 | ENSG00000225972 | Single exon | + | 629249 | chr1:629249:+ | Pseudogene |\n",
       "| MTND1P23.3 | chr1 | MTND1P23 | ENSG00000225972 | Single exon | + | 629284 | chr1:629284:+ | Pseudogene |\n",
       "| MTND1P23.4 | chr1 | MTND1P23 | ENSG00000225972 | Single exon | + | 629328 | chr1:629328:+ | Pseudogene |\n",
       "| MTND1P23.5 | chr1 | MTND1P23 | ENSG00000225972 | Single exon | + | 629572 | chr1:629572:+ | Pseudogene |\n",
       "| MTND1P23.6 | chr1 | MTND1P23 | ENSG00000225972 | Single exon | + | 629626 | chr1:629626:+ | Pseudogene |\n",
       "\n"
      ],
      "text/plain": [
       "           Chromosome Gene.Symbol Ensemble.ID     Intron.exon.location Strand\n",
       "MTND1P23.1 chr1       MTND1P23    ENSG00000225972 Single exon          +     \n",
       "MTND1P23.2 chr1       MTND1P23    ENSG00000225972 Single exon          +     \n",
       "MTND1P23.3 chr1       MTND1P23    ENSG00000225972 Single exon          +     \n",
       "MTND1P23.4 chr1       MTND1P23    ENSG00000225972 Single exon          +     \n",
       "MTND1P23.5 chr1       MTND1P23    ENSG00000225972 Single exon          +     \n",
       "MTND1P23.6 chr1       MTND1P23    ENSG00000225972 Single exon          +     \n",
       "           Position PAS_ID        PAS.type  \n",
       "MTND1P23.1 629219   chr1:629219:+ Pseudogene\n",
       "MTND1P23.2 629249   chr1:629249:+ Pseudogene\n",
       "MTND1P23.3 629284   chr1:629284:+ Pseudogene\n",
       "MTND1P23.4 629328   chr1:629328:+ Pseudogene\n",
       "MTND1P23.5 629572   chr1:629572:+ Pseudogene\n",
       "MTND1P23.6 629626   chr1:629626:+ Pseudogene"
      ]
     },
     "metadata": {},
     "output_type": "display_data"
    }
   ],
   "source": [
    "head(apa_atlas_df)"
   ]
  },
  {
   "cell_type": "code",
   "execution_count": 12,
   "id": "cfe9d61a",
   "metadata": {
    "vscode": {
     "languageId": "r"
    }
   },
   "outputs": [
    {
     "data": {
      "text/html": [
       "<table class=\"dataframe\">\n",
       "<caption>A data.frame: 6 × 8</caption>\n",
       "<thead>\n",
       "\t<tr><th></th><th scope=col>Chromosome</th><th scope=col>start</th><th scope=col>end</th><th scope=col>Gene.Symbol</th><th scope=col>Intron.exon.location</th><th scope=col>Strand</th><th scope=col>PAS_ID</th><th scope=col>PAS.type</th></tr>\n",
       "\t<tr><th></th><th scope=col>&lt;chr&gt;</th><th scope=col>&lt;dbl&gt;</th><th scope=col>&lt;dbl&gt;</th><th scope=col>&lt;chr&gt;</th><th scope=col>&lt;chr&gt;</th><th scope=col>&lt;chr&gt;</th><th scope=col>&lt;chr&gt;</th><th scope=col>&lt;chr&gt;</th></tr>\n",
       "</thead>\n",
       "<tbody>\n",
       "\t<tr><th scope=row>MTND1P23.1</th><td>chr1</td><td>629199</td><td>629239</td><td>MTND1P23</td><td>Single exon</td><td>+</td><td>chr1:629219:+</td><td>Pseudogene</td></tr>\n",
       "\t<tr><th scope=row>MTND1P23.2</th><td>chr1</td><td>629229</td><td>629269</td><td>MTND1P23</td><td>Single exon</td><td>+</td><td>chr1:629249:+</td><td>Pseudogene</td></tr>\n",
       "\t<tr><th scope=row>MTND1P23.3</th><td>chr1</td><td>629264</td><td>629304</td><td>MTND1P23</td><td>Single exon</td><td>+</td><td>chr1:629284:+</td><td>Pseudogene</td></tr>\n",
       "\t<tr><th scope=row>MTND1P23.4</th><td>chr1</td><td>629308</td><td>629348</td><td>MTND1P23</td><td>Single exon</td><td>+</td><td>chr1:629328:+</td><td>Pseudogene</td></tr>\n",
       "\t<tr><th scope=row>MTND1P23.5</th><td>chr1</td><td>629552</td><td>629592</td><td>MTND1P23</td><td>Single exon</td><td>+</td><td>chr1:629572:+</td><td>Pseudogene</td></tr>\n",
       "\t<tr><th scope=row>MTND1P23.6</th><td>chr1</td><td>629606</td><td>629646</td><td>MTND1P23</td><td>Single exon</td><td>+</td><td>chr1:629626:+</td><td>Pseudogene</td></tr>\n",
       "</tbody>\n",
       "</table>\n"
      ],
      "text/latex": [
       "A data.frame: 6 × 8\n",
       "\\begin{tabular}{r|llllllll}\n",
       "  & Chromosome & start & end & Gene.Symbol & Intron.exon.location & Strand & PAS\\_ID & PAS.type\\\\\n",
       "  & <chr> & <dbl> & <dbl> & <chr> & <chr> & <chr> & <chr> & <chr>\\\\\n",
       "\\hline\n",
       "\tMTND1P23.1 & chr1 & 629199 & 629239 & MTND1P23 & Single exon & + & chr1:629219:+ & Pseudogene\\\\\n",
       "\tMTND1P23.2 & chr1 & 629229 & 629269 & MTND1P23 & Single exon & + & chr1:629249:+ & Pseudogene\\\\\n",
       "\tMTND1P23.3 & chr1 & 629264 & 629304 & MTND1P23 & Single exon & + & chr1:629284:+ & Pseudogene\\\\\n",
       "\tMTND1P23.4 & chr1 & 629308 & 629348 & MTND1P23 & Single exon & + & chr1:629328:+ & Pseudogene\\\\\n",
       "\tMTND1P23.5 & chr1 & 629552 & 629592 & MTND1P23 & Single exon & + & chr1:629572:+ & Pseudogene\\\\\n",
       "\tMTND1P23.6 & chr1 & 629606 & 629646 & MTND1P23 & Single exon & + & chr1:629626:+ & Pseudogene\\\\\n",
       "\\end{tabular}\n"
      ],
      "text/markdown": [
       "\n",
       "A data.frame: 6 × 8\n",
       "\n",
       "| <!--/--> | Chromosome &lt;chr&gt; | start &lt;dbl&gt; | end &lt;dbl&gt; | Gene.Symbol &lt;chr&gt; | Intron.exon.location &lt;chr&gt; | Strand &lt;chr&gt; | PAS_ID &lt;chr&gt; | PAS.type &lt;chr&gt; |\n",
       "|---|---|---|---|---|---|---|---|---|\n",
       "| MTND1P23.1 | chr1 | 629199 | 629239 | MTND1P23 | Single exon | + | chr1:629219:+ | Pseudogene |\n",
       "| MTND1P23.2 | chr1 | 629229 | 629269 | MTND1P23 | Single exon | + | chr1:629249:+ | Pseudogene |\n",
       "| MTND1P23.3 | chr1 | 629264 | 629304 | MTND1P23 | Single exon | + | chr1:629284:+ | Pseudogene |\n",
       "| MTND1P23.4 | chr1 | 629308 | 629348 | MTND1P23 | Single exon | + | chr1:629328:+ | Pseudogene |\n",
       "| MTND1P23.5 | chr1 | 629552 | 629592 | MTND1P23 | Single exon | + | chr1:629572:+ | Pseudogene |\n",
       "| MTND1P23.6 | chr1 | 629606 | 629646 | MTND1P23 | Single exon | + | chr1:629626:+ | Pseudogene |\n",
       "\n"
      ],
      "text/plain": [
       "           Chromosome start  end    Gene.Symbol Intron.exon.location Strand\n",
       "MTND1P23.1 chr1       629199 629239 MTND1P23    Single exon          +     \n",
       "MTND1P23.2 chr1       629229 629269 MTND1P23    Single exon          +     \n",
       "MTND1P23.3 chr1       629264 629304 MTND1P23    Single exon          +     \n",
       "MTND1P23.4 chr1       629308 629348 MTND1P23    Single exon          +     \n",
       "MTND1P23.5 chr1       629552 629592 MTND1P23    Single exon          +     \n",
       "MTND1P23.6 chr1       629606 629646 MTND1P23    Single exon          +     \n",
       "           PAS_ID        PAS.type  \n",
       "MTND1P23.1 chr1:629219:+ Pseudogene\n",
       "MTND1P23.2 chr1:629249:+ Pseudogene\n",
       "MTND1P23.3 chr1:629284:+ Pseudogene\n",
       "MTND1P23.4 chr1:629328:+ Pseudogene\n",
       "MTND1P23.5 chr1:629572:+ Pseudogene\n",
       "MTND1P23.6 chr1:629626:+ Pseudogene"
      ]
     },
     "metadata": {},
     "output_type": "display_data"
    }
   ],
   "source": [
    "# lets make new dataframe chr, start (Position - 20 if strand +, +20 if strand is negative), end, strand, Gene.Symbol, ntron.exon.location, PAS_ID, PAS.type\n",
    "\n",
    "new_df <- apa_atlas_df %>% select(Chromosome, Position, Strand, Gene.Symbol, Intron.exon.location, PAS_ID, PAS.type) %>%\n",
    " mutate(start = Position - 20, end = Position + 20) %>% \n",
    " select(Chromosome, start, end, Gene.Symbol, Intron.exon.location, Strand, PAS_ID, PAS.type)\n",
    "\n",
    "head(new_df)"
   ]
  },
  {
   "cell_type": "code",
   "execution_count": 13,
   "id": "38aa0d40",
   "metadata": {
    "vscode": {
     "languageId": "r"
    }
   },
   "outputs": [],
   "source": [
    "# ok, lets save the new_df as a bed file # no header and no row names\n",
    "write.table(new_df, file = \"/data1/APA/Paul_ALS_Data/bams_in/subscelltype_bamfiles/human_PAS_hg38.bed\", sep = \"\\t\", quote = FALSE, row.names = FALSE, col.names = FALSE)"
   ]
  },
  {
   "cell_type": "code",
   "execution_count": null,
   "id": "8fb38faf",
   "metadata": {
    "vscode": {
     "languageId": "r"
    }
   },
   "outputs": [],
   "source": [
    "# okk lets write a script to run \n",
    "#  bedtools intersect -wa -a ~/data/human_PAS_hg38.bed -b /khayyam/aiden/data/gene_bams/gene.bam > /khayyam/aiden/data/bed_intersects/gene.bed\n",
    "\n",
    "# first lets list the gene bams, in the gene_bams folder and then run this command for each bam file, \n",
    "# lets have it run on 10 cores (so 10 bams at a time)\n",
    "\n",
    "# in python\n",
    "import os\n",
    "import subprocess\n",
    "import multiprocessing as mp\n",
    "\n",
    "def run_bedtools(bam):\n",
    "    cmd = 'bedtools intersect -wa -s -a /khayyam/aiden/data/human_PAS_hg38.bed -b ' + bam + ' > /khayyam/aiden/data/bed_intersects/' + bam.split('/')[-1].split('.')[0] + '.bed'\n",
    "    print(cmd)\n",
    "    subprocess.call(cmd, shell = True)\n",
    "\n",
    "if __name__ == '__main__':\n",
    "    bamfiles = [os.path.join('/khayyam/aiden/data/gene_bams/', f) for f in os.listdir('/khayyam/aiden/data/gene_bams/') if f.endswith('.bam')]\n",
    "    pool = mp.Pool(10)\n",
    "    pool.map(run_bedtools, bamfiles[0:10])\n"
   ]
  },
  {
   "cell_type": "code",
   "execution_count": null,
   "id": "28128ce8",
   "metadata": {
    "vscode": {
     "languageId": "r"
    }
   },
   "outputs": [],
   "source": [
    "## lets write a function to read in the bed files and count the numbers based on the 7th column (PAS_ID)\n",
    "## and then save the counts as a dataframe, \n",
    "## then next bed file we read in, we will add the counts to the dataframe as a new column\n",
    "\n",
    "import pandas as pd\n",
    "import os\n",
    "\n",
    "def read_bed(bedfile):\n",
    "    df = pd.read_csv(bedfile, sep = '\\t', header = None)\n",
    "    df.columns = ['Chromosome', 'start', 'end', 'Gene.Symbol', 'Intron.exon.location', 'Strand', 'PAS_ID', 'PAS.type']\n",
    "    # count the number of times each PAS_ID appears\n",
    "    counts = df['PAS_ID'].value_counts()\n",
    "    gene_name = bedfile.split('/')[-1].split('.')[0]\n",
    "    # make a new dataframe with the counts as a column and index as PAS_ID, but also the other columns from the original df\n",
    "    df_tmp = pd.DataFrame({'PAS_ID': counts.index, gene_name : counts.values})\n",
    "    return df_tmp.set_index('PAS_ID')\n",
    "\n",
    "\n",
    "if __name__ == '__main__':\n",
    "    bedfiles = [os.path.join('/khayyam/aiden/data/bed_intersects/', f) for f in os.listdir('/khayyam/aiden/data/bed_intersects/') if f.endswith('.bed')]\n",
    "    meta_df = '/khayyam/aiden/data/human_PAS_hg38_sorted.bed'\n",
    "    meta_df = pd.read_csv(meta_df, sep = '\\t', header = None)\n",
    "    df = read_bed(bedfiles[0])\n",
    "    for bedfile in bedfiles[1:]:\n",
    "        df_tmp = read_bed(bedfile)\n",
    "        df = df.merge(df_tmp, on = 'PAS_ID', how = 'outer')\n",
    "        # fill the NaNs with 0\n",
    "        df = df.fillna(0)\n",
    "    # lets get the 'Chromosome', 'start', 'end', 'Gene.Symbol', 'Intron.exon.location', 'Strand', 'PAS.type' \n",
    "        # columns from the meta_df, mappping using the PAS_ID\n",
    "    df = df.merge(meta_df, left_index = True, right_on = 6, how = 'left')\n",
    "    df.to_csv('/khayyam/aiden/data/bed_intersects/counts.csv')"
   ]
  }
 ],
 "metadata": {
  "kernelspec": {
   "display_name": "R",
   "language": "R",
   "name": "ir"
  },
  "language_info": {
   "codemirror_mode": "r",
   "file_extension": ".r",
   "mimetype": "text/x-r-source",
   "name": "R",
   "pygments_lexer": "r",
   "version": "4.1.0"
  }
 },
 "nbformat": 4,
 "nbformat_minor": 5
}
